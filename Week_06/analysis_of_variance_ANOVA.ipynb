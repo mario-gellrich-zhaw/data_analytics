{
 "cells": [
  {
   "cell_type": "markdown",
   "id": "3f5e976f",
   "metadata": {},
   "source": [
    "# Analysis of variance (ANOVA)"
   ]
  },
  {
   "cell_type": "markdown",
   "id": "9b881ea7",
   "metadata": {},
   "source": [
    "## Libraries and settings"
   ]
  },
  {
   "cell_type": "code",
   "execution_count": 14,
   "id": "288dd545",
   "metadata": {},
   "outputs": [
    {
     "name": "stdout",
     "output_type": "stream",
     "text": [
      "Current working directory: /workspaces/data_analytics/Week_06\n"
     ]
    }
   ],
   "source": [
    "# Libraries\n",
    "import os\n",
    "import pandas as pd\n",
    "import matplotlib.pyplot as plt\n",
    "import seaborn as sns\n",
    "import numpy as np\n",
    "import scipy.stats as stats\n",
    "\n",
    "# Settings for seaborn\n",
    "sns.set_theme(style=\"ticks\", palette=\"pastel\")\n",
    "\n",
    "# Ignore warnings\n",
    "import warnings\n",
    "warnings.filterwarnings(\"ignore\")\n",
    "\n",
    "# Get current working directory\n",
    "print('Current working directory:', os.getcwd())"
   ]
  },
  {
   "cell_type": "markdown",
   "id": "1fae2175",
   "metadata": {},
   "source": [
    "## Read example data (used car data)"
   ]
  },
  {
   "cell_type": "code",
   "execution_count": 15,
   "id": "3edcea41",
   "metadata": {},
   "outputs": [
    {
     "name": "stdout",
     "output_type": "stream",
     "text": [
      "Make\n",
      "VW      20\n",
      "BMW     20\n",
      "Fiat    20\n",
      "Name: count, dtype: int64\n"
     ]
    },
    {
     "data": {
      "text/html": [
       "<div>\n",
       "<style scoped>\n",
       "    .dataframe tbody tr th:only-of-type {\n",
       "        vertical-align: middle;\n",
       "    }\n",
       "\n",
       "    .dataframe tbody tr th {\n",
       "        vertical-align: top;\n",
       "    }\n",
       "\n",
       "    .dataframe thead th {\n",
       "        text-align: right;\n",
       "    }\n",
       "</style>\n",
       "<table border=\"1\" class=\"dataframe\">\n",
       "  <thead>\n",
       "    <tr style=\"text-align: right;\">\n",
       "      <th></th>\n",
       "      <th>Make</th>\n",
       "      <th>Price</th>\n",
       "    </tr>\n",
       "  </thead>\n",
       "  <tbody>\n",
       "    <tr>\n",
       "      <th>0</th>\n",
       "      <td>VW</td>\n",
       "      <td>29000</td>\n",
       "    </tr>\n",
       "    <tr>\n",
       "      <th>1</th>\n",
       "      <td>VW</td>\n",
       "      <td>38000</td>\n",
       "    </tr>\n",
       "    <tr>\n",
       "      <th>2</th>\n",
       "      <td>VW</td>\n",
       "      <td>33000</td>\n",
       "    </tr>\n",
       "    <tr>\n",
       "      <th>3</th>\n",
       "      <td>VW</td>\n",
       "      <td>64000</td>\n",
       "    </tr>\n",
       "    <tr>\n",
       "      <th>4</th>\n",
       "      <td>VW</td>\n",
       "      <td>52000</td>\n",
       "    </tr>\n",
       "  </tbody>\n",
       "</table>\n",
       "</div>"
      ],
      "text/plain": [
       "  Make  Price\n",
       "0   VW  29000\n",
       "1   VW  38000\n",
       "2   VW  33000\n",
       "3   VW  64000\n",
       "4   VW  52000"
      ]
     },
     "execution_count": 15,
     "metadata": {},
     "output_type": "execute_result"
    }
   ],
   "source": [
    "# Read data\n",
    "df = pd.read_excel('t-tests_and_ANOVA.xlsx', sheet_name='anova_data')\n",
    "\n",
    "# Show categories of 'Make'\n",
    "print(df['Make'].value_counts())\n",
    "\n",
    "# Show header\n",
    "df.head()"
   ]
  },
  {
   "cell_type": "markdown",
   "id": "19c03873",
   "metadata": {},
   "source": [
    "## Create pivot table of mean price per make"
   ]
  },
  {
   "cell_type": "code",
   "execution_count": 16,
   "id": "ba003cb5",
   "metadata": {},
   "outputs": [
    {
     "name": "stdout",
     "output_type": "stream",
     "text": [
      "Make       BMW     Fiat       VW\n",
      "Price  54000.0  34000.0  41950.0\n"
     ]
    }
   ],
   "source": [
    "# Create pivot table\n",
    "table = pd.pivot_table(df, \n",
    "                       values='Price',\n",
    "                       columns=['Make'], \n",
    "                       aggfunc=np.mean)\n",
    "print(table)"
   ]
  },
  {
   "cell_type": "markdown",
   "id": "4fb64a25",
   "metadata": {},
   "source": [
    "## Create grouped boxplot (groups = make, values = prices)"
   ]
  },
  {
   "cell_type": "code",
   "execution_count": 17,
   "id": "7c078db1",
   "metadata": {},
   "outputs": [
    {
     "data": {
      "image/png": "[encoded data removed]",
      "text/plain": [
       "<Figure size 800x200 with 1 Axes>"
      ]
     },
     "metadata": {},
     "output_type": "display_data"
    }
   ],
   "source": [
    "# Plot boxplot with groups\n",
    "plt.figure(figsize=(8,2))\n",
    "ax = sns.boxplot(x=\"Price\",\n",
    "                 y=\"Make\",\n",
    "                 palette=['r', 'g', 'b'],\n",
    "                 data=df,\n",
    "                 orient='h')\n",
    "plt.grid()\n",
    "plt.show()"
   ]
  },
  {
   "cell_type": "markdown",
   "id": "aa5e5add",
   "metadata": {},
   "source": [
    "## Analysis of variance (ANOVA)"
   ]
  },
  {
   "cell_type": "code",
   "execution_count": 18,
   "id": "f2f6e499",
   "metadata": {},
   "outputs": [
    {
     "name": "stdout",
     "output_type": "stream",
     "text": [
      "F-value: 9.79059 p-value 0.00022\n"
     ]
    }
   ],
   "source": [
    "# Create subsets (groups)\n",
    "vw = df.loc[df['Make'] == 'VW']\n",
    "bmw = df.loc[df['Make'] == 'BMW']\n",
    "fiat = df.loc[df['Make'] == 'Fiat']\n",
    "\n",
    "# Create ANOVA\n",
    "fvalue, pvalue = stats.f_oneway(vw['Price'],\n",
    "                                fiat['Price'], \n",
    "                                bmw['Price'])\n",
    "\n",
    "# Print results\n",
    "print('F-value:', fvalue.round(5), 'p-value', pvalue.round(5))"
   ]
  },
  {
   "cell_type": "markdown",
   "id": "1d460d6b",
   "metadata": {},
   "source": [
    "## Interpretation of result"
   ]
  },
  {
   "cell_type": "markdown",
   "id": "f56681c7",
   "metadata": {},
   "source": [
    "<p> Because the p-value is lower than 0.05, the null hypothesis can be rejected, i.e. there is evidence that the used car prices of VW, BMW and Fiat differ. Note that, from the ANOVA, it is not clear which groups show differences of prices. For this a post-hoc test could be used (not part of the exercises).</p>"
   ]
  },
  {
   "cell_type": "markdown",
   "id": "cf81c86c",
   "metadata": {},
   "source": [
    "## Importing apartment data"
   ]
  },
  {
   "cell_type": "code",
   "execution_count": 19,
   "id": "0d9ecff5",
   "metadata": {},
   "outputs": [
    {
     "name": "stdout",
     "output_type": "stream",
     "text": [
      "(774, 15)\n"
     ]
    },
    {
     "data": {
      "text/html": [
       "<div>\n",
       "<style scoped>\n",
       "    .dataframe tbody tr th:only-of-type {\n",
       "        vertical-align: middle;\n",
       "    }\n",
       "\n",
       "    .dataframe tbody tr th {\n",
       "        vertical-align: top;\n",
       "    }\n",
       "\n",
       "    .dataframe thead th {\n",
       "        text-align: right;\n",
       "    }\n",
       "</style>\n",
       "<table border=\"1\" class=\"dataframe\">\n",
       "  <thead>\n",
       "    <tr style=\"text-align: right;\">\n",
       "      <th></th>\n",
       "      <th>web-scraper-order</th>\n",
       "      <th>address_raw</th>\n",
       "      <th>lat</th>\n",
       "      <th>lon</th>\n",
       "      <th>bfs_number</th>\n",
       "      <th>bfs_name</th>\n",
       "      <th>rooms</th>\n",
       "      <th>area</th>\n",
       "      <th>luxurious</th>\n",
       "      <th>price</th>\n",
       "      <th>price_per_m2</th>\n",
       "      <th>pop_dens</th>\n",
       "      <th>frg_pct</th>\n",
       "      <th>mean_taxable_income</th>\n",
       "      <th>dist_supermarket</th>\n",
       "    </tr>\n",
       "  </thead>\n",
       "  <tbody>\n",
       "    <tr>\n",
       "      <th>0</th>\n",
       "      <td>1693998201-1</td>\n",
       "      <td>Neuhusstrasse 6, 8630 Rüti ZH, ZH</td>\n",
       "      <td>47.252171</td>\n",
       "      <td>8.845797</td>\n",
       "      <td>118</td>\n",
       "      <td>Rüti (ZH)</td>\n",
       "      <td>3.0</td>\n",
       "      <td>49</td>\n",
       "      <td>0</td>\n",
       "      <td>1441</td>\n",
       "      <td>29.41</td>\n",
       "      <td>1221.272366</td>\n",
       "      <td>24.841283</td>\n",
       "      <td>65362.04268</td>\n",
       "      <td>645.652248</td>\n",
       "    </tr>\n",
       "    <tr>\n",
       "      <th>1</th>\n",
       "      <td>1693998233-172</td>\n",
       "      <td>Widacherstrasse 5, 8630 Rüti ZH, ZH</td>\n",
       "      <td>47.252087</td>\n",
       "      <td>8.854919</td>\n",
       "      <td>118</td>\n",
       "      <td>Rüti (ZH)</td>\n",
       "      <td>3.0</td>\n",
       "      <td>111</td>\n",
       "      <td>0</td>\n",
       "      <td>2600</td>\n",
       "      <td>23.42</td>\n",
       "      <td>1221.272366</td>\n",
       "      <td>24.841283</td>\n",
       "      <td>65362.04268</td>\n",
       "      <td>265.102153</td>\n",
       "    </tr>\n",
       "    <tr>\n",
       "      <th>2</th>\n",
       "      <td>1693998256-331</td>\n",
       "      <td>Widenweg 14, 8630 Rüti ZH, ZH</td>\n",
       "      <td>47.253670</td>\n",
       "      <td>8.853993</td>\n",
       "      <td>118</td>\n",
       "      <td>Rüti (ZH)</td>\n",
       "      <td>3.0</td>\n",
       "      <td>58</td>\n",
       "      <td>0</td>\n",
       "      <td>1490</td>\n",
       "      <td>25.69</td>\n",
       "      <td>1221.272366</td>\n",
       "      <td>24.841283</td>\n",
       "      <td>65362.04268</td>\n",
       "      <td>94.401821</td>\n",
       "    </tr>\n",
       "    <tr>\n",
       "      <th>3</th>\n",
       "      <td>1693998265-381</td>\n",
       "      <td>Rain 1, 8630 Rüti ZH, ZH</td>\n",
       "      <td>47.259834</td>\n",
       "      <td>8.851705</td>\n",
       "      <td>118</td>\n",
       "      <td>Rüti (ZH)</td>\n",
       "      <td>4.0</td>\n",
       "      <td>118</td>\n",
       "      <td>0</td>\n",
       "      <td>3240</td>\n",
       "      <td>27.46</td>\n",
       "      <td>1221.272366</td>\n",
       "      <td>24.841283</td>\n",
       "      <td>65362.04268</td>\n",
       "      <td>106.660970</td>\n",
       "    </tr>\n",
       "    <tr>\n",
       "      <th>4</th>\n",
       "      <td>1693998276-419</td>\n",
       "      <td>Bachtelstrasse 24b, 8630 Rüti ZH, ZH</td>\n",
       "      <td>47.266113</td>\n",
       "      <td>8.866872</td>\n",
       "      <td>118</td>\n",
       "      <td>Rüti (ZH)</td>\n",
       "      <td>3.0</td>\n",
       "      <td>66</td>\n",
       "      <td>0</td>\n",
       "      <td>1450</td>\n",
       "      <td>21.97</td>\n",
       "      <td>1221.272366</td>\n",
       "      <td>24.841283</td>\n",
       "      <td>65362.04268</td>\n",
       "      <td>974.844209</td>\n",
       "    </tr>\n",
       "  </tbody>\n",
       "</table>\n",
       "</div>"
      ],
      "text/plain": [
       "  web-scraper-order                           address_raw        lat  \\\n",
       "0      1693998201-1     Neuhusstrasse 6, 8630 Rüti ZH, ZH  47.252171   \n",
       "1    1693998233-172   Widacherstrasse 5, 8630 Rüti ZH, ZH  47.252087   \n",
       "2    1693998256-331         Widenweg 14, 8630 Rüti ZH, ZH  47.253670   \n",
       "3    1693998265-381              Rain 1, 8630 Rüti ZH, ZH  47.259834   \n",
       "4    1693998276-419  Bachtelstrasse 24b, 8630 Rüti ZH, ZH  47.266113   \n",
       "\n",
       "        lon  bfs_number   bfs_name  rooms  area  luxurious  price  \\\n",
       "0  8.845797         118  Rüti (ZH)    3.0    49          0   1441   \n",
       "1  8.854919         118  Rüti (ZH)    3.0   111          0   2600   \n",
       "2  8.853993         118  Rüti (ZH)    3.0    58          0   1490   \n",
       "3  8.851705         118  Rüti (ZH)    4.0   118          0   3240   \n",
       "4  8.866872         118  Rüti (ZH)    3.0    66          0   1450   \n",
       "\n",
       "   price_per_m2     pop_dens    frg_pct  mean_taxable_income  dist_supermarket  \n",
       "0         29.41  1221.272366  24.841283          65362.04268        645.652248  \n",
       "1         23.42  1221.272366  24.841283          65362.04268        265.102153  \n",
       "2         25.69  1221.272366  24.841283          65362.04268         94.401821  \n",
       "3         27.46  1221.272366  24.841283          65362.04268        106.660970  \n",
       "4         21.97  1221.272366  24.841283          65362.04268        974.844209  "
      ]
     },
     "execution_count": 19,
     "metadata": {},
     "output_type": "execute_result"
    }
   ],
   "source": [
    "# Read the data to a pandas data frame\n",
    "df = pd.read_csv('apartments_data_enriched_cleaned.csv', \n",
    "                 sep=';', \n",
    "                 encoding='utf-8')[['web-scraper-order',\n",
    "                                    'address_raw',\n",
    "                                    'lat',\n",
    "                                    'lon',\n",
    "                                    'bfs_number',\n",
    "                                    'bfs_name',\n",
    "                                    'rooms', \n",
    "                                    'area', \n",
    "                                    'luxurious', \n",
    "                                    'price', \n",
    "                                    'price_per_m2',\n",
    "                                    'pop_dens',\n",
    "                                    'frg_pct',\n",
    "                                    'mean_taxable_income',\n",
    "                                    'dist_supermarket']]\n",
    "\n",
    "# Get number of rows and columns\n",
    "print(df.shape)\n",
    "\n",
    "# Show first records\n",
    "df.head(5)"
   ]
  },
  {
   "cell_type": "markdown",
   "id": "b302b2ab",
   "metadata": {},
   "source": [
    "## Create pivot table with mean price_per_m2 per room size"
   ]
  },
  {
   "cell_type": "code",
   "execution_count": 20,
   "id": "af5af519",
   "metadata": {},
   "outputs": [
    {
     "data": {
      "text/html": [
       "<div>\n",
       "<style scoped>\n",
       "    .dataframe tbody tr th:only-of-type {\n",
       "        vertical-align: middle;\n",
       "    }\n",
       "\n",
       "    .dataframe tbody tr th {\n",
       "        vertical-align: top;\n",
       "    }\n",
       "\n",
       "    .dataframe thead tr th {\n",
       "        text-align: left;\n",
       "    }\n",
       "\n",
       "    .dataframe thead tr:last-of-type th {\n",
       "        text-align: right;\n",
       "    }\n",
       "</style>\n",
       "<table border=\"1\" class=\"dataframe\">\n",
       "  <thead>\n",
       "    <tr>\n",
       "      <th></th>\n",
       "      <th>mean</th>\n",
       "      <th>count</th>\n",
       "    </tr>\n",
       "    <tr>\n",
       "      <th></th>\n",
       "      <th>price_per_m2</th>\n",
       "      <th>price_per_m2</th>\n",
       "    </tr>\n",
       "    <tr>\n",
       "      <th>rooms</th>\n",
       "      <th></th>\n",
       "      <th></th>\n",
       "    </tr>\n",
       "  </thead>\n",
       "  <tbody>\n",
       "    <tr>\n",
       "      <th>1.0</th>\n",
       "      <td>47.140400</td>\n",
       "      <td>50</td>\n",
       "    </tr>\n",
       "    <tr>\n",
       "      <th>1.5</th>\n",
       "      <td>59.417576</td>\n",
       "      <td>33</td>\n",
       "    </tr>\n",
       "    <tr>\n",
       "      <th>2.0</th>\n",
       "      <td>40.757105</td>\n",
       "      <td>38</td>\n",
       "    </tr>\n",
       "    <tr>\n",
       "      <th>2.5</th>\n",
       "      <td>37.391631</td>\n",
       "      <td>141</td>\n",
       "    </tr>\n",
       "    <tr>\n",
       "      <th>3.0</th>\n",
       "      <td>28.677955</td>\n",
       "      <td>44</td>\n",
       "    </tr>\n",
       "    <tr>\n",
       "      <th>3.5</th>\n",
       "      <td>29.942956</td>\n",
       "      <td>203</td>\n",
       "    </tr>\n",
       "    <tr>\n",
       "      <th>4.0</th>\n",
       "      <td>29.646429</td>\n",
       "      <td>28</td>\n",
       "    </tr>\n",
       "    <tr>\n",
       "      <th>4.5</th>\n",
       "      <td>26.493436</td>\n",
       "      <td>163</td>\n",
       "    </tr>\n",
       "    <tr>\n",
       "      <th>5.0</th>\n",
       "      <td>26.376667</td>\n",
       "      <td>3</td>\n",
       "    </tr>\n",
       "    <tr>\n",
       "      <th>5.5</th>\n",
       "      <td>23.587500</td>\n",
       "      <td>52</td>\n",
       "    </tr>\n",
       "    <tr>\n",
       "      <th>6.0</th>\n",
       "      <td>22.365000</td>\n",
       "      <td>2</td>\n",
       "    </tr>\n",
       "    <tr>\n",
       "      <th>6.5</th>\n",
       "      <td>24.638182</td>\n",
       "      <td>11</td>\n",
       "    </tr>\n",
       "    <tr>\n",
       "      <th>7.0</th>\n",
       "      <td>36.325000</td>\n",
       "      <td>2</td>\n",
       "    </tr>\n",
       "    <tr>\n",
       "      <th>7.5</th>\n",
       "      <td>23.273333</td>\n",
       "      <td>3</td>\n",
       "    </tr>\n",
       "    <tr>\n",
       "      <th>8.5</th>\n",
       "      <td>40.480000</td>\n",
       "      <td>1</td>\n",
       "    </tr>\n",
       "  </tbody>\n",
       "</table>\n",
       "</div>"
      ],
      "text/plain": [
       "              mean        count\n",
       "      price_per_m2 price_per_m2\n",
       "rooms                          \n",
       "1.0      47.140400           50\n",
       "1.5      59.417576           33\n",
       "2.0      40.757105           38\n",
       "2.5      37.391631          141\n",
       "3.0      28.677955           44\n",
       "3.5      29.942956          203\n",
       "4.0      29.646429           28\n",
       "4.5      26.493436          163\n",
       "5.0      26.376667            3\n",
       "5.5      23.587500           52\n",
       "6.0      22.365000            2\n",
       "6.5      24.638182           11\n",
       "7.0      36.325000            2\n",
       "7.5      23.273333            3\n",
       "8.5      40.480000            1"
      ]
     },
     "execution_count": 20,
     "metadata": {},
     "output_type": "execute_result"
    }
   ],
   "source": [
    "# Using pivot_table to reshape the data and calculate means \n",
    "pd.pivot_table(df[['rooms', 'price_per_m2']],\n",
    "               index=['rooms'],\n",
    "               values=['price_per_m2'],\n",
    "               aggfunc=[np.mean, 'count'])"
   ]
  },
  {
   "cell_type": "markdown",
   "id": "42e68cbc",
   "metadata": {},
   "source": [
    "## Create grouped boxplot (groups = rooms, values = prices_per_m2)"
   ]
  },
  {
   "cell_type": "code",
   "execution_count": 21,
   "id": "a1f9ca28",
   "metadata": {},
   "outputs": [
    {
     "data": {
      "image/png": "[encoded data removed]",
      "text/plain": [
       "<Figure size 800x400 with 1 Axes>"
      ]
     },
     "metadata": {},
     "output_type": "display_data"
    }
   ],
   "source": [
    "# Plot boxplot with groups\n",
    "plt.figure(figsize=(8,4))\n",
    "ax = sns.boxplot(x=\"price_per_m2\",\n",
    "                 y=\"rooms\",\n",
    "                 data=df,\n",
    "                 orient='h')\n",
    "plt.grid()\n",
    "plt.show()"
   ]
  },
  {
   "cell_type": "markdown",
   "id": "817af4d2",
   "metadata": {},
   "source": [
    "## ANOVA to compare the price_per_m2 per number of rooms (= groups)"
   ]
  },
  {
   "cell_type": "code",
   "execution_count": 22,
   "id": "7c8696f0",
   "metadata": {},
   "outputs": [
    {
     "name": "stdout",
     "output_type": "stream",
     "text": [
      "F-value: 34.26 p-value 0.0\n"
     ]
    }
   ],
   "source": [
    "# Create subsets (groups)\n",
    "r2_5 = df.loc[df['rooms'] == 2.5]['price_per_m2']\n",
    "r3_5 = df.loc[df['rooms'] == 3.5]['price_per_m2']\n",
    "r4_5 = df.loc[df['rooms'] == 4.5]['price_per_m2']\n",
    "\n",
    "# Create ANOVA\n",
    "fvalue, pvalue = stats.f_oneway(r2_5, r3_5, r4_5)\n",
    "\n",
    "# Print results\n",
    "print('F-value:', fvalue.round(3), 'p-value', pvalue.round(4))"
   ]
  },
  {
   "cell_type": "markdown",
   "id": "ea81580c",
   "metadata": {},
   "source": [
    "## Interpretation of result"
   ]
  },
  {
   "cell_type": "markdown",
   "id": "c2016b55",
   "metadata": {},
   "source": [
    "<p> Because the p-value is lower than 0.05, the null hypothesis can be rejected, i.e. there is evidence that the price per m2 differ between apartments with 2.5, 3.5 and 4.5 rooms. Note that, from the ANOVA, it is not clear which groups show price differences. For this a post-hoc test could be used (not part of the exercises).</p>"
   ]
  },
  {
   "cell_type": "markdown",
   "id": "aa2f6321",
   "metadata": {},
   "source": [
    "## TASK 3 (C)"
   ]
  },
  {
   "cell_type": "code",
   "execution_count": 23,
   "id": "4c6e0043",
   "metadata": {},
   "outputs": [
    {
     "name": "stdout",
     "output_type": "stream",
     "text": [
      "Test-statistic: 91.27226 p-value 0.0\n"
     ]
    }
   ],
   "source": [
    "low_pop_dens = df.loc[df['pop_dens'] <= 600]['price_per_m2']\n",
    "mod_pop_dens = df.loc[(df['pop_dens'] > 600) & (df['pop_dens'] <= 1500), 'price_per_m2']\n",
    "high_pop_dens = df.loc[df['pop_dens'] > 1500]['price_per_m2']\n",
    "\n",
    "# Create t-test\n",
    "result = stats.f_oneway(low_pop_dens, mod_pop_dens, high_pop_dens)\n",
    "\n",
    "# Print result\n",
    "print('Test-statistic:', result[0].round(5), 'p-value',  result[1].round(5))"
   ]
  },
  {
   "cell_type": "markdown",
   "id": "bb3f2339",
   "metadata": {},
   "source": [
    "## Interpretation of result"
   ]
  },
  {
   "cell_type": "markdown",
   "id": "47952a7a",
   "metadata": {},
   "source": [
    "<p>Es gibt einen signifikanten Unterschied in den Preisen pro m² der Mietwohnungen zwischen den drei Gruppen von Gemeinden.</p>"
   ]
  },
  {
   "cell_type": "markdown",
   "id": "db1a6380",
   "metadata": {},
   "source": [
    "## TASK 3 (D)"
   ]
  },
  {
   "cell_type": "code",
   "execution_count": 24,
   "id": "f4ae9f19",
   "metadata": {},
   "outputs": [
    {
     "name": "stdout",
     "output_type": "stream",
     "text": [
      "Test-statistic: 28.47752 p-value 0.0\n"
     ]
    }
   ],
   "source": [
    "low_pop_dens = df.loc[df['pop_dens'] <= 600]['area']\n",
    "mod_pop_dens = df.loc[(df['pop_dens'] > 600) & (df['pop_dens'] <= 1500), 'area']\n",
    "high_pop_dens = df.loc[df['pop_dens'] > 1500]['area']\n",
    "\n",
    "# Create t-test\n",
    "result = stats.f_oneway(low_pop_dens, mod_pop_dens, high_pop_dens)\n",
    "\n",
    "# Print result\n",
    "print('Test-statistic:', result[0].round(5), 'p-value',  result[1].round(5))"
   ]
  },
  {
   "cell_type": "markdown",
   "id": "a3f8cb1a",
   "metadata": {},
   "source": [
    "## Interpretation of result"
   ]
  },
  {
   "cell_type": "markdown",
   "id": "93245cc4",
   "metadata": {},
   "source": [
    "<p>Es gibt einen signifikanten Unterschied in den Flächen der Mietwohnungen zwischen den drei Gruppen von Gemeinden.</p>"
   ]
  },
  {
   "cell_type": "markdown",
   "id": "e2c5a3be",
   "metadata": {},
   "source": [
    "## TASK 3 (E)"
   ]
  },
  {
   "cell_type": "code",
   "execution_count": 25,
   "id": "933fe588",
   "metadata": {},
   "outputs": [
    {
     "name": "stdout",
     "output_type": "stream",
     "text": [
      "Test-statistic: 41.04343 p-value 0.0\n"
     ]
    }
   ],
   "source": [
    "low_pop_dens = df.loc[df['pop_dens'] <= 600]['rooms']\n",
    "mod_pop_dens = df.loc[(df['pop_dens'] > 600) & (df['pop_dens'] <= 1500), 'rooms']\n",
    "high_pop_dens = df.loc[df['pop_dens'] > 1500]['rooms']\n",
    "\n",
    "# Create t-test\n",
    "result = stats.f_oneway(low_pop_dens, mod_pop_dens, high_pop_dens)\n",
    "\n",
    "# Print result\n",
    "print('Test-statistic:', result[0].round(5), 'p-value',  result[1].round(5))"
   ]
  },
  {
   "cell_type": "markdown",
   "id": "02e6054b",
   "metadata": {},
   "source": [
    "## Interpretation of result"
   ]
  },
  {
   "cell_type": "markdown",
   "id": "974419a7",
   "metadata": {},
   "source": [
    "<p>Es gibt einen signifikanten Unterschied in der Anzahl der Zimmer von Mietwohnungen zwischen den drei Gruppen von Gemeinden.</p>"
   ]
  },
  {
   "cell_type": "markdown",
   "id": "70b9ecbd",
   "metadata": {},
   "source": [
    "### Jupyter notebook --footer info-- (please always provide this at the end of each submitted notebook)"
   ]
  },
  {
   "cell_type": "code",
   "execution_count": 26,
   "id": "2a4d9b9d",
   "metadata": {},
   "outputs": [
    {
     "name": "stdout",
     "output_type": "stream",
     "text": [
      "-----------------------------------\n",
      "POSIX\n",
      "Linux | 6.5.0-1025-azure\n",
      "Datetime: 2024-10-26 09:43:42\n",
      "Python Version: 3.11.10\n",
      "-----------------------------------\n"
     ]
    }
   ],
   "source": [
    "import os\n",
    "import platform\n",
    "import socket\n",
    "from platform import python_version\n",
    "from datetime import datetime\n",
    "\n",
    "print('-----------------------------------')\n",
    "print(os.name.upper())\n",
    "print(platform.system(), '|', platform.release())\n",
    "print('Datetime:', datetime.now().strftime(\"%Y-%m-%d %H:%M:%S\"))\n",
    "print('Python Version:', python_version())\n",
    "print('-----------------------------------')"
   ]
  }
 ],
 "metadata": {
  "kernelspec": {
   "display_name": "Python 3",
   "language": "python",
   "name": "python3"
  },
  "language_info": {
   "codemirror_mode": {
    "name": "ipython",
    "version": 3
   },
   "file_extension": ".py",
   "mimetype": "text/x-python",
   "name": "python",
   "nbconvert_exporter": "python",
   "pygments_lexer": "ipython3",
   "version": "3.11.10"
  }
 },
 "nbformat": 4,
 "nbformat_minor": 5
}
