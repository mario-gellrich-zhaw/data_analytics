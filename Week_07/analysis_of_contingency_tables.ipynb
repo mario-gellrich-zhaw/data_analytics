{
 "cells": [
  {
   "cell_type": "markdown",
   "id": "3d6541ed",
   "metadata": {},
   "source": [
    "# Analysis of contingency tables"
   ]
  },
  {
   "cell_type": "markdown",
   "id": "a4150db8",
   "metadata": {},
   "source": [
    "## Libraries and settings"
   ]
  },
  {
   "cell_type": "code",
   "execution_count": 1,
   "id": "20f0e969",
   "metadata": {},
   "outputs": [
    {
     "name": "stdout",
     "output_type": "stream",
     "text": [
      "/workspaces/data_analytics/Week_07\n"
     ]
    }
   ],
   "source": [
    "# Libraries\n",
    "import os\n",
    "import numpy as np\n",
    "import pandas as pd\n",
    "import matplotlib.pyplot as plt\n",
    "from scipy.stats import chi2\n",
    "from scipy.stats import chi2_contingency\n",
    "\n",
    "# Ignore warnings\n",
    "import warnings\n",
    "warnings.filterwarnings('ignore')\n",
    "\n",
    "# Get current working directory\n",
    "print(os.getcwd())"
   ]
  },
  {
   "cell_type": "markdown",
   "id": "25567b4c",
   "metadata": {},
   "source": [
    "## Import the apartment data"
   ]
  },
  {
   "cell_type": "code",
   "execution_count": 2,
   "id": "46a899e8",
   "metadata": {},
   "outputs": [
    {
     "data": {
      "text/html": [
       "<div>\n",
       "<style scoped>\n",
       "    .dataframe tbody tr th:only-of-type {\n",
       "        vertical-align: middle;\n",
       "    }\n",
       "\n",
       "    .dataframe tbody tr th {\n",
       "        vertical-align: top;\n",
       "    }\n",
       "\n",
       "    .dataframe thead th {\n",
       "        text-align: right;\n",
       "    }\n",
       "</style>\n",
       "<table border=\"1\" class=\"dataframe\">\n",
       "  <thead>\n",
       "    <tr style=\"text-align: right;\">\n",
       "      <th></th>\n",
       "      <th>apartment_id</th>\n",
       "      <th>address_raw</th>\n",
       "      <th>lat</th>\n",
       "      <th>lon</th>\n",
       "      <th>bfs_number</th>\n",
       "      <th>bfs_name</th>\n",
       "      <th>rooms</th>\n",
       "      <th>area</th>\n",
       "      <th>luxurious</th>\n",
       "      <th>price</th>\n",
       "      <th>price_per_m2</th>\n",
       "      <th>pop_dens</th>\n",
       "      <th>frg_pct</th>\n",
       "      <th>mean_taxable_income</th>\n",
       "      <th>dist_supermarket</th>\n",
       "    </tr>\n",
       "  </thead>\n",
       "  <tbody>\n",
       "    <tr>\n",
       "      <th>0</th>\n",
       "      <td>1693998201-1</td>\n",
       "      <td>Neuhusstrasse 6, 8630 Rüti ZH, ZH</td>\n",
       "      <td>47.252171</td>\n",
       "      <td>8.845797</td>\n",
       "      <td>118</td>\n",
       "      <td>Rüti (ZH)</td>\n",
       "      <td>3.0</td>\n",
       "      <td>49</td>\n",
       "      <td>0</td>\n",
       "      <td>1441</td>\n",
       "      <td>29.41</td>\n",
       "      <td>1221.272366</td>\n",
       "      <td>24.841283</td>\n",
       "      <td>65362.04268</td>\n",
       "      <td>645.652248</td>\n",
       "    </tr>\n",
       "    <tr>\n",
       "      <th>1</th>\n",
       "      <td>1693998233-172</td>\n",
       "      <td>Widacherstrasse 5, 8630 Rüti ZH, ZH</td>\n",
       "      <td>47.252087</td>\n",
       "      <td>8.854919</td>\n",
       "      <td>118</td>\n",
       "      <td>Rüti (ZH)</td>\n",
       "      <td>3.0</td>\n",
       "      <td>111</td>\n",
       "      <td>0</td>\n",
       "      <td>2600</td>\n",
       "      <td>23.42</td>\n",
       "      <td>1221.272366</td>\n",
       "      <td>24.841283</td>\n",
       "      <td>65362.04268</td>\n",
       "      <td>265.102153</td>\n",
       "    </tr>\n",
       "    <tr>\n",
       "      <th>2</th>\n",
       "      <td>1693998256-331</td>\n",
       "      <td>Widenweg 14, 8630 Rüti ZH, ZH</td>\n",
       "      <td>47.253670</td>\n",
       "      <td>8.853993</td>\n",
       "      <td>118</td>\n",
       "      <td>Rüti (ZH)</td>\n",
       "      <td>3.0</td>\n",
       "      <td>58</td>\n",
       "      <td>0</td>\n",
       "      <td>1490</td>\n",
       "      <td>25.69</td>\n",
       "      <td>1221.272366</td>\n",
       "      <td>24.841283</td>\n",
       "      <td>65362.04268</td>\n",
       "      <td>94.401821</td>\n",
       "    </tr>\n",
       "    <tr>\n",
       "      <th>3</th>\n",
       "      <td>1693998265-381</td>\n",
       "      <td>Rain 1, 8630 Rüti ZH, ZH</td>\n",
       "      <td>47.259834</td>\n",
       "      <td>8.851705</td>\n",
       "      <td>118</td>\n",
       "      <td>Rüti (ZH)</td>\n",
       "      <td>4.0</td>\n",
       "      <td>118</td>\n",
       "      <td>0</td>\n",
       "      <td>3240</td>\n",
       "      <td>27.46</td>\n",
       "      <td>1221.272366</td>\n",
       "      <td>24.841283</td>\n",
       "      <td>65362.04268</td>\n",
       "      <td>106.660970</td>\n",
       "    </tr>\n",
       "    <tr>\n",
       "      <th>4</th>\n",
       "      <td>1693998276-419</td>\n",
       "      <td>Bachtelstrasse 24b, 8630 Rüti ZH, ZH</td>\n",
       "      <td>47.266113</td>\n",
       "      <td>8.866872</td>\n",
       "      <td>118</td>\n",
       "      <td>Rüti (ZH)</td>\n",
       "      <td>3.0</td>\n",
       "      <td>66</td>\n",
       "      <td>0</td>\n",
       "      <td>1450</td>\n",
       "      <td>21.97</td>\n",
       "      <td>1221.272366</td>\n",
       "      <td>24.841283</td>\n",
       "      <td>65362.04268</td>\n",
       "      <td>974.844209</td>\n",
       "    </tr>\n",
       "  </tbody>\n",
       "</table>\n",
       "</div>"
      ],
      "text/plain": [
       "     apartment_id                           address_raw        lat       lon  \\\n",
       "0    1693998201-1     Neuhusstrasse 6, 8630 Rüti ZH, ZH  47.252171  8.845797   \n",
       "1  1693998233-172   Widacherstrasse 5, 8630 Rüti ZH, ZH  47.252087  8.854919   \n",
       "2  1693998256-331         Widenweg 14, 8630 Rüti ZH, ZH  47.253670  8.853993   \n",
       "3  1693998265-381              Rain 1, 8630 Rüti ZH, ZH  47.259834  8.851705   \n",
       "4  1693998276-419  Bachtelstrasse 24b, 8630 Rüti ZH, ZH  47.266113  8.866872   \n",
       "\n",
       "   bfs_number   bfs_name  rooms  area  luxurious  price  price_per_m2  \\\n",
       "0         118  Rüti (ZH)    3.0    49          0   1441         29.41   \n",
       "1         118  Rüti (ZH)    3.0   111          0   2600         23.42   \n",
       "2         118  Rüti (ZH)    3.0    58          0   1490         25.69   \n",
       "3         118  Rüti (ZH)    4.0   118          0   3240         27.46   \n",
       "4         118  Rüti (ZH)    3.0    66          0   1450         21.97   \n",
       "\n",
       "      pop_dens    frg_pct  mean_taxable_income  dist_supermarket  \n",
       "0  1221.272366  24.841283          65362.04268        645.652248  \n",
       "1  1221.272366  24.841283          65362.04268        265.102153  \n",
       "2  1221.272366  24.841283          65362.04268         94.401821  \n",
       "3  1221.272366  24.841283          65362.04268        106.660970  \n",
       "4  1221.272366  24.841283          65362.04268        974.844209  "
      ]
     },
     "execution_count": 2,
     "metadata": {},
     "output_type": "execute_result"
    }
   ],
   "source": [
    "# Define columns\n",
    "columns = ['web-scraper-order',\n",
    "            'address_raw',\n",
    "            'lat',\n",
    "            'lon',\n",
    "            'bfs_number',\n",
    "            'bfs_name',\n",
    "            'rooms', \n",
    "            'area', \n",
    "            'luxurious', \n",
    "            'price', \n",
    "            'price_per_m2',\n",
    "            'pop_dens',\n",
    "            'frg_pct',\n",
    "            'mean_taxable_income',\n",
    "            'dist_supermarket']\n",
    "\n",
    "# Read and select variables\n",
    "df_orig = pd.read_csv(\"apartments_data_enriched_cleaned.csv\", sep=\";\")[columns]\n",
    "\n",
    "# Rename variable 'web-scraper-order' to 'apmt_id'\n",
    "df_orig = df_orig.rename(columns={'web-scraper-order': 'apartment_id'})\n",
    "\n",
    "# Remove missing values\n",
    "df = df_orig.dropna()\n",
    "df.head(5)\n",
    "\n",
    "# Remove duplicates\n",
    "df = df.drop_duplicates()\n",
    "df.head(5)"
   ]
  },
  {
   "cell_type": "markdown",
   "id": "e74fbc77",
   "metadata": {},
   "source": [
    "## Create a new categorical variable based on the price_per_m2"
   ]
  },
  {
   "cell_type": "markdown",
   "id": "e56c7240",
   "metadata": {},
   "source": [
    "### Plot histogram of price_per_m2"
   ]
  },
  {
   "cell_type": "code",
   "execution_count": 3,
   "id": "6edbede0",
   "metadata": {},
   "outputs": [
    {
     "data": {
      "image/png": "[encoded data removed]",
      "text/plain": [
       "<Figure size 700x400 with 1 Axes>"
      ]
     },
     "metadata": {},
     "output_type": "display_data"
    }
   ],
   "source": [
    "# Plot Histogram\n",
    "fig = plt.figure( figsize=(7,4))\n",
    "plt.xticks(fontsize=14, rotation=0)\n",
    "plt.yticks(fontsize=14, rotation=0)\n",
    "n, bins, patches = plt.hist(x=df['price_per_m2'], \n",
    "                            bins=20, \n",
    "                            color='#42AD12',\n",
    "                            alpha=0.5, \n",
    "                            rwidth=0.95\n",
    "                   )\n",
    "plt.grid(True)\n",
    "plt.ticklabel_format(style='plain')\n",
    "plt.grid(axis='y', alpha=0.75)\n",
    "\n",
    "# Set labels\n",
    "plt.xlabel('price_per_m2', fontsize=10, labelpad=10)\n",
    "plt.ylabel('Frequency', fontsize=10, labelpad=10)\n",
    "plt.title('Histogram of price_per_m2', fontsize=12, pad=10)\n",
    "\n",
    "# Set fontsize of tick labels\n",
    "plt.xticks(fontsize = 10)\n",
    "plt.yticks(fontsize = 10)\n",
    "\n",
    "plt.show()"
   ]
  },
  {
   "cell_type": "markdown",
   "id": "e6ab41ba",
   "metadata": {},
   "source": [
    "### Show quantiles of price_per_m2"
   ]
  },
  {
   "cell_type": "code",
   "execution_count": 4,
   "id": "0a6b0b5f",
   "metadata": {},
   "outputs": [
    {
     "data": {
      "text/plain": [
       "0.10    20.4\n",
       "0.25    23.4\n",
       "0.50    28.0\n",
       "0.75    38.0\n",
       "0.90    51.6\n",
       "Name: price_per_m2, dtype: float64"
      ]
     },
     "execution_count": 4,
     "metadata": {},
     "output_type": "execute_result"
    }
   ],
   "source": [
    "qt_price = df['price_per_m2'].quantile(q=[0.10, 0.25, 0.50, 0.75, 0.90]).round(1)\n",
    "qt_price"
   ]
  },
  {
   "cell_type": "markdown",
   "id": "7ab1b92b",
   "metadata": {},
   "source": [
    "### Create new categorical variable 'price_cat'"
   ]
  },
  {
   "cell_type": "code",
   "execution_count": 5,
   "id": "64c1c347",
   "metadata": {},
   "outputs": [
    {
     "data": {
      "text/html": [
       "<div>\n",
       "<style scoped>\n",
       "    .dataframe tbody tr th:only-of-type {\n",
       "        vertical-align: middle;\n",
       "    }\n",
       "\n",
       "    .dataframe tbody tr th {\n",
       "        vertical-align: top;\n",
       "    }\n",
       "\n",
       "    .dataframe thead th {\n",
       "        text-align: right;\n",
       "    }\n",
       "</style>\n",
       "<table border=\"1\" class=\"dataframe\">\n",
       "  <thead>\n",
       "    <tr style=\"text-align: right;\">\n",
       "      <th></th>\n",
       "      <th>price_per_m2</th>\n",
       "      <th>price_cat</th>\n",
       "    </tr>\n",
       "  </thead>\n",
       "  <tbody>\n",
       "    <tr>\n",
       "      <th>0</th>\n",
       "      <td>29.41</td>\n",
       "      <td>25 - 29</td>\n",
       "    </tr>\n",
       "    <tr>\n",
       "      <th>1</th>\n",
       "      <td>23.42</td>\n",
       "      <td>20 - 24</td>\n",
       "    </tr>\n",
       "    <tr>\n",
       "      <th>2</th>\n",
       "      <td>25.69</td>\n",
       "      <td>25 - 29</td>\n",
       "    </tr>\n",
       "    <tr>\n",
       "      <th>3</th>\n",
       "      <td>27.46</td>\n",
       "      <td>25 - 29</td>\n",
       "    </tr>\n",
       "    <tr>\n",
       "      <th>4</th>\n",
       "      <td>21.97</td>\n",
       "      <td>20 - 24</td>\n",
       "    </tr>\n",
       "    <tr>\n",
       "      <th>5</th>\n",
       "      <td>21.43</td>\n",
       "      <td>20 - 24</td>\n",
       "    </tr>\n",
       "    <tr>\n",
       "      <th>6</th>\n",
       "      <td>28.46</td>\n",
       "      <td>25 - 29</td>\n",
       "    </tr>\n",
       "    <tr>\n",
       "      <th>7</th>\n",
       "      <td>23.96</td>\n",
       "      <td>20 - 24</td>\n",
       "    </tr>\n",
       "    <tr>\n",
       "      <th>8</th>\n",
       "      <td>30.29</td>\n",
       "      <td>30 - 34</td>\n",
       "    </tr>\n",
       "    <tr>\n",
       "      <th>9</th>\n",
       "      <td>17.80</td>\n",
       "      <td>0 - 19</td>\n",
       "    </tr>\n",
       "  </tbody>\n",
       "</table>\n",
       "</div>"
      ],
      "text/plain": [
       "   price_per_m2 price_cat\n",
       "0         29.41   25 - 29\n",
       "1         23.42   20 - 24\n",
       "2         25.69   25 - 29\n",
       "3         27.46   25 - 29\n",
       "4         21.97   20 - 24\n",
       "5         21.43   20 - 24\n",
       "6         28.46   25 - 29\n",
       "7         23.96   20 - 24\n",
       "8         30.29   30 - 34\n",
       "9         17.80    0 - 19"
      ]
     },
     "execution_count": 5,
     "metadata": {},
     "output_type": "execute_result"
    }
   ],
   "source": [
    "# Create labels\n",
    "labels = ['0 - 19', '20 - 24', '25 - 29', '30 - 34', '>= 35']\n",
    "\n",
    "# Create new categorical variable\n",
    "df[\"price_cat\"] = pd.cut(df.price_per_m2, bins=[0, 20, 25, 30, 35, 150], labels=labels)\n",
    "\n",
    "# Check values\n",
    "df[['price_per_m2', 'price_cat']].head(10)"
   ]
  },
  {
   "cell_type": "markdown",
   "id": "6ff41d97",
   "metadata": {},
   "source": [
    "## Create a new categorical variable based on the living area"
   ]
  },
  {
   "cell_type": "markdown",
   "id": "94238fe6",
   "metadata": {},
   "source": [
    "### Plot histogram of area"
   ]
  },
  {
   "cell_type": "code",
   "execution_count": 6,
   "id": "803904ef",
   "metadata": {},
   "outputs": [
    {
     "data": {
      "image/png": "[encoded data removed]",
      "text/plain": [
       "<Figure size 700x400 with 1 Axes>"
      ]
     },
     "metadata": {},
     "output_type": "display_data"
    }
   ],
   "source": [
    "# Plot Histogram\n",
    "fig = plt.figure( figsize=(7,4))\n",
    "plt.xticks(fontsize=14, rotation=0)\n",
    "plt.yticks(fontsize=14, rotation=0)\n",
    "n, bins, patches = plt.hist(x=df['area'], \n",
    "                            bins=20, \n",
    "                            color='blue',\n",
    "                            alpha=0.5, \n",
    "                            rwidth=0.95\n",
    "                   )\n",
    "plt.grid(True)\n",
    "plt.ticklabel_format(style='plain')\n",
    "plt.grid(axis='y', alpha=0.75)\n",
    "\n",
    "# Set labels\n",
    "plt.xlabel('area (m2)', fontsize=10, labelpad=10)\n",
    "plt.ylabel('Frequency', fontsize=10, labelpad=10)\n",
    "plt.title('Histogram of area', fontsize=12, pad=10)\n",
    "\n",
    "# Set fontsize of tick labels\n",
    "plt.xticks(fontsize = 10)\n",
    "plt.yticks(fontsize = 10)\n",
    "\n",
    "plt.show()"
   ]
  },
  {
   "cell_type": "markdown",
   "id": "58c42afd",
   "metadata": {},
   "source": [
    "### Show quantiles of area"
   ]
  },
  {
   "cell_type": "code",
   "execution_count": 7,
   "id": "ddcd2024",
   "metadata": {},
   "outputs": [
    {
     "data": {
      "text/plain": [
       "0.10     43.0\n",
       "0.25     63.2\n",
       "0.50     86.0\n",
       "0.75    108.0\n",
       "0.90    140.0\n",
       "Name: area, dtype: float64"
      ]
     },
     "execution_count": 7,
     "metadata": {},
     "output_type": "execute_result"
    }
   ],
   "source": [
    "qt_area = df['area'].quantile(q=[0.10, 0.25, 0.50, 0.75, 0.90]).round(1)\n",
    "qt_area"
   ]
  },
  {
   "cell_type": "markdown",
   "id": "558ab6c0",
   "metadata": {},
   "source": [
    "### Create new categorical variable 'area_cat'"
   ]
  },
  {
   "cell_type": "code",
   "execution_count": 8,
   "id": "7bf77edd",
   "metadata": {},
   "outputs": [
    {
     "data": {
      "text/html": [
       "<div>\n",
       "<style scoped>\n",
       "    .dataframe tbody tr th:only-of-type {\n",
       "        vertical-align: middle;\n",
       "    }\n",
       "\n",
       "    .dataframe tbody tr th {\n",
       "        vertical-align: top;\n",
       "    }\n",
       "\n",
       "    .dataframe thead th {\n",
       "        text-align: right;\n",
       "    }\n",
       "</style>\n",
       "<table border=\"1\" class=\"dataframe\">\n",
       "  <thead>\n",
       "    <tr style=\"text-align: right;\">\n",
       "      <th></th>\n",
       "      <th>area</th>\n",
       "      <th>area_cat</th>\n",
       "    </tr>\n",
       "  </thead>\n",
       "  <tbody>\n",
       "    <tr>\n",
       "      <th>0</th>\n",
       "      <td>49</td>\n",
       "      <td>0 - 49</td>\n",
       "    </tr>\n",
       "    <tr>\n",
       "      <th>1</th>\n",
       "      <td>111</td>\n",
       "      <td>100 - 149</td>\n",
       "    </tr>\n",
       "    <tr>\n",
       "      <th>2</th>\n",
       "      <td>58</td>\n",
       "      <td>50 - 74</td>\n",
       "    </tr>\n",
       "    <tr>\n",
       "      <th>3</th>\n",
       "      <td>118</td>\n",
       "      <td>100 - 149</td>\n",
       "    </tr>\n",
       "    <tr>\n",
       "      <th>4</th>\n",
       "      <td>66</td>\n",
       "      <td>50 - 74</td>\n",
       "    </tr>\n",
       "    <tr>\n",
       "      <th>5</th>\n",
       "      <td>61</td>\n",
       "      <td>50 - 74</td>\n",
       "    </tr>\n",
       "    <tr>\n",
       "      <th>6</th>\n",
       "      <td>65</td>\n",
       "      <td>50 - 74</td>\n",
       "    </tr>\n",
       "    <tr>\n",
       "      <th>7</th>\n",
       "      <td>101</td>\n",
       "      <td>100 - 149</td>\n",
       "    </tr>\n",
       "    <tr>\n",
       "      <th>8</th>\n",
       "      <td>68</td>\n",
       "      <td>50 - 74</td>\n",
       "    </tr>\n",
       "    <tr>\n",
       "      <th>9</th>\n",
       "      <td>191</td>\n",
       "      <td>&gt;= 150</td>\n",
       "    </tr>\n",
       "  </tbody>\n",
       "</table>\n",
       "</div>"
      ],
      "text/plain": [
       "   area   area_cat\n",
       "0    49     0 - 49\n",
       "1   111  100 - 149\n",
       "2    58    50 - 74\n",
       "3   118  100 - 149\n",
       "4    66    50 - 74\n",
       "5    61    50 - 74\n",
       "6    65    50 - 74\n",
       "7   101  100 - 149\n",
       "8    68    50 - 74\n",
       "9   191     >= 150"
      ]
     },
     "execution_count": 8,
     "metadata": {},
     "output_type": "execute_result"
    }
   ],
   "source": [
    "# Create labels\n",
    "labels = ['0 - 49', '50 - 74', '75 - 99', '100 - 149', '>= 150']\n",
    "\n",
    "# Create new categorical variable\n",
    "df[\"area_cat\"] = pd.cut(df['area'], bins=[0, 50, 75, 100, 150, 1000], labels=labels)\n",
    "\n",
    "# Check values\n",
    "df[['area', 'area_cat']].head(10)"
   ]
  },
  {
   "cell_type": "markdown",
   "id": "59cf08d1",
   "metadata": {},
   "source": [
    "## Create a contingency table with the number of apartments per 'area_cat' versus 'price_cat'"
   ]
  },
  {
   "cell_type": "code",
   "execution_count": 9,
   "id": "53e7c37f",
   "metadata": {},
   "outputs": [
    {
     "data": {
      "text/html": [
       "<div>\n",
       "<style scoped>\n",
       "    .dataframe tbody tr th:only-of-type {\n",
       "        vertical-align: middle;\n",
       "    }\n",
       "\n",
       "    .dataframe tbody tr th {\n",
       "        vertical-align: top;\n",
       "    }\n",
       "\n",
       "    .dataframe thead tr th {\n",
       "        text-align: left;\n",
       "    }\n",
       "\n",
       "    .dataframe thead tr:last-of-type th {\n",
       "        text-align: right;\n",
       "    }\n",
       "</style>\n",
       "<table border=\"1\" class=\"dataframe\">\n",
       "  <thead>\n",
       "    <tr>\n",
       "      <th></th>\n",
       "      <th colspan=\"5\" halign=\"left\">apartment_id</th>\n",
       "    </tr>\n",
       "    <tr>\n",
       "      <th>price_cat</th>\n",
       "      <th>0 - 19</th>\n",
       "      <th>20 - 24</th>\n",
       "      <th>25 - 29</th>\n",
       "      <th>30 - 34</th>\n",
       "      <th>&gt;= 35</th>\n",
       "    </tr>\n",
       "    <tr>\n",
       "      <th>area_cat</th>\n",
       "      <th></th>\n",
       "      <th></th>\n",
       "      <th></th>\n",
       "      <th></th>\n",
       "      <th></th>\n",
       "    </tr>\n",
       "  </thead>\n",
       "  <tbody>\n",
       "    <tr>\n",
       "      <th>0 - 49</th>\n",
       "      <td>2</td>\n",
       "      <td>2</td>\n",
       "      <td>4</td>\n",
       "      <td>13</td>\n",
       "      <td>84</td>\n",
       "    </tr>\n",
       "    <tr>\n",
       "      <th>50 - 74</th>\n",
       "      <td>1</td>\n",
       "      <td>40</td>\n",
       "      <td>58</td>\n",
       "      <td>31</td>\n",
       "      <td>64</td>\n",
       "    </tr>\n",
       "    <tr>\n",
       "      <th>75 - 99</th>\n",
       "      <td>19</td>\n",
       "      <td>73</td>\n",
       "      <td>66</td>\n",
       "      <td>21</td>\n",
       "      <td>48</td>\n",
       "    </tr>\n",
       "    <tr>\n",
       "      <th>100 - 149</th>\n",
       "      <td>31</td>\n",
       "      <td>80</td>\n",
       "      <td>47</td>\n",
       "      <td>22</td>\n",
       "      <td>21</td>\n",
       "    </tr>\n",
       "    <tr>\n",
       "      <th>&gt;= 150</th>\n",
       "      <td>20</td>\n",
       "      <td>8</td>\n",
       "      <td>6</td>\n",
       "      <td>5</td>\n",
       "      <td>8</td>\n",
       "    </tr>\n",
       "  </tbody>\n",
       "</table>\n",
       "</div>"
      ],
      "text/plain": [
       "          apartment_id                              \n",
       "price_cat       0 - 19 20 - 24 25 - 29 30 - 34 >= 35\n",
       "area_cat                                            \n",
       "0 - 49               2       2       4      13    84\n",
       "50 - 74              1      40      58      31    64\n",
       "75 - 99             19      73      66      21    48\n",
       "100 - 149           31      80      47      22    21\n",
       ">= 150              20       8       6       5     8"
      ]
     },
     "execution_count": 9,
     "metadata": {},
     "output_type": "execute_result"
    }
   ],
   "source": [
    "# Contingency table (numbers in the table are apartments)\n",
    "tab = pd.pivot_table(df[['apartment_id', 'area_cat', 'price_cat']],\n",
    "                     index=['area_cat'],\n",
    "                     columns=['price_cat'], \n",
    "                     aggfunc='count')\n",
    "tab"
   ]
  },
  {
   "cell_type": "markdown",
   "id": "7600df22",
   "metadata": {},
   "source": [
    "## Perform a Chi-square test on the contingency table\n",
    "For details see: https://docs.scipy.org/doc/scipy/reference/generated/scipy.stats.chi2_contingency.html"
   ]
  },
  {
   "cell_type": "code",
   "execution_count": 10,
   "id": "06972c6c",
   "metadata": {},
   "outputs": [
    {
     "name": "stdout",
     "output_type": "stream",
     "text": [
      "Expected frequencies: \n",
      " [[ 9.9031 27.5388 24.5543 12.4806 30.5233]\n",
      " [18.2972 50.8811 45.3669 23.0594 56.3953]\n",
      " [21.4096 59.5362 53.084  26.9819 65.9884]\n",
      " [18.9574 52.7171 47.0039 23.8915 58.4302]\n",
      " [ 4.4328 12.3269 10.991   5.5866 13.6628]] \n",
      "\n",
      "Critical value: 26.2962 \n",
      "\n",
      "Test statistic: 286.3147 \n",
      "\n",
      "Degrees of freedom: 16 \n",
      "\n",
      "p-value: 0.0000\n"
     ]
    }
   ],
   "source": [
    "# 1-alpha\n",
    "prob = 0.95\n",
    "\n",
    "# Chi-squared test\n",
    "stat, p, dof, expected = chi2_contingency(tab)\n",
    "\n",
    "# Critical value\n",
    "critical = chi2.ppf(prob, dof)\n",
    "\n",
    "# Print results of the Chi-square test\n",
    "print('Expected frequencies:', '\\n', expected.round(4), '\\n')\n",
    "print('Critical value:', critical.round(4), '\\n')\n",
    "print('Test statistic:', stat.round(4), '\\n')\n",
    "print('Degrees of freedom:', dof, '\\n')\n",
    "print(f'p-value: {p:.4f}')"
   ]
  },
  {
   "cell_type": "markdown",
   "id": "99ec92f1",
   "metadata": {},
   "source": [
    "## Interpretation of the Chi-squared test result"
   ]
  },
  {
   "cell_type": "markdown",
   "id": "d2891001",
   "metadata": {},
   "source": [
    "<p>Because the test statistic is larger than the critical value and the p-value is smaller than our significance level apha=0.05, we can reject the null hypothesis, i.e. there is a statistically significant (at the 0.05 significance-level) association between the price-categories and the living-area categories in the contingence table.</p>"
   ]
  },
  {
   "cell_type": "markdown",
   "id": "63cac054",
   "metadata": {},
   "source": [
    "## Applying the Chi-squared test to animal behavior\n",
    "\n",
    "For full study see: https://davida-rosenstrauch.medium.com/applying-the-chi-squared-test-to-animal-behavior-b6cca3f930b8"
   ]
  },
  {
   "cell_type": "markdown",
   "id": "a384cb12",
   "metadata": {},
   "source": [
    "<img src=\"https://miro.medium.com/max/640/1*h5JgsNbUy2tuiLgSrkIlyA.png\" width=\"500\" align=\"left\"/>"
   ]
  },
  {
   "cell_type": "markdown",
   "id": "4b0eb943",
   "metadata": {},
   "source": [
    "### Contingency table, spotted hyena example"
   ]
  },
  {
   "cell_type": "code",
   "execution_count": 11,
   "id": "ba5c4da3",
   "metadata": {},
   "outputs": [
    {
     "name": "stdout",
     "output_type": "stream",
     "text": [
      "Expected frequencies: \n",
      " [[ 2.4314  1.5686]\n",
      " [ 7.902   5.098 ]\n",
      " [ 5.4706  3.5294]\n",
      " [15.1961  9.8039]] \n",
      "\n",
      "Chi-Squared: 12.2754\n",
      "Critical Chi-Squared: 7.8147 \n",
      "\n",
      "Degrees of freedom: 3 \n",
      "\n",
      "p-value: 0.0065\n"
     ]
    }
   ],
   "source": [
    "# Table\n",
    "table = np.array([[0,4],\n",
    "                  [7,6],\n",
    "                  [9,0],\n",
    "                  [15,10]])\n",
    "\n",
    "# Create a data frame from 'table'\n",
    "df_hy = pd.DataFrame(table, columns=[['Female', 'Male']],\n",
    "             index=['Fear', 'Greeting', 'Aggression', 'No Response'])\n",
    "df_hy\n",
    "\n",
    "\n",
    "\n",
    "# 1-alpha = 5%\n",
    "prob = 0.95\n",
    "\n",
    "# Perform the Chi-square test\n",
    "stat, p, dof, expected = chi2_contingency(df_hy)\n",
    "\n",
    "# Critical  Chi-Squared value\n",
    "critical = chi2.ppf(prob, dof)\n",
    "\n",
    "# Print results of the Chi-square test\n",
    "print('Expected frequencies:', '\\n', expected.round(4), '\\n')\n",
    "print('Chi-Squared:', stat.round(4))\n",
    "print('Critical Chi-Squared:', critical.round(4), '\\n')\n",
    "\n",
    "print('Degrees of freedom:', dof, '\\n')\n",
    "print(f'p-value: {p:.4f}')"
   ]
  },
  {
   "cell_type": "markdown",
   "id": "e86a03ac",
   "metadata": {},
   "source": [
    "### Interpretation of result\n",
    "\n",
    "<p>Because the test statistic is larger than the critical value and the p-value is smaller than our significance level apha=0.05, we can reject the null hypothesis, i.e. there is a statistically significant (at the 0.05 significance-level) association between the price-categories and the living-area categories in the contingence table.</p>"
   ]
  },
  {
   "cell_type": "markdown",
   "id": "1a0f028b",
   "metadata": {},
   "source": [
    "### Jupyter notebook --footer info-- (please always provide this at the end of each submitted notebook)"
   ]
  },
  {
   "cell_type": "code",
   "execution_count": 12,
   "id": "4e63b4e2",
   "metadata": {},
   "outputs": [
    {
     "name": "stdout",
     "output_type": "stream",
     "text": [
      "-----------------------------------\n",
      "POSIX\n",
      "Linux | 6.5.0-1025-azure\n",
      "Datetime: 2024-10-29 14:20:06\n",
      "Python Version: 3.11.10\n",
      "-----------------------------------\n"
     ]
    }
   ],
   "source": [
    "import os\n",
    "import platform\n",
    "import socket\n",
    "from platform import python_version\n",
    "from datetime import datetime\n",
    "\n",
    "print('-----------------------------------')\n",
    "print(os.name.upper())\n",
    "print(platform.system(), '|', platform.release())\n",
    "print('Datetime:', datetime.now().strftime(\"%Y-%m-%d %H:%M:%S\"))\n",
    "print('Python Version:', python_version())\n",
    "print('-----------------------------------')"
   ]
  }
 ],
 "metadata": {
  "kernelspec": {
   "display_name": "Python 3",
   "language": "python",
   "name": "python3"
  },
  "language_info": {
   "codemirror_mode": {
    "name": "ipython",
    "version": 3
   },
   "file_extension": ".py",
   "mimetype": "text/x-python",
   "name": "python",
   "nbconvert_exporter": "python",
   "pygments_lexer": "ipython3",
   "version": "3.11.10"
  }
 },
 "nbformat": 4,
 "nbformat_minor": 5
}
