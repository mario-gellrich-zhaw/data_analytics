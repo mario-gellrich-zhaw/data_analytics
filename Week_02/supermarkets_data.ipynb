{
 "cells": [
  {
   "cell_type": "markdown",
   "id": "3272230e",
   "metadata": {},
   "source": [
    "# Importing and preparing supermarkets data"
   ]
  },
  {
   "cell_type": "markdown",
   "id": "abe67fc9",
   "metadata": {},
   "source": [
    "## Libraries and settings"
   ]
  },
  {
   "cell_type": "code",
   "execution_count": 2,
   "id": "cbff58c8",
   "metadata": {},
   "outputs": [
    {
     "name": "stdout",
     "output_type": "stream",
     "text": [
      "Current working directory: /workspaces/zhaw_data_analytics_3DA_WIN/Week_02\n",
      "supermarkets.json\n"
     ]
    }
   ],
   "source": [
    "# Libraries\n",
    "import os\n",
    "import fnmatch\n",
    "import pandas as pd\n",
    "\n",
    "# Ignore warnings\n",
    "import warnings\n",
    "warnings.filterwarnings(\"ignore\")\n",
    "\n",
    "# Get current working directory\n",
    "print('Current working directory:', os.getcwd())\n",
    "\n",
    "# Show .json files in the current working directory\n",
    "flist = fnmatch.filter(os.listdir('.'), '*.json')\n",
    "for i in flist:\n",
    "    print(i)"
   ]
  },
  {
   "cell_type": "markdown",
   "id": "2a7bff4a",
   "metadata": {},
   "source": [
    "## Importing data"
   ]
  },
  {
   "cell_type": "code",
   "execution_count": 3,
   "id": "aa8f37dd",
   "metadata": {
    "scrolled": true
   },
   "outputs": [
    {
     "data": {
      "text/html": [
       "<div>\n",
       "<style scoped>\n",
       "    .dataframe tbody tr th:only-of-type {\n",
       "        vertical-align: middle;\n",
       "    }\n",
       "\n",
       "    .dataframe tbody tr th {\n",
       "        vertical-align: top;\n",
       "    }\n",
       "\n",
       "    .dataframe thead th {\n",
       "        text-align: right;\n",
       "    }\n",
       "</style>\n",
       "<table border=\"1\" class=\"dataframe\">\n",
       "  <thead>\n",
       "    <tr style=\"text-align: right;\">\n",
       "      <th></th>\n",
       "      <th>type</th>\n",
       "      <th>id</th>\n",
       "      <th>lat</th>\n",
       "      <th>lon</th>\n",
       "      <th>tags</th>\n",
       "    </tr>\n",
       "  </thead>\n",
       "  <tbody>\n",
       "    <tr>\n",
       "      <th>0</th>\n",
       "      <td>node</td>\n",
       "      <td>33126515</td>\n",
       "      <td>47.155616</td>\n",
       "      <td>9.037915</td>\n",
       "      <td>{'brand': 'Spar', 'brand:wikidata': 'Q610492',...</td>\n",
       "    </tr>\n",
       "    <tr>\n",
       "      <th>1</th>\n",
       "      <td>node</td>\n",
       "      <td>36726161</td>\n",
       "      <td>47.226191</td>\n",
       "      <td>8.980329</td>\n",
       "      <td>{'addr:city': 'Uznach', 'addr:housenumber': '2...</td>\n",
       "    </tr>\n",
       "    <tr>\n",
       "      <th>2</th>\n",
       "      <td>node</td>\n",
       "      <td>39768209</td>\n",
       "      <td>47.225069</td>\n",
       "      <td>8.969981</td>\n",
       "      <td>{'addr:city': 'Uznach', 'addr:postcode': '8730...</td>\n",
       "    </tr>\n",
       "    <tr>\n",
       "      <th>3</th>\n",
       "      <td>node</td>\n",
       "      <td>39947904</td>\n",
       "      <td>47.376732</td>\n",
       "      <td>8.542161</td>\n",
       "      <td>{'addr:city': 'Zürich', 'addr:country': 'CH', ...</td>\n",
       "    </tr>\n",
       "    <tr>\n",
       "      <th>4</th>\n",
       "      <td>node</td>\n",
       "      <td>48932835</td>\n",
       "      <td>47.375020</td>\n",
       "      <td>8.522895</td>\n",
       "      <td>{'addr:city': 'Zürich', 'addr:housenumber': '7...</td>\n",
       "    </tr>\n",
       "  </tbody>\n",
       "</table>\n",
       "</div>"
      ],
      "text/plain": [
       "   type        id        lat       lon  \\\n",
       "0  node  33126515  47.155616  9.037915   \n",
       "1  node  36726161  47.226191  8.980329   \n",
       "2  node  39768209  47.225069  8.969981   \n",
       "3  node  39947904  47.376732  8.542161   \n",
       "4  node  48932835  47.375020  8.522895   \n",
       "\n",
       "                                                tags  \n",
       "0  {'brand': 'Spar', 'brand:wikidata': 'Q610492',...  \n",
       "1  {'addr:city': 'Uznach', 'addr:housenumber': '2...  \n",
       "2  {'addr:city': 'Uznach', 'addr:postcode': '8730...  \n",
       "3  {'addr:city': 'Zürich', 'addr:country': 'CH', ...  \n",
       "4  {'addr:city': 'Zürich', 'addr:housenumber': '7...  "
      ]
     },
     "execution_count": 3,
     "metadata": {},
     "output_type": "execute_result"
    }
   ],
   "source": [
    "# Read the data to a pandas data frame\n",
    "df1 = pd.read_json('supermarkets.json', encoding='utf-8')\n",
    "df1.head(5)"
   ]
  },
  {
   "cell_type": "markdown",
   "id": "b95e9f0e",
   "metadata": {},
   "source": [
    "## Count number of rows and columns in the data frame"
   ]
  },
  {
   "cell_type": "code",
   "execution_count": 4,
   "id": "ec7391ad",
   "metadata": {},
   "outputs": [
    {
     "name": "stdout",
     "output_type": "stream",
     "text": [
      "Dimension: (3392, 5)\n",
      "Number of rows: 3392\n",
      "Number of columns: 5\n"
     ]
    }
   ],
   "source": [
    "# Dimension (rows, columns)\n",
    "print('Dimension:', df1.shape)\n",
    "\n",
    "# Number of rows\n",
    "print('Number of rows:', df1.shape[0])\n",
    "\n",
    "# Number of columns\n",
    "print('Number of columns:', df1.shape[1])"
   ]
  },
  {
   "cell_type": "markdown",
   "id": "e87e78e7",
   "metadata": {},
   "source": [
    "## Column 'tags' is a pandas Series with dictionaries -> change to data frame"
   ]
  },
  {
   "cell_type": "code",
   "execution_count": 5,
   "id": "b4aacf01",
   "metadata": {},
   "outputs": [
    {
     "name": "stdout",
     "output_type": "stream",
     "text": [
      "<class 'pandas.core.series.Series'>\n",
      "<class 'dict'>\n",
      "dict_keys(['brand', 'brand:wikidata', 'brand:wikipedia', 'name', 'opening_hours', 'shop'])\n"
     ]
    },
    {
     "data": {
      "text/html": [
       "<div>\n",
       "<style scoped>\n",
       "    .dataframe tbody tr th:only-of-type {\n",
       "        vertical-align: middle;\n",
       "    }\n",
       "\n",
       "    .dataframe tbody tr th {\n",
       "        vertical-align: top;\n",
       "    }\n",
       "\n",
       "    .dataframe thead th {\n",
       "        text-align: right;\n",
       "    }\n",
       "</style>\n",
       "<table border=\"1\" class=\"dataframe\">\n",
       "  <thead>\n",
       "    <tr style=\"text-align: right;\">\n",
       "      <th></th>\n",
       "      <th>brand</th>\n",
       "      <th>shop</th>\n",
       "      <th>city</th>\n",
       "      <th>street</th>\n",
       "      <th>housenumber</th>\n",
       "      <th>postcode</th>\n",
       "    </tr>\n",
       "  </thead>\n",
       "  <tbody>\n",
       "    <tr>\n",
       "      <th>0</th>\n",
       "      <td>Spar</td>\n",
       "      <td>supermarket</td>\n",
       "      <td>NaN</td>\n",
       "      <td>NaN</td>\n",
       "      <td>NaN</td>\n",
       "      <td>NaN</td>\n",
       "    </tr>\n",
       "    <tr>\n",
       "      <th>1</th>\n",
       "      <td>Migros</td>\n",
       "      <td>supermarket</td>\n",
       "      <td>Uznach</td>\n",
       "      <td>Zürcherstrasse</td>\n",
       "      <td>25</td>\n",
       "      <td>8730</td>\n",
       "    </tr>\n",
       "    <tr>\n",
       "      <th>2</th>\n",
       "      <td>Coop</td>\n",
       "      <td>supermarket</td>\n",
       "      <td>Uznach</td>\n",
       "      <td>NaN</td>\n",
       "      <td>NaN</td>\n",
       "      <td>8730</td>\n",
       "    </tr>\n",
       "    <tr>\n",
       "      <th>3</th>\n",
       "      <td>Coop</td>\n",
       "      <td>supermarket</td>\n",
       "      <td>Zürich</td>\n",
       "      <td>Bahnhofbrücke</td>\n",
       "      <td>1</td>\n",
       "      <td>8001</td>\n",
       "    </tr>\n",
       "    <tr>\n",
       "      <th>4</th>\n",
       "      <td>Migros</td>\n",
       "      <td>supermarket</td>\n",
       "      <td>Zürich</td>\n",
       "      <td>Wengistrasse</td>\n",
       "      <td>7</td>\n",
       "      <td>8004</td>\n",
       "    </tr>\n",
       "  </tbody>\n",
       "</table>\n",
       "</div>"
      ],
      "text/plain": [
       "    brand         shop    city          street housenumber postcode\n",
       "0    Spar  supermarket     NaN             NaN         NaN      NaN\n",
       "1  Migros  supermarket  Uznach  Zürcherstrasse          25     8730\n",
       "2    Coop  supermarket  Uznach             NaN         NaN     8730\n",
       "3    Coop  supermarket  Zürich   Bahnhofbrücke           1     8001\n",
       "4  Migros  supermarket  Zürich    Wengistrasse           7     8004"
      ]
     },
     "execution_count": 5,
     "metadata": {},
     "output_type": "execute_result"
    }
   ],
   "source": [
    "# Type of the first item of column tags\n",
    "print(type(df1.tags))\n",
    "print(type(df1.tags[0]))\n",
    "\n",
    "# Content of the first item of column tags\n",
    "print(df1.tags[0].keys())\n",
    "\n",
    "# Change to data frame\n",
    "df2 = pd.DataFrame.from_records(df1.tags)\n",
    "df2 = df2[['brand', 'shop', 'addr:city', 'addr:street', 'addr:housenumber', 'addr:postcode']]\n",
    "\n",
    "# Rename selected columns\n",
    "df2 = df2.rename(columns={'addr:city': 'city',\n",
    "                          'addr:street':'street',\n",
    "                          'addr:housenumber': 'housenumber',\n",
    "                          'addr:postcode': 'postcode'})\n",
    "\n",
    "# Show first records of data frame\n",
    "df2.head()"
   ]
  },
  {
   "cell_type": "markdown",
   "id": "e801ae61",
   "metadata": {},
   "source": [
    "## Merge df1 and df2"
   ]
  },
  {
   "cell_type": "code",
   "execution_count": 6,
   "id": "0a78ba35",
   "metadata": {},
   "outputs": [
    {
     "data": {
      "text/html": [
       "<div>\n",
       "<style scoped>\n",
       "    .dataframe tbody tr th:only-of-type {\n",
       "        vertical-align: middle;\n",
       "    }\n",
       "\n",
       "    .dataframe tbody tr th {\n",
       "        vertical-align: top;\n",
       "    }\n",
       "\n",
       "    .dataframe thead th {\n",
       "        text-align: right;\n",
       "    }\n",
       "</style>\n",
       "<table border=\"1\" class=\"dataframe\">\n",
       "  <thead>\n",
       "    <tr style=\"text-align: right;\">\n",
       "      <th></th>\n",
       "      <th>type</th>\n",
       "      <th>id</th>\n",
       "      <th>lat</th>\n",
       "      <th>lon</th>\n",
       "      <th>brand</th>\n",
       "      <th>shop</th>\n",
       "      <th>city</th>\n",
       "      <th>street</th>\n",
       "      <th>housenumber</th>\n",
       "      <th>postcode</th>\n",
       "    </tr>\n",
       "  </thead>\n",
       "  <tbody>\n",
       "    <tr>\n",
       "      <th>0</th>\n",
       "      <td>node</td>\n",
       "      <td>33126515</td>\n",
       "      <td>47.155616</td>\n",
       "      <td>9.037915</td>\n",
       "      <td>Spar</td>\n",
       "      <td>supermarket</td>\n",
       "      <td>NaN</td>\n",
       "      <td>NaN</td>\n",
       "      <td>NaN</td>\n",
       "      <td>NaN</td>\n",
       "    </tr>\n",
       "    <tr>\n",
       "      <th>1</th>\n",
       "      <td>node</td>\n",
       "      <td>36726161</td>\n",
       "      <td>47.226191</td>\n",
       "      <td>8.980329</td>\n",
       "      <td>Migros</td>\n",
       "      <td>supermarket</td>\n",
       "      <td>Uznach</td>\n",
       "      <td>Zürcherstrasse</td>\n",
       "      <td>25</td>\n",
       "      <td>8730</td>\n",
       "    </tr>\n",
       "    <tr>\n",
       "      <th>2</th>\n",
       "      <td>node</td>\n",
       "      <td>39768209</td>\n",
       "      <td>47.225069</td>\n",
       "      <td>8.969981</td>\n",
       "      <td>Coop</td>\n",
       "      <td>supermarket</td>\n",
       "      <td>Uznach</td>\n",
       "      <td>NaN</td>\n",
       "      <td>NaN</td>\n",
       "      <td>8730</td>\n",
       "    </tr>\n",
       "    <tr>\n",
       "      <th>3</th>\n",
       "      <td>node</td>\n",
       "      <td>39947904</td>\n",
       "      <td>47.376732</td>\n",
       "      <td>8.542161</td>\n",
       "      <td>Coop</td>\n",
       "      <td>supermarket</td>\n",
       "      <td>Zürich</td>\n",
       "      <td>Bahnhofbrücke</td>\n",
       "      <td>1</td>\n",
       "      <td>8001</td>\n",
       "    </tr>\n",
       "    <tr>\n",
       "      <th>4</th>\n",
       "      <td>node</td>\n",
       "      <td>48932835</td>\n",
       "      <td>47.375020</td>\n",
       "      <td>8.522895</td>\n",
       "      <td>Migros</td>\n",
       "      <td>supermarket</td>\n",
       "      <td>Zürich</td>\n",
       "      <td>Wengistrasse</td>\n",
       "      <td>7</td>\n",
       "      <td>8004</td>\n",
       "    </tr>\n",
       "  </tbody>\n",
       "</table>\n",
       "</div>"
      ],
      "text/plain": [
       "   type        id        lat       lon   brand         shop    city  \\\n",
       "0  node  33126515  47.155616  9.037915    Spar  supermarket     NaN   \n",
       "1  node  36726161  47.226191  8.980329  Migros  supermarket  Uznach   \n",
       "2  node  39768209  47.225069  8.969981    Coop  supermarket  Uznach   \n",
       "3  node  39947904  47.376732  8.542161    Coop  supermarket  Zürich   \n",
       "4  node  48932835  47.375020  8.522895  Migros  supermarket  Zürich   \n",
       "\n",
       "           street housenumber postcode  \n",
       "0             NaN         NaN      NaN  \n",
       "1  Zürcherstrasse          25     8730  \n",
       "2             NaN         NaN     8730  \n",
       "3   Bahnhofbrücke           1     8001  \n",
       "4    Wengistrasse           7     8004  "
      ]
     },
     "execution_count": 6,
     "metadata": {},
     "output_type": "execute_result"
    }
   ],
   "source": [
    "# Merge df and df2\n",
    "df = pd.merge(df1[['type', 'id', 'lat', 'lon']], \n",
    "              df2[['brand', 'shop', 'city', 'street', 'housenumber', 'postcode']],\n",
    "              left_index=True, \n",
    "              right_index=True)\n",
    "df.head(5)"
   ]
  },
  {
   "cell_type": "markdown",
   "id": "16adce80",
   "metadata": {},
   "source": [
    "## Additional filters on supermarkets"
   ]
  },
  {
   "cell_type": "code",
   "execution_count": 14,
   "id": "4bc6a599",
   "metadata": {},
   "outputs": [
    {
     "name": "stdout",
     "output_type": "stream",
     "text": [
      "Number of rows: 3392\n"
     ]
    }
   ],
   "source": [
    "# Filter Migros in Zurich and Coop in Zürich, Basel, and Bern\n",
    "df_filtered_migros = df.loc[(df['brand'] == 'Migros') & (df['city'] == 'Zürich')]\n",
    "df_filtered_coop = df.loc[(df['brand'] == 'Coop') & (df['city'].isin(['Zürich', 'Basel', 'Bern']))]\n",
    "\n",
    "# Number of rows\n",
    "print('Number of rows:', df_filtered_coop.shape[0])"
   ]
  },
  {
   "cell_type": "markdown",
   "id": "621b8ae9",
   "metadata": {},
   "source": [
    "## Count and identify the number of missing values (if any)"
   ]
  },
  {
   "cell_type": "code",
   "execution_count": 7,
   "id": "67773d99",
   "metadata": {},
   "outputs": [
    {
     "name": "stdout",
     "output_type": "stream",
     "text": [
      "type              0\n",
      "id                0\n",
      "lat               0\n",
      "lon               0\n",
      "brand          1065\n",
      "shop              0\n",
      "city           1777\n",
      "street         1608\n",
      "housenumber    1680\n",
      "postcode       1709\n",
      "dtype: int64\n"
     ]
    },
    {
     "data": {
      "text/html": [
       "<div>\n",
       "<style scoped>\n",
       "    .dataframe tbody tr th:only-of-type {\n",
       "        vertical-align: middle;\n",
       "    }\n",
       "\n",
       "    .dataframe tbody tr th {\n",
       "        vertical-align: top;\n",
       "    }\n",
       "\n",
       "    .dataframe thead th {\n",
       "        text-align: right;\n",
       "    }\n",
       "</style>\n",
       "<table border=\"1\" class=\"dataframe\">\n",
       "  <thead>\n",
       "    <tr style=\"text-align: right;\">\n",
       "      <th></th>\n",
       "      <th>type</th>\n",
       "      <th>id</th>\n",
       "      <th>lat</th>\n",
       "      <th>lon</th>\n",
       "      <th>brand</th>\n",
       "      <th>shop</th>\n",
       "      <th>city</th>\n",
       "      <th>street</th>\n",
       "      <th>housenumber</th>\n",
       "      <th>postcode</th>\n",
       "    </tr>\n",
       "  </thead>\n",
       "  <tbody>\n",
       "    <tr>\n",
       "      <th>0</th>\n",
       "      <td>node</td>\n",
       "      <td>33126515</td>\n",
       "      <td>47.155616</td>\n",
       "      <td>9.037915</td>\n",
       "      <td>Spar</td>\n",
       "      <td>supermarket</td>\n",
       "      <td>NaN</td>\n",
       "      <td>NaN</td>\n",
       "      <td>NaN</td>\n",
       "      <td>NaN</td>\n",
       "    </tr>\n",
       "    <tr>\n",
       "      <th>5</th>\n",
       "      <td>node</td>\n",
       "      <td>60271452</td>\n",
       "      <td>47.406671</td>\n",
       "      <td>9.305450</td>\n",
       "      <td>NaN</td>\n",
       "      <td>supermarket</td>\n",
       "      <td>NaN</td>\n",
       "      <td>NaN</td>\n",
       "      <td>NaN</td>\n",
       "      <td>NaN</td>\n",
       "    </tr>\n",
       "    <tr>\n",
       "      <th>6</th>\n",
       "      <td>node</td>\n",
       "      <td>70656485</td>\n",
       "      <td>47.491253</td>\n",
       "      <td>8.733981</td>\n",
       "      <td>NaN</td>\n",
       "      <td>supermarket</td>\n",
       "      <td>NaN</td>\n",
       "      <td>NaN</td>\n",
       "      <td>NaN</td>\n",
       "      <td>NaN</td>\n",
       "    </tr>\n",
       "    <tr>\n",
       "      <th>10</th>\n",
       "      <td>node</td>\n",
       "      <td>81321513</td>\n",
       "      <td>47.532917</td>\n",
       "      <td>9.066408</td>\n",
       "      <td>Landi</td>\n",
       "      <td>supermarket</td>\n",
       "      <td>NaN</td>\n",
       "      <td>NaN</td>\n",
       "      <td>NaN</td>\n",
       "      <td>NaN</td>\n",
       "    </tr>\n",
       "    <tr>\n",
       "      <th>13</th>\n",
       "      <td>node</td>\n",
       "      <td>95582038</td>\n",
       "      <td>47.050385</td>\n",
       "      <td>9.059214</td>\n",
       "      <td>NaN</td>\n",
       "      <td>supermarket</td>\n",
       "      <td>NaN</td>\n",
       "      <td>NaN</td>\n",
       "      <td>NaN</td>\n",
       "      <td>NaN</td>\n",
       "    </tr>\n",
       "    <tr>\n",
       "      <th>...</th>\n",
       "      <td>...</td>\n",
       "      <td>...</td>\n",
       "      <td>...</td>\n",
       "      <td>...</td>\n",
       "      <td>...</td>\n",
       "      <td>...</td>\n",
       "      <td>...</td>\n",
       "      <td>...</td>\n",
       "      <td>...</td>\n",
       "      <td>...</td>\n",
       "    </tr>\n",
       "    <tr>\n",
       "      <th>3384</th>\n",
       "      <td>node</td>\n",
       "      <td>11083317088</td>\n",
       "      <td>46.862184</td>\n",
       "      <td>9.531169</td>\n",
       "      <td>Lidl</td>\n",
       "      <td>supermarket</td>\n",
       "      <td>NaN</td>\n",
       "      <td>NaN</td>\n",
       "      <td>NaN</td>\n",
       "      <td>NaN</td>\n",
       "    </tr>\n",
       "    <tr>\n",
       "      <th>3386</th>\n",
       "      <td>node</td>\n",
       "      <td>11098091830</td>\n",
       "      <td>46.205111</td>\n",
       "      <td>6.130174</td>\n",
       "      <td>Coop</td>\n",
       "      <td>supermarket</td>\n",
       "      <td>NaN</td>\n",
       "      <td>NaN</td>\n",
       "      <td>NaN</td>\n",
       "      <td>NaN</td>\n",
       "    </tr>\n",
       "    <tr>\n",
       "      <th>3387</th>\n",
       "      <td>node</td>\n",
       "      <td>11099817248</td>\n",
       "      <td>46.928691</td>\n",
       "      <td>7.561873</td>\n",
       "      <td>NaN</td>\n",
       "      <td>supermarket</td>\n",
       "      <td>NaN</td>\n",
       "      <td>NaN</td>\n",
       "      <td>NaN</td>\n",
       "      <td>NaN</td>\n",
       "    </tr>\n",
       "    <tr>\n",
       "      <th>3388</th>\n",
       "      <td>node</td>\n",
       "      <td>11103235832</td>\n",
       "      <td>46.166742</td>\n",
       "      <td>8.771970</td>\n",
       "      <td>Migros</td>\n",
       "      <td>supermarket</td>\n",
       "      <td>NaN</td>\n",
       "      <td>NaN</td>\n",
       "      <td>NaN</td>\n",
       "      <td>NaN</td>\n",
       "    </tr>\n",
       "    <tr>\n",
       "      <th>3391</th>\n",
       "      <td>node</td>\n",
       "      <td>11129298207</td>\n",
       "      <td>47.537518</td>\n",
       "      <td>7.608581</td>\n",
       "      <td>Coop</td>\n",
       "      <td>supermarket</td>\n",
       "      <td>NaN</td>\n",
       "      <td>NaN</td>\n",
       "      <td>NaN</td>\n",
       "      <td>NaN</td>\n",
       "    </tr>\n",
       "  </tbody>\n",
       "</table>\n",
       "<p>1777 rows × 10 columns</p>\n",
       "</div>"
      ],
      "text/plain": [
       "      type           id        lat       lon   brand         shop city street  \\\n",
       "0     node     33126515  47.155616  9.037915    Spar  supermarket  NaN    NaN   \n",
       "5     node     60271452  47.406671  9.305450     NaN  supermarket  NaN    NaN   \n",
       "6     node     70656485  47.491253  8.733981     NaN  supermarket  NaN    NaN   \n",
       "10    node     81321513  47.532917  9.066408   Landi  supermarket  NaN    NaN   \n",
       "13    node     95582038  47.050385  9.059214     NaN  supermarket  NaN    NaN   \n",
       "...    ...          ...        ...       ...     ...          ...  ...    ...   \n",
       "3384  node  11083317088  46.862184  9.531169    Lidl  supermarket  NaN    NaN   \n",
       "3386  node  11098091830  46.205111  6.130174    Coop  supermarket  NaN    NaN   \n",
       "3387  node  11099817248  46.928691  7.561873     NaN  supermarket  NaN    NaN   \n",
       "3388  node  11103235832  46.166742  8.771970  Migros  supermarket  NaN    NaN   \n",
       "3391  node  11129298207  47.537518  7.608581    Coop  supermarket  NaN    NaN   \n",
       "\n",
       "     housenumber postcode  \n",
       "0            NaN      NaN  \n",
       "5            NaN      NaN  \n",
       "6            NaN      NaN  \n",
       "10           NaN      NaN  \n",
       "13           NaN      NaN  \n",
       "...          ...      ...  \n",
       "3384         NaN      NaN  \n",
       "3386         NaN      NaN  \n",
       "3387         NaN      NaN  \n",
       "3388         NaN      NaN  \n",
       "3391         NaN      NaN  \n",
       "\n",
       "[1777 rows x 10 columns]"
      ]
     },
     "execution_count": 7,
     "metadata": {},
     "output_type": "execute_result"
    }
   ],
   "source": [
    "# Count missing values\n",
    "print(pd.isna(df).sum())\n",
    "\n",
    "# Identify rows with missing values, e.g.:\n",
    "df.loc[pd.isna(df['city'])]"
   ]
  },
  {
   "cell_type": "markdown",
   "id": "240063a9",
   "metadata": {},
   "source": [
    "## Count and identify duplicated values (if any)"
   ]
  },
  {
   "cell_type": "code",
   "execution_count": 8,
   "id": "5329c099",
   "metadata": {},
   "outputs": [
    {
     "name": "stdout",
     "output_type": "stream",
     "text": [
      "0\n"
     ]
    },
    {
     "data": {
      "text/html": [
       "<div>\n",
       "<style scoped>\n",
       "    .dataframe tbody tr th:only-of-type {\n",
       "        vertical-align: middle;\n",
       "    }\n",
       "\n",
       "    .dataframe tbody tr th {\n",
       "        vertical-align: top;\n",
       "    }\n",
       "\n",
       "    .dataframe thead th {\n",
       "        text-align: right;\n",
       "    }\n",
       "</style>\n",
       "<table border=\"1\" class=\"dataframe\">\n",
       "  <thead>\n",
       "    <tr style=\"text-align: right;\">\n",
       "      <th></th>\n",
       "      <th>type</th>\n",
       "      <th>id</th>\n",
       "      <th>lat</th>\n",
       "      <th>lon</th>\n",
       "      <th>brand</th>\n",
       "      <th>shop</th>\n",
       "      <th>city</th>\n",
       "      <th>street</th>\n",
       "      <th>housenumber</th>\n",
       "      <th>postcode</th>\n",
       "    </tr>\n",
       "  </thead>\n",
       "  <tbody>\n",
       "  </tbody>\n",
       "</table>\n",
       "</div>"
      ],
      "text/plain": [
       "Empty DataFrame\n",
       "Columns: [type, id, lat, lon, brand, shop, city, street, housenumber, postcode]\n",
       "Index: []"
      ]
     },
     "execution_count": 8,
     "metadata": {},
     "output_type": "execute_result"
    }
   ],
   "source": [
    "# Count duplicated values\n",
    "print(df.duplicated().sum())\n",
    "\n",
    "# Identify rows with duplicated values, e.g.:\n",
    "df[df[['id']].duplicated()]"
   ]
  },
  {
   "cell_type": "markdown",
   "id": "ace6d22c",
   "metadata": {},
   "source": [
    "## Get data types of all variables"
   ]
  },
  {
   "cell_type": "code",
   "execution_count": 9,
   "id": "dd9244a5",
   "metadata": {},
   "outputs": [
    {
     "data": {
      "text/plain": [
       "type            object\n",
       "id               int64\n",
       "lat            float64\n",
       "lon            float64\n",
       "brand           object\n",
       "shop            object\n",
       "city            object\n",
       "street          object\n",
       "housenumber     object\n",
       "postcode        object\n",
       "dtype: object"
      ]
     },
     "execution_count": 9,
     "metadata": {},
     "output_type": "execute_result"
    }
   ],
   "source": [
    "# Get data types (note that in pandas, a string is referred to as 'object')\n",
    "df.dtypes"
   ]
  },
  {
   "cell_type": "markdown",
   "id": "165f8f9f",
   "metadata": {},
   "source": [
    "### Save data to file"
   ]
  },
  {
   "cell_type": "code",
   "execution_count": 10,
   "id": "3c2773d3",
   "metadata": {},
   "outputs": [],
   "source": [
    "df.to_csv('supermarkets_data_prepared.csv', \n",
    "          sep=\",\", \n",
    "          encoding='utf-8',\n",
    "          index=False)"
   ]
  },
  {
   "cell_type": "markdown",
   "id": "86257783",
   "metadata": {},
   "source": [
    "### Jupyter notebook --footer info-- (please always provide this at the end of each submitted notebook)"
   ]
  },
  {
   "cell_type": "code",
   "execution_count": 11,
   "id": "7f5bf8aa",
   "metadata": {},
   "outputs": [
    {
     "name": "stdout",
     "output_type": "stream",
     "text": [
      "-----------------------------------\n",
      "POSIX\n",
      "Linux | 6.5.0-1025-azure\n",
      "Datetime: 2024-09-23 05:19:05\n",
      "Python Version: 3.11.10\n",
      "-----------------------------------\n"
     ]
    }
   ],
   "source": [
    "import os\n",
    "import platform\n",
    "import socket\n",
    "from platform import python_version\n",
    "from datetime import datetime\n",
    "\n",
    "print('-----------------------------------')\n",
    "print(os.name.upper())\n",
    "print(platform.system(), '|', platform.release())\n",
    "print('Datetime:', datetime.now().strftime(\"%Y-%m-%d %H:%M:%S\"))\n",
    "print('Python Version:', python_version())\n",
    "print('-----------------------------------')"
   ]
  }
 ],
 "metadata": {
  "kernelspec": {
   "display_name": "Python 3 (ipykernel)",
   "language": "python",
   "name": "python3"
  },
  "language_info": {
   "codemirror_mode": {
    "name": "ipython",
    "version": 3
   },
   "file_extension": ".py",
   "mimetype": "text/x-python",
   "name": "python",
   "nbconvert_exporter": "python",
   "pygments_lexer": "ipython3",
   "version": "3.11.10"
  }
 },
 "nbformat": 4,
 "nbformat_minor": 5
}
