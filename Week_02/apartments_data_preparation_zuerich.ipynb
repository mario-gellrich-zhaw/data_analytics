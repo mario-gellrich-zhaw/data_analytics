{
 "cells": [
  {
   "cell_type": "markdown",
   "id": "3272230e",
   "metadata": {},
   "source": [
    "# Importing and preparing rental apartments data"
   ]
  },
  {
   "cell_type": "markdown",
   "id": "c0e6a164",
   "metadata": {},
   "source": [
    "## Libraries and settings"
   ]
  },
  {
   "cell_type": "code",
   "execution_count": 1,
   "id": "e3b51c23",
   "metadata": {},
   "outputs": [
    {
     "name": "stdout",
     "output_type": "stream",
     "text": [
      "/workspaces/data_analytics/Week_02\n"
     ]
    }
   ],
   "source": [
    "# Libraries\n",
    "import os\n",
    "import re\n",
    "import time\n",
    "import fnmatch\n",
    "import numpy as np\n",
    "import pandas as pd\n",
    "\n",
    "# Ignore warnings\n",
    "import warnings\n",
    "warnings.filterwarnings(\"ignore\")\n",
    "\n",
    "# Get current working directory\n",
    "print(os.getcwd())"
   ]
  },
  {
   "cell_type": "markdown",
   "id": "2a7bff4a",
   "metadata": {},
   "source": [
    "## Importing data"
   ]
  },
  {
   "cell_type": "code",
   "execution_count": 2,
   "id": "aa8f37dd",
   "metadata": {
    "scrolled": true
   },
   "outputs": [
    {
     "name": "stdout",
     "output_type": "stream",
     "text": [
      "apartments_data_winterthur.csv\n",
      "apartments_data_prepared.csv\n",
      "apartments_data_zuerich.csv\n"
     ]
    },
    {
     "data": {
      "text/html": [
       "<div>\n",
       "<style scoped>\n",
       "    .dataframe tbody tr th:only-of-type {\n",
       "        vertical-align: middle;\n",
       "    }\n",
       "\n",
       "    .dataframe tbody tr th {\n",
       "        vertical-align: top;\n",
       "    }\n",
       "\n",
       "    .dataframe thead th {\n",
       "        text-align: right;\n",
       "    }\n",
       "</style>\n",
       "<table border=\"1\" class=\"dataframe\">\n",
       "  <thead>\n",
       "    <tr style=\"text-align: right;\">\n",
       "      <th></th>\n",
       "      <th>web-scraper-order</th>\n",
       "      <th>web-scraper-start-url</th>\n",
       "      <th>rooms_area_price_raw</th>\n",
       "      <th>address_raw</th>\n",
       "      <th>price_raw</th>\n",
       "      <th>description_raw</th>\n",
       "      <th>text_raw</th>\n",
       "    </tr>\n",
       "  </thead>\n",
       "  <tbody>\n",
       "    <tr>\n",
       "      <th>0</th>\n",
       "      <td>1693998201-1</td>\n",
       "      <td>https://www.immoscout24.ch/de/immobilien/miete...</td>\n",
       "      <td>3 Zimmer, 49 m², CHF 1441.—</td>\n",
       "      <td>Neuhusstrasse 6, 8630 Rüti ZH, ZH</td>\n",
       "      <td>CHF 1441.—</td>\n",
       "      <td>«Gemütliche Wohnung im Grünen»</td>\n",
       "      <td>3 Zimmer, 49 m², CHF 1441.—Neuhusstrasse 6, 86...</td>\n",
       "    </tr>\n",
       "    <tr>\n",
       "      <th>1</th>\n",
       "      <td>1693998201-2</td>\n",
       "      <td>https://www.immoscout24.ch/de/immobilien/miete...</td>\n",
       "      <td>3,5 Zimmer, 65 m², CHF 1850.—</td>\n",
       "      <td>Zürcherstrasse 1, 8173 Neerach, ZH</td>\n",
       "      <td>CHF 1850.—</td>\n",
       "      <td>«Attraktive 3.5-Zimmer-EG-Wohnung in Neerach»</td>\n",
       "      <td>3,5 Zimmer, 65 m², CHF 1850.—Zürcherstrasse 1,...</td>\n",
       "    </tr>\n",
       "    <tr>\n",
       "      <th>2</th>\n",
       "      <td>1693998201-3</td>\n",
       "      <td>https://www.immoscout24.ch/de/immobilien/miete...</td>\n",
       "      <td>19 m², CHF 2686.—</td>\n",
       "      <td>Cramerstrasse 8-12, 8004 Zürich, ZH</td>\n",
       "      <td>CHF 2686.—</td>\n",
       "      <td>«Studio Apartment Junior Balcony»</td>\n",
       "      <td>19 m², CHF 2686.—Cramerstrasse 8-12, 8004 Züri...</td>\n",
       "    </tr>\n",
       "    <tr>\n",
       "      <th>3</th>\n",
       "      <td>1693998201-4</td>\n",
       "      <td>https://www.immoscout24.ch/de/immobilien/miete...</td>\n",
       "      <td>2 Zimmer, 54 m², CHF 4853.—</td>\n",
       "      <td>Cramerstrasse 8-12, 8004 Zürich, ZH</td>\n",
       "      <td>CHF 4853.—</td>\n",
       "      <td>«2 Bedroom Apartment Senior Balcony»</td>\n",
       "      <td>2 Zimmer, 54 m², CHF 4853.—Cramerstrasse 8-12,...</td>\n",
       "    </tr>\n",
       "    <tr>\n",
       "      <th>4</th>\n",
       "      <td>1693998201-5</td>\n",
       "      <td>https://www.immoscout24.ch/de/immobilien/miete...</td>\n",
       "      <td>2 Zimmer, 49 m², CHF 4335.—</td>\n",
       "      <td>Rotachstrasse 33, 8003 Zürich, ZH</td>\n",
       "      <td>CHF 4335.—</td>\n",
       "      <td>«2 Bedroom Apartment Junior Terrace»</td>\n",
       "      <td>2 Zimmer, 49 m², CHF 4335.—Rotachstrasse 33, 8...</td>\n",
       "    </tr>\n",
       "  </tbody>\n",
       "</table>\n",
       "</div>"
      ],
      "text/plain": [
       "  web-scraper-order                              web-scraper-start-url  \\\n",
       "0      1693998201-1  https://www.immoscout24.ch/de/immobilien/miete...   \n",
       "1      1693998201-2  https://www.immoscout24.ch/de/immobilien/miete...   \n",
       "2      1693998201-3  https://www.immoscout24.ch/de/immobilien/miete...   \n",
       "3      1693998201-4  https://www.immoscout24.ch/de/immobilien/miete...   \n",
       "4      1693998201-5  https://www.immoscout24.ch/de/immobilien/miete...   \n",
       "\n",
       "            rooms_area_price_raw                          address_raw  \\\n",
       "0    3 Zimmer, 49 m², CHF 1441.—    Neuhusstrasse 6, 8630 Rüti ZH, ZH   \n",
       "1  3,5 Zimmer, 65 m², CHF 1850.—   Zürcherstrasse 1, 8173 Neerach, ZH   \n",
       "2              19 m², CHF 2686.—  Cramerstrasse 8-12, 8004 Zürich, ZH   \n",
       "3    2 Zimmer, 54 m², CHF 4853.—  Cramerstrasse 8-12, 8004 Zürich, ZH   \n",
       "4    2 Zimmer, 49 m², CHF 4335.—    Rotachstrasse 33, 8003 Zürich, ZH   \n",
       "\n",
       "    price_raw                                description_raw  \\\n",
       "0  CHF 1441.—                 «Gemütliche Wohnung im Grünen»   \n",
       "1  CHF 1850.—  «Attraktive 3.5-Zimmer-EG-Wohnung in Neerach»   \n",
       "2  CHF 2686.—              «Studio Apartment Junior Balcony»   \n",
       "3  CHF 4853.—           «2 Bedroom Apartment Senior Balcony»   \n",
       "4  CHF 4335.—           «2 Bedroom Apartment Junior Terrace»   \n",
       "\n",
       "                                            text_raw  \n",
       "0  3 Zimmer, 49 m², CHF 1441.—Neuhusstrasse 6, 86...  \n",
       "1  3,5 Zimmer, 65 m², CHF 1850.—Zürcherstrasse 1,...  \n",
       "2  19 m², CHF 2686.—Cramerstrasse 8-12, 8004 Züri...  \n",
       "3  2 Zimmer, 54 m², CHF 4853.—Cramerstrasse 8-12,...  \n",
       "4  2 Zimmer, 49 m², CHF 4335.—Rotachstrasse 33, 8...  "
      ]
     },
     "execution_count": 2,
     "metadata": {},
     "output_type": "execute_result"
    }
   ],
   "source": [
    "# Show .csv - files in the directory\n",
    "flist = fnmatch.filter(os.listdir('.'), '*.csv')\n",
    "for i in flist:\n",
    "    print(i)\n",
    "\n",
    "# Read the data to a pandas data frame\n",
    "df = pd.read_csv('apartments_data_zuerich.csv', sep=',', encoding='utf-8')\n",
    "\n",
    "# Show first records of data frame\n",
    "df.head()"
   ]
  },
  {
   "cell_type": "markdown",
   "id": "b95e9f0e",
   "metadata": {},
   "source": [
    "## Count number of rows and columns in the data frame"
   ]
  },
  {
   "cell_type": "code",
   "execution_count": 3,
   "id": "ec7391ad",
   "metadata": {},
   "outputs": [
    {
     "name": "stdout",
     "output_type": "stream",
     "text": [
      "Dimension: (1008, 7)\n",
      "Number of rows: 1008\n",
      "Number of columns: 7\n"
     ]
    }
   ],
   "source": [
    "# Dimension (rows, columns)\n",
    "print('Dimension:', df.shape)\n",
    "\n",
    "# Number of rows\n",
    "print('Number of rows:', df.shape[0])\n",
    "\n",
    "# Number of columns\n",
    "print('Number of columns:', df.shape[1])"
   ]
  },
  {
   "cell_type": "markdown",
   "id": "ace6d22c",
   "metadata": {},
   "source": [
    "## Get data types (raw-format from web scraping)"
   ]
  },
  {
   "cell_type": "code",
   "execution_count": 4,
   "id": "dd9244a5",
   "metadata": {},
   "outputs": [
    {
     "data": {
      "text/plain": [
       "web-scraper-order        object\n",
       "web-scraper-start-url    object\n",
       "rooms_area_price_raw     object\n",
       "address_raw              object\n",
       "price_raw                object\n",
       "description_raw          object\n",
       "text_raw                 object\n",
       "dtype: object"
      ]
     },
     "execution_count": 4,
     "metadata": {},
     "output_type": "execute_result"
    }
   ],
   "source": [
    "# Get data types (note that in pandas, a string is referred to as 'object')\n",
    "df.dtypes"
   ]
  },
  {
   "cell_type": "markdown",
   "id": "9ea951fd",
   "metadata": {},
   "source": [
    "## Extract and save relevant information from raw data using regular expressions (regex)"
   ]
  },
  {
   "cell_type": "markdown",
   "id": "7c3be629",
   "metadata": {},
   "source": [
    "### Extract number of rooms"
   ]
  },
  {
   "cell_type": "code",
   "execution_count": 5,
   "id": "1c543c59",
   "metadata": {},
   "outputs": [
    {
     "name": "stdout",
     "output_type": "stream",
     "text": [
      "0      3 Zimmer, 49 m², CHF 1441.—\n",
      "1    3,5 Zimmer, 65 m², CHF 1850.—\n",
      "2                19 m², CHF 2686.—\n",
      "3      2 Zimmer, 54 m², CHF 4853.—\n",
      "4      2 Zimmer, 49 m², CHF 4335.—\n",
      "Name: rooms_area_price_raw, dtype: object \n",
      "\n",
      "0    3.0\n",
      "1    3.5\n",
      "2    NaN\n",
      "3    2.0\n",
      "4    2.0\n",
      "Name: rooms, dtype: float64\n"
     ]
    }
   ],
   "source": [
    "# Extract values from 'rooms_area_price_raw' strings\n",
    "rooms = []\n",
    "for i in df['rooms_area_price_raw']:\n",
    "    d1 = re.findall('(.*)Zimmer', i)\n",
    "    try:\n",
    "        d2 = d1[0].strip().replace(',', '.')\n",
    "    except:\n",
    "        d2 = None\n",
    "    rooms.append(d2)\n",
    "\n",
    "# Save as new variable in the pandas data frame\n",
    "df['rooms'] = pd.Series(rooms, dtype=\"float64\")\n",
    "    \n",
    "# Print first 5 values\n",
    "print(df['rooms_area_price_raw'].head(5), '\\n')\n",
    "print(df['rooms'].head(5))"
   ]
  },
  {
   "cell_type": "markdown",
   "id": "d7f049dc",
   "metadata": {},
   "source": [
    "### Extract living area"
   ]
  },
  {
   "cell_type": "code",
   "execution_count": 6,
   "id": "85bc7408",
   "metadata": {},
   "outputs": [
    {
     "name": "stdout",
     "output_type": "stream",
     "text": [
      "0      3 Zimmer, 49 m², CHF 1441.—\n",
      "1    3,5 Zimmer, 65 m², CHF 1850.—\n",
      "2                19 m², CHF 2686.—\n",
      "3      2 Zimmer, 54 m², CHF 4853.—\n",
      "4      2 Zimmer, 49 m², CHF 4335.—\n",
      "Name: rooms_area_price_raw, dtype: object \n",
      "\n",
      "0      49\n",
      "1      65\n",
      "2    <NA>\n",
      "3      54\n",
      "4      49\n",
      "Name: area, dtype: Int64\n"
     ]
    }
   ],
   "source": [
    "# Extract values from 'rooms_area_price_raw' strings\n",
    "area = []\n",
    "for i in df['rooms_area_price_raw']:\n",
    "    d1 = re.findall('Zimmer, (.*)m²', i)\n",
    "    try:\n",
    "        d2 = d1[0].strip()\n",
    "    except:\n",
    "        d2 = None\n",
    "    area.append(d2)\n",
    "\n",
    "# Save as new variable in the pandas data frame\n",
    "df['area'] = pd.Series(area, dtype=\"Int64\")\n",
    "\n",
    "# Print first 5 values\n",
    "print(df['rooms_area_price_raw'].head(5), '\\n')\n",
    "print(df['area'].head(5))"
   ]
  },
  {
   "cell_type": "markdown",
   "id": "319ca1bd",
   "metadata": {},
   "source": [
    "### Extract rental price"
   ]
  },
  {
   "cell_type": "code",
   "execution_count": 7,
   "id": "97bba5d3",
   "metadata": {},
   "outputs": [
    {
     "name": "stdout",
     "output_type": "stream",
     "text": [
      "0    CHF 1441.—\n",
      "1    CHF 1850.—\n",
      "2    CHF 2686.—\n",
      "3    CHF 4853.—\n",
      "4    CHF 4335.—\n",
      "Name: price_raw, dtype: object \n",
      "\n",
      "0    1441\n",
      "1    1850\n",
      "2    2686\n",
      "3    4853\n",
      "4    4335\n",
      "Name: price, dtype: Int64\n"
     ]
    }
   ],
   "source": [
    "# Extract values from 'price_raw' strings\n",
    "price = []\n",
    "for i in df['price_raw']:\n",
    "    d1 = re.findall('[0-9]+', i)\n",
    "    try:\n",
    "        d2 = d1[0].strip()\n",
    "    except:\n",
    "        d2 = None\n",
    "    price.append(d2)\n",
    "\n",
    "# Save as new variable in the pandas data frame\n",
    "df['price'] = pd.Series(price, dtype=\"Int64\")\n",
    "\n",
    "# Print first 5 values\n",
    "print(df['price_raw'].head(5), '\\n')\n",
    "print(df['price'].head(5))"
   ]
  },
  {
   "cell_type": "markdown",
   "id": "53c03c80",
   "metadata": {},
   "source": [
    "### Get data types of all variables including the new ones"
   ]
  },
  {
   "cell_type": "code",
   "execution_count": 8,
   "id": "e2bc73f4",
   "metadata": {},
   "outputs": [
    {
     "data": {
      "text/plain": [
       "web-scraper-order         object\n",
       "web-scraper-start-url     object\n",
       "rooms_area_price_raw      object\n",
       "address_raw               object\n",
       "price_raw                 object\n",
       "description_raw           object\n",
       "text_raw                  object\n",
       "rooms                    float64\n",
       "area                       Int64\n",
       "price                      Int64\n",
       "dtype: object"
      ]
     },
     "execution_count": 8,
     "metadata": {},
     "output_type": "execute_result"
    }
   ],
   "source": [
    "df.dtypes"
   ]
  },
  {
   "cell_type": "markdown",
   "id": "bad3c2d0",
   "metadata": {},
   "source": [
    "## Count and identify missing values (if any)"
   ]
  },
  {
   "cell_type": "code",
   "execution_count": 9,
   "id": "707adcf1",
   "metadata": {},
   "outputs": [
    {
     "name": "stdout",
     "output_type": "stream",
     "text": [
      "web-scraper-order          0\n",
      "web-scraper-start-url      0\n",
      "rooms_area_price_raw       0\n",
      "address_raw                0\n",
      "price_raw                  0\n",
      "description_raw            0\n",
      "text_raw                   0\n",
      "rooms                     45\n",
      "area                     135\n",
      "price                     15\n",
      "dtype: int64\n"
     ]
    },
    {
     "data": {
      "text/html": [
       "<div>\n",
       "<style scoped>\n",
       "    .dataframe tbody tr th:only-of-type {\n",
       "        vertical-align: middle;\n",
       "    }\n",
       "\n",
       "    .dataframe tbody tr th {\n",
       "        vertical-align: top;\n",
       "    }\n",
       "\n",
       "    .dataframe thead th {\n",
       "        text-align: right;\n",
       "    }\n",
       "</style>\n",
       "<table border=\"1\" class=\"dataframe\">\n",
       "  <thead>\n",
       "    <tr style=\"text-align: right;\">\n",
       "      <th></th>\n",
       "      <th>web-scraper-order</th>\n",
       "      <th>web-scraper-start-url</th>\n",
       "      <th>rooms_area_price_raw</th>\n",
       "      <th>address_raw</th>\n",
       "      <th>price_raw</th>\n",
       "      <th>description_raw</th>\n",
       "      <th>text_raw</th>\n",
       "      <th>rooms</th>\n",
       "      <th>area</th>\n",
       "      <th>price</th>\n",
       "    </tr>\n",
       "  </thead>\n",
       "  <tbody>\n",
       "    <tr>\n",
       "      <th>2</th>\n",
       "      <td>1693998201-3</td>\n",
       "      <td>https://www.immoscout24.ch/de/immobilien/miete...</td>\n",
       "      <td>19 m², CHF 2686.—</td>\n",
       "      <td>Cramerstrasse 8-12, 8004 Zürich, ZH</td>\n",
       "      <td>CHF 2686.—</td>\n",
       "      <td>«Studio Apartment Junior Balcony»</td>\n",
       "      <td>19 m², CHF 2686.—Cramerstrasse 8-12, 8004 Züri...</td>\n",
       "      <td>NaN</td>\n",
       "      <td>&lt;NA&gt;</td>\n",
       "      <td>2686</td>\n",
       "    </tr>\n",
       "    <tr>\n",
       "      <th>5</th>\n",
       "      <td>1693998201-6</td>\n",
       "      <td>https://www.immoscout24.ch/de/immobilien/miete...</td>\n",
       "      <td>34 m², CHF 3205.—</td>\n",
       "      <td>Binzmühlestr. 50, 8050 Zürich, ZH</td>\n",
       "      <td>CHF 3205.—</td>\n",
       "      <td>«Studio Apartment Senior Terrace»</td>\n",
       "      <td>34 m², CHF 3205.—Binzmühlestr. 50, 8050 Zürich...</td>\n",
       "      <td>NaN</td>\n",
       "      <td>&lt;NA&gt;</td>\n",
       "      <td>3205</td>\n",
       "    </tr>\n",
       "    <tr>\n",
       "      <th>6</th>\n",
       "      <td>1693998201-7</td>\n",
       "      <td>https://www.immoscout24.ch/de/immobilien/miete...</td>\n",
       "      <td>25 m², CHF 3308.—</td>\n",
       "      <td>Rotachstrasse 33, 8003 Zürich, ZH</td>\n",
       "      <td>CHF 3308.—</td>\n",
       "      <td>«1 Bedroom Apartment Junior Terrace»</td>\n",
       "      <td>25 m², CHF 3308.—Rotachstrasse 33, 8003 Zürich...</td>\n",
       "      <td>NaN</td>\n",
       "      <td>&lt;NA&gt;</td>\n",
       "      <td>3308</td>\n",
       "    </tr>\n",
       "    <tr>\n",
       "      <th>7</th>\n",
       "      <td>1693998201-8</td>\n",
       "      <td>https://www.immoscout24.ch/de/immobilien/miete...</td>\n",
       "      <td>43 m², CHF 4241.—</td>\n",
       "      <td>Militärstrasse 24, 8004 Zürich, ZH</td>\n",
       "      <td>CHF 4241.—</td>\n",
       "      <td>«2 Bedroom Apartment Junior»</td>\n",
       "      <td>43 m², CHF 4241.—Militärstrasse 24, 8004 Züric...</td>\n",
       "      <td>NaN</td>\n",
       "      <td>&lt;NA&gt;</td>\n",
       "      <td>4241</td>\n",
       "    </tr>\n",
       "    <tr>\n",
       "      <th>8</th>\n",
       "      <td>1693998201-9</td>\n",
       "      <td>https://www.immoscout24.ch/de/immobilien/miete...</td>\n",
       "      <td>19 m², CHF 2582.—</td>\n",
       "      <td>Cramerstrasse 8-12, 8004 Zürich, ZH</td>\n",
       "      <td>CHF 2582.—</td>\n",
       "      <td>«Studio Apartment Junior»</td>\n",
       "      <td>19 m², CHF 2582.—Cramerstrasse 8-12, 8004 Züri...</td>\n",
       "      <td>NaN</td>\n",
       "      <td>&lt;NA&gt;</td>\n",
       "      <td>2582</td>\n",
       "    </tr>\n",
       "  </tbody>\n",
       "</table>\n",
       "</div>"
      ],
      "text/plain": [
       "  web-scraper-order                              web-scraper-start-url  \\\n",
       "2      1693998201-3  https://www.immoscout24.ch/de/immobilien/miete...   \n",
       "5      1693998201-6  https://www.immoscout24.ch/de/immobilien/miete...   \n",
       "6      1693998201-7  https://www.immoscout24.ch/de/immobilien/miete...   \n",
       "7      1693998201-8  https://www.immoscout24.ch/de/immobilien/miete...   \n",
       "8      1693998201-9  https://www.immoscout24.ch/de/immobilien/miete...   \n",
       "\n",
       "  rooms_area_price_raw                          address_raw   price_raw  \\\n",
       "2    19 m², CHF 2686.—  Cramerstrasse 8-12, 8004 Zürich, ZH  CHF 2686.—   \n",
       "5    34 m², CHF 3205.—    Binzmühlestr. 50, 8050 Zürich, ZH  CHF 3205.—   \n",
       "6    25 m², CHF 3308.—    Rotachstrasse 33, 8003 Zürich, ZH  CHF 3308.—   \n",
       "7    43 m², CHF 4241.—   Militärstrasse 24, 8004 Zürich, ZH  CHF 4241.—   \n",
       "8    19 m², CHF 2582.—  Cramerstrasse 8-12, 8004 Zürich, ZH  CHF 2582.—   \n",
       "\n",
       "                        description_raw  \\\n",
       "2     «Studio Apartment Junior Balcony»   \n",
       "5     «Studio Apartment Senior Terrace»   \n",
       "6  «1 Bedroom Apartment Junior Terrace»   \n",
       "7          «2 Bedroom Apartment Junior»   \n",
       "8             «Studio Apartment Junior»   \n",
       "\n",
       "                                            text_raw  rooms  area  price  \n",
       "2  19 m², CHF 2686.—Cramerstrasse 8-12, 8004 Züri...    NaN  <NA>   2686  \n",
       "5  34 m², CHF 3205.—Binzmühlestr. 50, 8050 Zürich...    NaN  <NA>   3205  \n",
       "6  25 m², CHF 3308.—Rotachstrasse 33, 8003 Zürich...    NaN  <NA>   3308  \n",
       "7  43 m², CHF 4241.—Militärstrasse 24, 8004 Züric...    NaN  <NA>   4241  \n",
       "8  19 m², CHF 2582.—Cramerstrasse 8-12, 8004 Züri...    NaN  <NA>   2582  "
      ]
     },
     "execution_count": 9,
     "metadata": {},
     "output_type": "execute_result"
    }
   ],
   "source": [
    "# Count missing values\n",
    "print(pd.isna(df).sum())\n",
    "\n",
    "# Identify rows with missing values\n",
    "df[df.isna().any(axis=1)].head()"
   ]
  },
  {
   "cell_type": "markdown",
   "id": "92641a30",
   "metadata": {},
   "source": [
    "## Count and identify duplicated values (if any)"
   ]
  },
  {
   "cell_type": "code",
   "execution_count": 10,
   "id": "cc6214d8",
   "metadata": {},
   "outputs": [
    {
     "name": "stdout",
     "output_type": "stream",
     "text": [
      "0\n"
     ]
    },
    {
     "data": {
      "text/html": [
       "<div>\n",
       "<style scoped>\n",
       "    .dataframe tbody tr th:only-of-type {\n",
       "        vertical-align: middle;\n",
       "    }\n",
       "\n",
       "    .dataframe tbody tr th {\n",
       "        vertical-align: top;\n",
       "    }\n",
       "\n",
       "    .dataframe thead th {\n",
       "        text-align: right;\n",
       "    }\n",
       "</style>\n",
       "<table border=\"1\" class=\"dataframe\">\n",
       "  <thead>\n",
       "    <tr style=\"text-align: right;\">\n",
       "      <th></th>\n",
       "      <th>web-scraper-order</th>\n",
       "      <th>web-scraper-start-url</th>\n",
       "      <th>rooms_area_price_raw</th>\n",
       "      <th>address_raw</th>\n",
       "      <th>price_raw</th>\n",
       "      <th>description_raw</th>\n",
       "      <th>text_raw</th>\n",
       "      <th>rooms</th>\n",
       "      <th>area</th>\n",
       "      <th>price</th>\n",
       "    </tr>\n",
       "  </thead>\n",
       "  <tbody>\n",
       "  </tbody>\n",
       "</table>\n",
       "</div>"
      ],
      "text/plain": [
       "Empty DataFrame\n",
       "Columns: [web-scraper-order, web-scraper-start-url, rooms_area_price_raw, address_raw, price_raw, description_raw, text_raw, rooms, area, price]\n",
       "Index: []"
      ]
     },
     "execution_count": 10,
     "metadata": {},
     "output_type": "execute_result"
    }
   ],
   "source": [
    "# Count duplicated values\n",
    "print(df.duplicated().sum())\n",
    "\n",
    "# Identify rows with duplicated values, e.g.:\n",
    "df[df[['web-scraper-order', 'price_raw', 'address_raw']].duplicated()]"
   ]
  },
  {
   "cell_type": "markdown",
   "id": "165f8f9f",
   "metadata": {},
   "source": [
    "### Save data to file"
   ]
  },
  {
   "cell_type": "code",
   "execution_count": 11,
   "id": "3c2773d3",
   "metadata": {},
   "outputs": [],
   "source": [
    "df.to_csv('apartments_data_prepared.csv', \n",
    "          sep=\",\", \n",
    "          encoding='utf-8',\n",
    "          index=False)"
   ]
  },
  {
   "cell_type": "markdown",
   "id": "86257783",
   "metadata": {},
   "source": [
    "### Jupyter notebook --footer info-- (please always provide this at the end of each submitted notebook)"
   ]
  },
  {
   "cell_type": "code",
   "execution_count": 12,
   "id": "7f5bf8aa",
   "metadata": {},
   "outputs": [
    {
     "name": "stdout",
     "output_type": "stream",
     "text": [
      "-----------------------------------\n",
      "POSIX\n",
      "Linux | 6.8.0-1014-azure\n",
      "Datetime: 2024-09-25 13:19:26\n",
      "Python Version: 3.11.10\n",
      "-----------------------------------\n"
     ]
    }
   ],
   "source": [
    "import os\n",
    "import platform\n",
    "import socket\n",
    "from platform import python_version\n",
    "from datetime import datetime\n",
    "\n",
    "print('-----------------------------------')\n",
    "print(os.name.upper())\n",
    "print(platform.system(), '|', platform.release())\n",
    "print('Datetime:', datetime.now().strftime(\"%Y-%m-%d %H:%M:%S\"))\n",
    "print('Python Version:', python_version())\n",
    "print('-----------------------------------')"
   ]
  }
 ],
 "metadata": {
  "kernelspec": {
   "display_name": "Python 3",
   "language": "python",
   "name": "python3"
  },
  "language_info": {
   "codemirror_mode": {
    "name": "ipython",
    "version": 3
   },
   "file_extension": ".py",
   "mimetype": "text/x-python",
   "name": "python",
   "nbconvert_exporter": "python",
   "pygments_lexer": "ipython3",
   "version": "3.11.10"
  }
 },
 "nbformat": 4,
 "nbformat_minor": 5
}
