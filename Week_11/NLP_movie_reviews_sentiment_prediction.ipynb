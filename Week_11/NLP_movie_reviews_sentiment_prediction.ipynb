{
 "cells": [
  {
   "cell_type": "markdown",
   "metadata": {},
   "source": [
    "# Natural Language Processing - Hotel Reviews Sentiment Prediction"
   ]
  },
  {
   "cell_type": "markdown",
   "metadata": {
    "_cell_guid": "b1076dfc-b9ad-4769-8c92-a6c4dae69d19",
    "_kg_hide-input": true,
    "_kg_hide-output": true,
    "_uuid": "8f2839f25d086af736a60e9eeb907d3b93b6e0e5",
    "execution": {
     "iopub.execute_input": "2020-10-02T08:57:40.001505Z",
     "iopub.status.busy": "2020-10-02T08:57:40.000768Z",
     "iopub.status.idle": "2020-10-02T08:57:40.008746Z",
     "shell.execute_reply": "2020-10-02T08:57:40.008004Z"
    },
    "papermill": {
     "duration": 0.043888,
     "end_time": "2020-10-02T08:57:40.008870",
     "exception": false,
     "start_time": "2020-10-02T08:57:39.964982",
     "status": "completed"
    },
    "tags": []
   },
   "source": [
    "## Libraries and settings"
   ]
  },
  {
   "cell_type": "code",
   "execution_count": 5,
   "metadata": {
    "execution": {
     "iopub.execute_input": "2020-10-02T08:57:40.078528Z",
     "iopub.status.busy": "2020-10-02T08:57:40.077785Z",
     "iopub.status.idle": "2020-10-02T08:57:50.791073Z",
     "shell.execute_reply": "2020-10-02T08:57:50.790048Z"
    },
    "papermill": {
     "duration": 10.753324,
     "end_time": "2020-10-02T08:57:50.791199",
     "exception": false,
     "start_time": "2020-10-02T08:57:40.037875",
     "status": "completed"
    },
    "tags": []
   },
   "outputs": [
    {
     "name": "stderr",
     "output_type": "stream",
     "text": [
      "[nltk_data] Downloading package stopwords to /home/vscode/nltk_data...\n",
      "[nltk_data]   Package stopwords is already up-to-date!\n",
      "[nltk_data] Downloading package punkt to /home/vscode/nltk_data...\n",
      "[nltk_data]   Package punkt is already up-to-date!\n",
      "[nltk_data] Downloading package wordnet to /home/vscode/nltk_data...\n",
      "[nltk_data]   Package wordnet is already up-to-date!\n",
      "[nltk_data] Downloading package omw-1.4 to /home/vscode/nltk_data...\n",
      "[nltk_data]   Package omw-1.4 is already up-to-date!\n",
      "[nltk_data] Downloading package averaged_perceptron_tagger to\n",
      "[nltk_data]     /home/vscode/nltk_data...\n",
      "[nltk_data]   Package averaged_perceptron_tagger is already up-to-\n",
      "[nltk_data]       date!\n"
     ]
    },
    {
     "name": "stdout",
     "output_type": "stream",
     "text": [
      "Current working directory: /workspaces/data_analytics/Week_11\n"
     ]
    }
   ],
   "source": [
    "# Libraries\n",
    "import os\n",
    "import re\n",
    "import numpy as np\n",
    "import pandas as pd\n",
    "import random\n",
    "import string\n",
    "\n",
    "import matplotlib.pyplot as plt\n",
    "from wordcloud import WordCloud\n",
    "\n",
    "import nltk\n",
    "\n",
    "# Import only once\n",
    "nltk.download('stopwords')\n",
    "nltk.download('punkt')\n",
    "nltk.download('wordnet')\n",
    "nltk.download('omw-1.4')\n",
    "nltk.download('averaged_perceptron_tagger')\n",
    "\n",
    "from nltk.stem import WordNetLemmatizer\n",
    "from nltk.stem.porter import PorterStemmer\n",
    "from nltk.tokenize import word_tokenize \n",
    "from nltk.corpus import stopwords\n",
    "\n",
    "from sklearn.metrics import accuracy_score\n",
    "from sklearn.metrics import confusion_matrix\n",
    "from sklearn.metrics import RocCurveDisplay\n",
    "from sklearn.metrics import classification_report\n",
    "from sklearn.ensemble import RandomForestClassifier\n",
    "from sklearn.model_selection import train_test_split\n",
    "from sklearn.feature_extraction.text import CountVectorizer\n",
    "from sklearn.feature_extraction.text import TfidfVectorizer\n",
    "\n",
    "# Set seed\n",
    "seed_value = 42\n",
    "np.random.seed(seed_value)\n",
    "random.seed(seed_value)\n",
    "\n",
    "# Ignore warnings\n",
    "import warnings\n",
    "warnings.filterwarnings('ignore')\n",
    "\n",
    "# Current working directory\n",
    "print('Current working directory:', os.getcwd())"
   ]
  },
  {
   "cell_type": "markdown",
   "metadata": {},
   "source": [
    "## Import hotel reviews\n",
    "- For detailed description of data see: https://www.kaggle.com/datasets/andrewmvd/trip-advisor-hotel-reviews"
   ]
  },
  {
   "cell_type": "code",
   "execution_count": 6,
   "metadata": {
    "_cell_guid": "79c7e3d0-c299-4dcb-8224-4455121ee9b0",
    "_uuid": "d629ff2d2480ee46fbb7e2d37f6b5fab8052498a",
    "execution": {
     "iopub.execute_input": "2020-10-02T08:57:50.927083Z",
     "iopub.status.busy": "2020-10-02T08:57:50.926430Z",
     "iopub.status.idle": "2020-10-02T08:57:51.106445Z",
     "shell.execute_reply": "2020-10-02T08:57:51.106941Z"
    },
    "papermill": {
     "duration": 0.216441,
     "end_time": "2020-10-02T08:57:51.107072",
     "exception": false,
     "start_time": "2020-10-02T08:57:50.890631",
     "status": "completed"
    },
    "tags": []
   },
   "outputs": [
    {
     "name": "stdout",
     "output_type": "stream",
     "text": [
      "Number of reviews in data: 2000\n"
     ]
    },
    {
     "data": {
      "text/html": [
       "<div>\n",
       "<style scoped>\n",
       "    .dataframe tbody tr th:only-of-type {\n",
       "        vertical-align: middle;\n",
       "    }\n",
       "\n",
       "    .dataframe tbody tr th {\n",
       "        vertical-align: top;\n",
       "    }\n",
       "\n",
       "    .dataframe thead th {\n",
       "        text-align: right;\n",
       "    }\n",
       "</style>\n",
       "<table border=\"1\" class=\"dataframe\">\n",
       "  <thead>\n",
       "    <tr style=\"text-align: right;\">\n",
       "      <th></th>\n",
       "      <th>Rating</th>\n",
       "      <th>Review</th>\n",
       "    </tr>\n",
       "  </thead>\n",
       "  <tbody>\n",
       "    <tr>\n",
       "      <th>0</th>\n",
       "      <td>0</td>\n",
       "      <td>I am a back Batman movie and TV fan. I loved t...</td>\n",
       "    </tr>\n",
       "    <tr>\n",
       "      <th>1</th>\n",
       "      <td>0</td>\n",
       "      <td>Pay no attention to the comments behind the cu...</td>\n",
       "    </tr>\n",
       "    <tr>\n",
       "      <th>2</th>\n",
       "      <td>0</td>\n",
       "      <td>I happen to be the director's nephew. It's tak...</td>\n",
       "    </tr>\n",
       "    <tr>\n",
       "      <th>3</th>\n",
       "      <td>0</td>\n",
       "      <td>SLIGHT SPOILERS (but it doesn't matter anyway)...</td>\n",
       "    </tr>\n",
       "    <tr>\n",
       "      <th>4</th>\n",
       "      <td>0</td>\n",
       "      <td>I actually had quite high hopes going into thi...</td>\n",
       "    </tr>\n",
       "  </tbody>\n",
       "</table>\n",
       "</div>"
      ],
      "text/plain": [
       "   Rating                                             Review\n",
       "0       0  I am a back Batman movie and TV fan. I loved t...\n",
       "1       0  Pay no attention to the comments behind the cu...\n",
       "2       0  I happen to be the director's nephew. It's tak...\n",
       "3       0  SLIGHT SPOILERS (but it doesn't matter anyway)...\n",
       "4       0  I actually had quite high hopes going into thi..."
      ]
     },
     "execution_count": 6,
     "metadata": {},
     "output_type": "execute_result"
    }
   ],
   "source": [
    "# Import original data\n",
    "data_orig = pd.read_csv('movie_reviews.tsv', sep=\"\\t\")[['sentiment', 'review']]\n",
    "data_orig = data_orig.rename(columns={'sentiment':'Rating', 'review': 'Review'})\n",
    "\n",
    "# Subset of the data\n",
    "sub_00 = data_orig.loc[data_orig['Rating'].isin([0])].sample(n=1000, random_state=42)\n",
    "sub_01 = data_orig.loc[data_orig['Rating'].isin([1])].sample(n=1000, random_state=42)\n",
    "\n",
    "\n",
    "# Concatenating the subsets to one data frame\n",
    "data = pd.concat([sub_00, sub_01]).reset_index(drop=True)\n",
    "print('Number of reviews in data: {}'.format(len(data)))\n",
    "\n",
    "data.head()"
   ]
  },
  {
   "cell_type": "markdown",
   "metadata": {
    "papermill": {
     "duration": 0.030033,
     "end_time": "2020-10-02T08:57:51.295352",
     "exception": false,
     "start_time": "2020-10-02T08:57:51.265319",
     "status": "completed"
    },
    "tags": []
   },
   "source": [
    "## Check missing values"
   ]
  },
  {
   "cell_type": "code",
   "execution_count": 7,
   "metadata": {
    "_kg_hide-input": true,
    "execution": {
     "iopub.execute_input": "2020-10-02T08:57:51.364660Z",
     "iopub.status.busy": "2020-10-02T08:57:51.363919Z",
     "iopub.status.idle": "2020-10-02T08:57:51.375030Z",
     "shell.execute_reply": "2020-10-02T08:57:51.374065Z"
    },
    "papermill": {
     "duration": 0.049944,
     "end_time": "2020-10-02T08:57:51.375220",
     "exception": false,
     "start_time": "2020-10-02T08:57:51.325276",
     "status": "completed"
    },
    "tags": []
   },
   "outputs": [
    {
     "data": {
      "text/plain": [
       "Rating    0\n",
       "Review    0\n",
       "dtype: int64"
      ]
     },
     "execution_count": 7,
     "metadata": {},
     "output_type": "execute_result"
    }
   ],
   "source": [
    "data.isna().sum()"
   ]
  },
  {
   "cell_type": "markdown",
   "metadata": {
    "papermill": {
     "duration": 0.030509,
     "end_time": "2020-10-02T08:57:51.442508",
     "exception": false,
     "start_time": "2020-10-02T08:57:51.411999",
     "status": "completed"
    },
    "tags": []
   },
   "source": [
    "## Number of hotel reviews per sentiment class in 'data'"
   ]
  },
  {
   "cell_type": "code",
   "execution_count": 8,
   "metadata": {
    "_kg_hide-input": true,
    "execution": {
     "iopub.execute_input": "2020-10-02T08:57:51.515837Z",
     "iopub.status.busy": "2020-10-02T08:57:51.514859Z",
     "iopub.status.idle": "2020-10-02T08:57:51.521123Z",
     "shell.execute_reply": "2020-10-02T08:57:51.520563Z"
    },
    "papermill": {
     "duration": 0.046907,
     "end_time": "2020-10-02T08:57:51.521257",
     "exception": false,
     "start_time": "2020-10-02T08:57:51.474350",
     "status": "completed"
    },
    "tags": []
   },
   "outputs": [
    {
     "data": {
      "text/plain": [
       "Rating\n",
       "0    1000\n",
       "1    1000\n",
       "Name: count, dtype: int64"
      ]
     },
     "execution_count": 8,
     "metadata": {},
     "output_type": "execute_result"
    }
   ],
   "source": [
    "df_class = data['Rating'].value_counts()\n",
    "df_class"
   ]
  },
  {
   "cell_type": "markdown",
   "metadata": {
    "papermill": {
     "duration": 0.038145,
     "end_time": "2020-10-02T08:57:51.758951",
     "exception": false,
     "start_time": "2020-10-02T08:57:51.720806",
     "status": "completed"
    },
    "tags": []
   },
   "source": [
    "## Wordcloud with most frequently used words"
   ]
  },
  {
   "cell_type": "code",
   "execution_count": 9,
   "metadata": {
    "_kg_hide-input": true,
    "execution": {
     "iopub.execute_input": "2020-10-02T08:57:51.847836Z",
     "iopub.status.busy": "2020-10-02T08:57:51.846361Z",
     "iopub.status.idle": "2020-10-02T08:57:51.848549Z",
     "shell.execute_reply": "2020-10-02T08:57:51.849067Z"
    },
    "papermill": {
     "duration": 0.044215,
     "end_time": "2020-10-02T08:57:51.849194",
     "exception": false,
     "start_time": "2020-10-02T08:57:51.804979",
     "status": "completed"
    },
    "tags": []
   },
   "outputs": [
    {
     "data": {
      "image/png": "[encoded data removed]",
      "text/plain": [
       "<Figure size 600x400 with 1 Axes>"
      ]
     },
     "metadata": {},
     "output_type": "display_data"
    }
   ],
   "source": [
    "# Wordcloud function\n",
    "def wordCloud_generator(data, title=None):\n",
    "    \n",
    "    wordcloud = WordCloud(height=300,\n",
    "                          width=600,\n",
    "                          background_color ='white',\n",
    "                          min_font_size = 8\n",
    "                         ).generate(\" \".join(data.values))\n",
    "    \n",
    "    # Plot the WordCloud image                        \n",
    "    plt.figure(figsize = (6, 4), facecolor = None) \n",
    "    plt.imshow(wordcloud, interpolation='bilinear') \n",
    "    plt.axis(\"off\") \n",
    "    plt.tight_layout(pad = 0) \n",
    "    plt.title(title,fontsize=16)\n",
    "    plt.show()\n",
    "    \n",
    "# Create Wordcloud\n",
    "wordCloud_generator(data['Review'], title=\"Most used words in reviews\")"
   ]
  },
  {
   "cell_type": "markdown",
   "metadata": {},
   "source": [
    "## Define X and y data"
   ]
  },
  {
   "cell_type": "code",
   "execution_count": 10,
   "metadata": {
    "execution": {
     "iopub.execute_input": "2020-10-02T08:58:13.801038Z",
     "iopub.status.busy": "2020-10-02T08:58:13.800075Z",
     "iopub.status.idle": "2020-10-02T08:58:13.803182Z",
     "shell.execute_reply": "2020-10-02T08:58:13.802684Z"
    },
    "papermill": {
     "duration": 0.049027,
     "end_time": "2020-10-02T08:58:13.803288",
     "exception": false,
     "start_time": "2020-10-02T08:58:13.754261",
     "status": "completed"
    },
    "tags": []
   },
   "outputs": [
    {
     "name": "stdout",
     "output_type": "stream",
     "text": [
      "Hotel Reviews:\n",
      "0       I am a back Batman movie and TV fan. I loved t...\n",
      "1       Pay no attention to the comments behind the cu...\n",
      "2       I happen to be the director's nephew. It's tak...\n",
      "3       SLIGHT SPOILERS (but it doesn't matter anyway)...\n",
      "4       I actually had quite high hopes going into thi...\n",
      "                              ...                        \n",
      "1995    I saw this movie on Thursdays night after havi...\n",
      "1996    Farrah Fawcett gives an award nominated perfor...\n",
      "1997    Could not understand why Jeremy Irons felt it ...\n",
      "1998    As a Pagan, I must say this movie has little i...\n",
      "1999    After seeing several movies of Villaronga, I h...\n",
      "Name: Review, Length: 2000, dtype: object\n",
      "\n",
      "Sentiments:\n",
      "0       0\n",
      "1       0\n",
      "2       0\n",
      "3       0\n",
      "4       0\n",
      "       ..\n",
      "1995    1\n",
      "1996    1\n",
      "1997    1\n",
      "1998    1\n",
      "1999    1\n",
      "Name: Rating, Length: 2000, dtype: int64\n"
     ]
    }
   ],
   "source": [
    "X = data['Review'].copy()\n",
    "y = data['Rating'].copy()\n",
    "\n",
    "print('Hotel Reviews:')\n",
    "print(X)\n",
    "\n",
    "print('\\nSentiments:')\n",
    "print(y)"
   ]
  },
  {
   "cell_type": "markdown",
   "metadata": {
    "papermill": {
     "duration": 0.062958,
     "end_time": "2020-10-02T08:58:22.209545",
     "exception": false,
     "start_time": "2020-10-02T08:58:22.146587",
     "status": "completed"
    },
    "tags": []
   },
   "source": [
    "## Distribution of sentence length"
   ]
  },
  {
   "cell_type": "code",
   "execution_count": 11,
   "metadata": {
    "_kg_hide-input": true,
    "execution": {
     "iopub.execute_input": "2020-10-02T08:58:22.353455Z",
     "iopub.status.busy": "2020-10-02T08:58:22.343313Z",
     "iopub.status.idle": "2020-10-02T08:58:22.661330Z",
     "shell.execute_reply": "2020-10-02T08:58:22.661978Z"
    },
    "papermill": {
     "duration": 0.394506,
     "end_time": "2020-10-02T08:58:22.662138",
     "exception": false,
     "start_time": "2020-10-02T08:58:22.267632",
     "status": "completed"
    },
    "tags": []
   },
   "outputs": [
    {
     "data": {
      "image/png": "[encoded data removed]",
      "text/plain": [
       "<Figure size 700x400 with 1 Axes>"
      ]
     },
     "metadata": {},
     "output_type": "display_data"
    }
   ],
   "source": [
    "# Calculate length\n",
    "length_dist = [len(x.split(\" \")) for x in X]\n",
    "\n",
    "# Plot Histogram\n",
    "fig = plt.figure( figsize=(7,4))\n",
    "n, bins, patches = plt.hist(x=length_dist, \n",
    "                            bins=30, \n",
    "                            color='#42AD12',\n",
    "                            alpha=0.5, \n",
    "                            rwidth=0.95\n",
    "                   )\n",
    "plt.ticklabel_format(style='plain')\n",
    "\n",
    "# Set x limits\n",
    "plt.xlim(0, 1000)\n",
    "\n",
    "# Set labels\n",
    "plt.xlabel('length of sentences', fontsize=10, labelpad=10)\n",
    "plt.ylabel('Frequency', fontsize=10, labelpad=10)\n",
    "plt.title('Distribution of the length of sentences', fontsize=12, pad=10)\n",
    "\n",
    "plt.show()"
   ]
  },
  {
   "cell_type": "markdown",
   "metadata": {},
   "source": [
    "## Text preprocessing\n",
    "### Steps:\n",
    "- Removing punctuations\n",
    "- Text to lowercase\n",
    "- Tokenization\n",
    "- Removing stopwords\n",
    "- Stemming/Lemmatization"
   ]
  },
  {
   "cell_type": "markdown",
   "metadata": {
    "papermill": {
     "duration": 0.046002,
     "end_time": "2020-10-02T08:58:22.754798",
     "exception": false,
     "start_time": "2020-10-02T08:58:22.708796",
     "status": "completed"
    },
    "tags": []
   },
   "source": [
    "### Removing punctuations"
   ]
  },
  {
   "cell_type": "code",
   "execution_count": 12,
   "metadata": {
    "execution": {
     "iopub.execute_input": "2020-10-02T08:58:22.865784Z",
     "iopub.status.busy": "2020-10-02T08:58:22.860552Z",
     "iopub.status.idle": "2020-10-02T08:58:28.574909Z",
     "shell.execute_reply": "2020-10-02T08:58:28.571549Z"
    },
    "papermill": {
     "duration": 5.773826,
     "end_time": "2020-10-02T08:58:28.575111",
     "exception": false,
     "start_time": "2020-10-02T08:58:22.801285",
     "status": "completed"
    },
    "tags": []
   },
   "outputs": [
    {
     "data": {
      "text/plain": [
       "0       I am a back Batman movie and TV fan I loved th...\n",
       "1       Pay no attention to the comments behind the cu...\n",
       "2       I happen to be the directors nephew Its taken ...\n",
       "3       SLIGHT SPOILERS but it doesnt matter anywaybr ...\n",
       "4       I actually had quite high hopes going into thi...\n",
       "                              ...                        \n",
       "1995    I saw this movie on Thursdays night after havi...\n",
       "1996    Farrah Fawcett gives an award nominated perfor...\n",
       "1997    Could not understand why Jeremy Irons felt it ...\n",
       "1998    As a Pagan I must say this movie has little if...\n",
       "1999    After seeing several movies of Villaronga I ha...\n",
       "Name: Review, Length: 2000, dtype: object"
      ]
     },
     "execution_count": 12,
     "metadata": {},
     "output_type": "execute_result"
    }
   ],
   "source": [
    "# Defining the function to remove punctuations\n",
    "def remove_punctuation(text):\n",
    "    punctuationfree=\"\".join([i for i in text if i not in string.punctuation])\n",
    "    return punctuationfree\n",
    "\n",
    "# Storing the puntuation free text\n",
    "X_cleaned_01 = X.apply(lambda x:remove_punctuation(x))\n",
    "X_cleaned_01"
   ]
  },
  {
   "cell_type": "markdown",
   "metadata": {},
   "source": [
    "### Text to lowercase"
   ]
  },
  {
   "cell_type": "code",
   "execution_count": 13,
   "metadata": {},
   "outputs": [
    {
     "data": {
      "text/plain": [
       "0       i am a back batman movie and tv fan i loved th...\n",
       "1       pay no attention to the comments behind the cu...\n",
       "2       i happen to be the directors nephew its taken ...\n",
       "3       slight spoilers but it doesnt matter anywaybr ...\n",
       "4       i actually had quite high hopes going into thi...\n",
       "                              ...                        \n",
       "1995    i saw this movie on thursdays night after havi...\n",
       "1996    farrah fawcett gives an award nominated perfor...\n",
       "1997    could not understand why jeremy irons felt it ...\n",
       "1998    as a pagan i must say this movie has little if...\n",
       "1999    after seeing several movies of villaronga i ha...\n",
       "Name: Review, Length: 2000, dtype: object"
      ]
     },
     "execution_count": 13,
     "metadata": {},
     "output_type": "execute_result"
    }
   ],
   "source": [
    "X_cleaned_02 = X_cleaned_01.apply(lambda x: x.lower())\n",
    "X_cleaned_02"
   ]
  },
  {
   "cell_type": "markdown",
   "metadata": {},
   "source": [
    "### Tokenization"
   ]
  },
  {
   "cell_type": "code",
   "execution_count": 14,
   "metadata": {},
   "outputs": [
    {
     "data": {
      "text/plain": [
       "0       [i, am, a, back, batman, movie, and, tv, fan, ...\n",
       "1       [pay, no, attention, to, the, comments, behind...\n",
       "2       [i, happen, to, be, the, directors, nephew, it...\n",
       "3       [slight, spoilers, but, it, doesnt, matter, an...\n",
       "4       [i, actually, had, quite, high, hopes, going, ...\n",
       "                              ...                        \n",
       "1995    [i, saw, this, movie, on, thursdays, night, af...\n",
       "1996    [farrah, fawcett, gives, an, award, nominated,...\n",
       "1997    [could, not, understand, why, jeremy, irons, f...\n",
       "1998    [as, a, pagan, i, must, say, this, movie, has,...\n",
       "1999    [after, seeing, several, movies, of, villarong...\n",
       "Name: Review, Length: 2000, dtype: object"
      ]
     },
     "execution_count": 14,
     "metadata": {},
     "output_type": "execute_result"
    }
   ],
   "source": [
    "# Function for tokenization\n",
    "def tokenization(text):\n",
    "    tokens = word_tokenize(text)\n",
    "    return tokens\n",
    "\n",
    "# Applying function\n",
    "X_cleaned_03 = X_cleaned_02.apply(lambda x: tokenization(x))\n",
    "X_cleaned_03"
   ]
  },
  {
   "cell_type": "markdown",
   "metadata": {},
   "source": [
    "### Removing stopwords"
   ]
  },
  {
   "cell_type": "code",
   "execution_count": 15,
   "metadata": {},
   "outputs": [
    {
     "name": "stdout",
     "output_type": "stream",
     "text": [
      "English stopwords:\n",
      "['i', 'me', 'my', 'myself', 'we', 'our', 'ours', 'ourselves', 'you', \"you're\", \"you've\", \"you'll\", \"you'd\", 'your', 'yours', 'yourself', 'yourselves', 'he', 'him', 'his', 'himself', 'she', \"she's\", 'her', 'hers', 'herself', 'it', \"it's\", 'its', 'itself', 'they', 'them', 'their', 'theirs', 'themselves', 'what', 'which', 'who', 'whom', 'this', 'that', \"that'll\", 'these', 'those', 'am', 'is', 'are', 'was', 'were', 'be', 'been', 'being', 'have', 'has', 'had', 'having', 'do', 'does', 'did', 'doing', 'a', 'an', 'the', 'and', 'but', 'if', 'or', 'because', 'as', 'until', 'while', 'of', 'at', 'by', 'for', 'with', 'about', 'against', 'between', 'into', 'through', 'during', 'before', 'after', 'above', 'below', 'to', 'from', 'up', 'down', 'in', 'out', 'on', 'off', 'over', 'under', 'again', 'further', 'then', 'once', 'here', 'there', 'when', 'where', 'why', 'how', 'all', 'any', 'both', 'each', 'few', 'more', 'most', 'other', 'some', 'such', 'no', 'nor', 'not', 'only', 'own', 'same', 'so', 'than', 'too', 'very', 's', 't', 'can', 'will', 'just', 'don', \"don't\", 'should', \"should've\", 'now', 'd', 'll', 'm', 'o', 're', 've', 'y', 'ain', 'aren', \"aren't\", 'couldn', \"couldn't\", 'didn', \"didn't\", 'doesn', \"doesn't\", 'hadn', \"hadn't\", 'hasn', \"hasn't\", 'haven', \"haven't\", 'isn', \"isn't\", 'ma', 'mightn', \"mightn't\", 'mustn', \"mustn't\", 'needn', \"needn't\", 'shan', \"shan't\", 'shouldn', \"shouldn't\", 'wasn', \"wasn't\", 'weren', \"weren't\", 'won', \"won't\", 'wouldn', \"wouldn't\"]\n"
     ]
    },
    {
     "data": {
      "text/plain": [
       "0       [back, batman, movie, tv, fan, loved, show, ne...\n",
       "1       [pay, attention, comments, behind, curtain, ma...\n",
       "2       [happen, directors, nephew, taken, years, get,...\n",
       "3       [slight, spoilers, doesnt, matter, anywaybr, b...\n",
       "4       [actually, quite, high, hopes, going, movie, t...\n",
       "                              ...                        \n",
       "1995    [saw, movie, thursdays, night, really, boring,...\n",
       "1996    [farrah, fawcett, gives, award, nominated, per...\n",
       "1997    [could, understand, jeremy, irons, felt, neces...\n",
       "1998    [pagan, must, say, movie, little, magickal, si...\n",
       "1999    [seeing, several, movies, villaronga, pretty, ...\n",
       "Name: Review, Length: 2000, dtype: object"
      ]
     },
     "execution_count": 15,
     "metadata": {},
     "output_type": "execute_result"
    }
   ],
   "source": [
    "# Stop words present in the library\n",
    "stopwords = nltk.corpus.stopwords.words('english')\n",
    "\n",
    "# Print stopwords\n",
    "print('English stopwords:')\n",
    "print(stopwords)\n",
    "\n",
    "# Defining the function to remove stopwords from tokenized text\n",
    "def remove_stopwords(text):\n",
    "    output = [i for i in text if i not in stopwords]\n",
    "    return output\n",
    "\n",
    "# Applying the function\n",
    "X_cleaned_04 = X_cleaned_03.apply(lambda x:remove_stopwords(x))\n",
    "X_cleaned_04"
   ]
  },
  {
   "cell_type": "markdown",
   "metadata": {},
   "source": [
    "### Stemming"
   ]
  },
  {
   "cell_type": "code",
   "execution_count": 16,
   "metadata": {},
   "outputs": [
    {
     "data": {
      "text/plain": [
       "0       [back, batman, movi, tv, fan, love, show, new,...\n",
       "1       [pay, attent, comment, behind, curtain, major,...\n",
       "2       [happen, director, nephew, taken, year, get, h...\n",
       "3       [slight, spoiler, doesnt, matter, anywaybr, br...\n",
       "4       [actual, quit, high, hope, go, movi, took, giv...\n",
       "                              ...                        \n",
       "1995    [saw, movi, thursday, night, realli, bore, day...\n",
       "1996    [farrah, fawcett, give, award, nomin, perform,...\n",
       "1997    [could, understand, jeremi, iron, felt, necess...\n",
       "1998    [pagan, must, say, movi, littl, magick, signif...\n",
       "1999    [see, sever, movi, villaronga, pretti, clear, ...\n",
       "Name: Review, Length: 2000, dtype: object"
      ]
     },
     "execution_count": 16,
     "metadata": {},
     "output_type": "execute_result"
    }
   ],
   "source": [
    "# Defining the object for stemming\n",
    "porter_stemmer = PorterStemmer()\n",
    "\n",
    "# Defining a function for stemming\n",
    "def stemming(text):\n",
    "    stem_text = [porter_stemmer.stem(word) for word in text]\n",
    "    return stem_text\n",
    "\n",
    "# Applying the function (we use X_cleaned_04 here)\n",
    "X_cleaned_05 = X_cleaned_04.apply(lambda x: stemming(x))\n",
    "X_cleaned_05"
   ]
  },
  {
   "cell_type": "markdown",
   "metadata": {},
   "source": [
    "### Lemmatization"
   ]
  },
  {
   "cell_type": "code",
   "execution_count": 17,
   "metadata": {},
   "outputs": [
    {
     "data": {
      "text/plain": [
       "0       [back, batman, movie, tv, fan, love, show, new...\n",
       "1       [pay, attention, comment, behind, curtain, maj...\n",
       "2       [happen, directors, nephew, take, years, get, ...\n",
       "3       [slight, spoilers, doesnt, matter, anywaybr, b...\n",
       "4       [actually, quite, high, hop, go, movie, take, ...\n",
       "                              ...                        \n",
       "1995    [saw, movie, thursdays, night, really, bore, d...\n",
       "1996    [farrah, fawcett, give, award, nominate, perfo...\n",
       "1997    [could, understand, jeremy, iron, felt, necess...\n",
       "1998    [pagan, must, say, movie, little, magickal, si...\n",
       "1999    [see, several, movies, villaronga, pretty, cle...\n",
       "Name: Review, Length: 2000, dtype: object"
      ]
     },
     "execution_count": 17,
     "metadata": {},
     "output_type": "execute_result"
    }
   ],
   "source": [
    "# Defining the object for lemmatization\n",
    "lemmatizer = WordNetLemmatizer()\n",
    "\n",
    "# Defining a function for lemmatization\n",
    "def lemm(text):\n",
    "    lemm_text = [lemmatizer.lemmatize(word, pos='v') for word in text]\n",
    "    return lemm_text\n",
    "\n",
    "# Applying the function (we use X_cleaned_04 here)\n",
    "X_cleaned_06 = X_cleaned_04.apply(lambda x: lemm(x))\n",
    "X_cleaned_06"
   ]
  },
  {
   "cell_type": "markdown",
   "metadata": {},
   "source": [
    "## Document-Term Matrix"
   ]
  },
  {
   "cell_type": "code",
   "execution_count": 18,
   "metadata": {},
   "outputs": [
    {
     "name": "stdout",
     "output_type": "stream",
     "text": [
      "Document-Term Matrix:\n",
      "[[0 0 0 ... 0 0 0]\n",
      " [0 0 0 ... 0 0 0]\n",
      " [0 0 0 ... 0 0 0]\n",
      " ...\n",
      " [0 0 0 ... 0 0 0]\n",
      " [0 0 0 ... 0 0 0]\n",
      " [0 0 0 ... 0 0 0]]\n",
      "\n",
      "Shape of the Document-Term Matrix\n",
      "(2000, 27254)\n",
      "\n",
      "Summary statistics\n",
      "min: 0.0000\n",
      "max: 28.0000\n"
     ]
    }
   ],
   "source": [
    "# Define dummy variable\n",
    "def dummy_fun(doc):\n",
    "    return doc\n",
    "\n",
    "count = CountVectorizer(\n",
    "    analyzer='word',\n",
    "    tokenizer=dummy_fun,\n",
    "    preprocessor=dummy_fun,\n",
    "    token_pattern=None)\n",
    "\n",
    "# Document-Term Matrix (we use 'X_cleaned_06' as the input)\n",
    "X_cleaned_07 = count.fit_transform(X_cleaned_06).toarray()\n",
    "print('Document-Term Matrix:')\n",
    "print(X_cleaned_07)\n",
    "\n",
    "# Shape\n",
    "print('\\nShape of the Document-Term Matrix')\n",
    "print(X_cleaned_07.shape)\n",
    "\n",
    "# Summary statistics\n",
    "print('\\nSummary statistics')\n",
    "print(f'min: {np.min(X_cleaned_07):.4f}')\n",
    "print(f'max: {np.max(X_cleaned_07):.4f}')"
   ]
  },
  {
   "cell_type": "markdown",
   "metadata": {},
   "source": [
    "## Term Frequency - Inverse Document Frequency (TF-IDF) Matrix"
   ]
  },
  {
   "cell_type": "code",
   "execution_count": 19,
   "metadata": {},
   "outputs": [
    {
     "name": "stdout",
     "output_type": "stream",
     "text": [
      "TF-IDF Matrix:\n",
      "[[0. 0. 0. ... 0. 0. 0.]\n",
      " [0. 0. 0. ... 0. 0. 0.]\n",
      " [0. 0. 0. ... 0. 0. 0.]\n",
      " ...\n",
      " [0. 0. 0. ... 0. 0. 0.]\n",
      " [0. 0. 0. ... 0. 0. 0.]\n",
      " [0. 0. 0. ... 0. 0. 0.]]\n",
      "\n",
      "Shape of the TF-IDF Matrix\n",
      "(2000, 27254)\n",
      "\n",
      "Summary statistics\n",
      "min: 0.0000\n",
      "max: 0.8427\n"
     ]
    }
   ],
   "source": [
    "# Define dummy variable\n",
    "def dummy_fun(doc):\n",
    "    return doc\n",
    "\n",
    "tfidf = TfidfVectorizer(\n",
    "    analyzer='word',\n",
    "    tokenizer=dummy_fun,\n",
    "    preprocessor=dummy_fun,\n",
    "    token_pattern=None)\n",
    "\n",
    "# TF-IDF Matrix (we use 'X_cleaned_06' as the input)\n",
    "X_cleaned_08 = tfidf.fit_transform(X_cleaned_06).toarray()\n",
    "print('TF-IDF Matrix:')\n",
    "print(X_cleaned_08)\n",
    "\n",
    "# Shape\n",
    "print('\\nShape of the TF-IDF Matrix')\n",
    "print(X_cleaned_08.shape)\n",
    "\n",
    "# Summary statistics\n",
    "print('\\nSummary statistics')\n",
    "print(f'min: {np.min(X_cleaned_08):.4f}')\n",
    "print(f'max: {np.max(X_cleaned_08):.4f}')"
   ]
  },
  {
   "cell_type": "markdown",
   "metadata": {
    "papermill": {
     "duration": 0.04208,
     "end_time": "2020-10-02T08:58:28.914540",
     "exception": false,
     "start_time": "2020-10-02T08:58:28.872460",
     "status": "completed"
    },
    "tags": []
   },
   "source": [
    "## Split data into train/test"
   ]
  },
  {
   "cell_type": "code",
   "execution_count": 20,
   "metadata": {
    "execution": {
     "iopub.execute_input": "2020-10-02T08:58:29.007166Z",
     "iopub.status.busy": "2020-10-02T08:58:29.006364Z",
     "iopub.status.idle": "2020-10-02T08:58:29.037329Z",
     "shell.execute_reply": "2020-10-02T08:58:29.036752Z"
    },
    "papermill": {
     "duration": 0.081684,
     "end_time": "2020-10-02T08:58:29.037476",
     "exception": false,
     "start_time": "2020-10-02T08:58:28.955792",
     "status": "completed"
    },
    "tags": []
   },
   "outputs": [
    {
     "name": "stdout",
     "output_type": "stream",
     "text": [
      "X_train:\n",
      "[[0. 0. 0. ... 0. 0. 0.]\n",
      " [0. 0. 0. ... 0. 0. 0.]\n",
      " [0. 0. 0. ... 0. 0. 0.]\n",
      " ...\n",
      " [0. 0. 0. ... 0. 0. 0.]\n",
      " [0. 0. 0. ... 0. 0. 0.]\n",
      " [0. 0. 0. ... 0. 0. 0.]]\n",
      "\n",
      "y_train:\n",
      "1778    1\n",
      "220     0\n",
      "544     0\n",
      "696     0\n",
      "1764    1\n",
      "       ..\n",
      "7       0\n",
      "1477    1\n",
      "1738    1\n",
      "821     0\n",
      "835     0\n",
      "Name: Rating, Length: 1600, dtype: int64\n"
     ]
    }
   ],
   "source": [
    "# Train/test samples\n",
    "X_train, X_test, y_train, y_test = train_test_split(X_cleaned_08, \n",
    "                                                    y, \n",
    "                                                    test_size=0.20, \n",
    "                                                    random_state=67)\n",
    "\n",
    "# Print X_train\n",
    "print('X_train:')\n",
    "print(X_train)\n",
    "\n",
    "# Print y_train\n",
    "print('\\ny_train:')\n",
    "print(y_train)"
   ]
  },
  {
   "cell_type": "markdown",
   "metadata": {
    "papermill": {
     "duration": 0.042275,
     "end_time": "2020-10-02T08:58:29.123122",
     "exception": false,
     "start_time": "2020-10-02T08:58:29.080847",
     "status": "completed"
    },
    "tags": []
   },
   "source": [
    "## Model Training"
   ]
  },
  {
   "cell_type": "code",
   "execution_count": 21,
   "metadata": {
    "execution": {
     "iopub.execute_input": "2020-10-02T08:58:29.220743Z",
     "iopub.status.busy": "2020-10-02T08:58:29.219960Z",
     "iopub.status.idle": "2020-10-02T08:58:32.554430Z",
     "shell.execute_reply": "2020-10-02T08:58:32.555655Z"
    },
    "papermill": {
     "duration": 3.389843,
     "end_time": "2020-10-02T08:58:32.555872",
     "exception": false,
     "start_time": "2020-10-02T08:58:29.166029",
     "status": "completed"
    },
    "tags": []
   },
   "outputs": [],
   "source": [
    "# Initialize the random forest model \n",
    "rfc = RandomForestClassifier(max_depth=20,\n",
    "                             n_estimators=200,\n",
    "                             min_samples_leaf=15,\n",
    "                             random_state=42)\n",
    "\n",
    "# Train the random forest model\n",
    "rfc = rfc.fit(X_train, y_train)"
   ]
  },
  {
   "cell_type": "markdown",
   "metadata": {
    "papermill": {
     "duration": 0.047395,
     "end_time": "2020-10-02T08:58:58.786840",
     "exception": false,
     "start_time": "2020-10-02T08:58:58.739445",
     "status": "completed"
    },
    "tags": []
   },
   "source": [
    "##  Model Evaluation"
   ]
  },
  {
   "cell_type": "markdown",
   "metadata": {},
   "source": [
    "### Create model predictions"
   ]
  },
  {
   "cell_type": "code",
   "execution_count": 22,
   "metadata": {
    "execution": {
     "iopub.execute_input": "2020-10-02T08:58:58.883920Z",
     "iopub.status.busy": "2020-10-02T08:58:58.883009Z",
     "iopub.status.idle": "2020-10-02T08:59:02.084953Z",
     "shell.execute_reply": "2020-10-02T08:59:02.083781Z"
    },
    "papermill": {
     "duration": 3.252459,
     "end_time": "2020-10-02T08:59:02.085109",
     "exception": false,
     "start_time": "2020-10-02T08:58:58.832650",
     "status": "completed"
    },
    "tags": []
   },
   "outputs": [
    {
     "data": {
      "text/plain": [
       "array([1, 0, 0, 0, 1, 1, 0, 1, 0, 1, 1, 0, 1, 0, 0, 0, 1, 0, 0, 0, 0, 0,\n",
       "       0, 1, 1, 1, 0, 0, 0, 0, 1, 0, 1, 1, 1, 1, 0, 1, 1, 0, 1, 0, 0, 0,\n",
       "       0, 0, 1, 0, 1, 0, 0, 1, 1, 0, 1, 0, 0, 0, 0, 1, 0, 0, 1, 0, 1, 1,\n",
       "       1, 1, 1, 0, 0, 0, 0, 1, 1, 1, 0, 1, 0, 0, 0, 1, 0, 0, 0, 1, 1, 1,\n",
       "       0, 1, 0, 0, 1, 0, 0, 1, 1, 1, 0, 0, 0, 1, 1, 1, 0, 0, 1, 1, 0, 0,\n",
       "       1, 0, 1, 1, 1, 0, 1, 1, 1, 0, 1, 0, 0, 1, 0, 0, 0, 0, 0, 0, 1, 1,\n",
       "       0, 0, 1, 0, 1, 1, 1, 1, 1, 1, 1, 1, 0, 0, 0, 0, 0, 1, 0, 1, 0, 1,\n",
       "       0, 0, 0, 1, 1, 1, 0, 1, 0, 0, 1, 1, 0, 0, 0, 1, 0, 1, 0, 0, 1, 0,\n",
       "       1, 0, 0, 1, 1, 1, 1, 1, 0, 0, 0, 1, 1, 1, 0, 1, 1, 1, 0, 0, 1, 0,\n",
       "       1, 1, 0, 1, 0, 0, 0, 0, 0, 1, 0, 1, 1, 0, 1, 0, 0, 1, 0, 1, 0, 0,\n",
       "       0, 1, 0, 0, 0, 1, 1, 0, 1, 1, 1, 0, 0, 0, 0, 1, 1, 1, 1, 0, 0, 1,\n",
       "       0, 0, 1, 1, 1, 0, 0, 1, 0, 0, 1, 1, 0, 1, 0, 0, 0, 1, 1, 0, 0, 1,\n",
       "       0, 1, 1, 0, 1, 0, 0, 1, 1, 0, 1, 1, 1, 0, 1, 0, 1, 0, 1, 1, 1, 0,\n",
       "       1, 0, 1, 1, 1, 0, 1, 1, 0, 1, 1, 1, 0, 0, 1, 0, 1, 1, 1, 0, 1, 0,\n",
       "       1, 1, 0, 1, 1, 0, 0, 1, 1, 1, 1, 1, 0, 0, 1, 1, 1, 0, 1, 0, 1, 0,\n",
       "       0, 1, 0, 1, 1, 0, 0, 1, 0, 0, 1, 0, 1, 1, 0, 0, 0, 1, 0, 1, 0, 1,\n",
       "       0, 0, 0, 0, 0, 1, 1, 1, 1, 1, 1, 1, 0, 1, 0, 1, 0, 1, 0, 0, 0, 1,\n",
       "       1, 1, 0, 1, 0, 0, 0, 0, 1, 1, 0, 1, 1, 1, 1, 1, 0, 0, 0, 0, 1, 1,\n",
       "       0, 0, 0, 1])"
      ]
     },
     "execution_count": 22,
     "metadata": {},
     "output_type": "execute_result"
    }
   ],
   "source": [
    "# Predict the target variable\n",
    "y_pred = rfc.predict(X_test)\n",
    "y_pred"
   ]
  },
  {
   "cell_type": "markdown",
   "metadata": {
    "papermill": {
     "duration": 0.046305,
     "end_time": "2020-10-02T08:59:02.176855",
     "exception": false,
     "start_time": "2020-10-02T08:59:02.130550",
     "status": "completed"
    },
    "tags": []
   },
   "source": [
    "### Measuring the Accuracy"
   ]
  },
  {
   "cell_type": "code",
   "execution_count": 23,
   "metadata": {
    "_kg_hide-input": true,
    "execution": {
     "iopub.execute_input": "2020-10-02T08:59:02.276533Z",
     "iopub.status.busy": "2020-10-02T08:59:02.275839Z",
     "iopub.status.idle": "2020-10-02T08:59:02.282372Z",
     "shell.execute_reply": "2020-10-02T08:59:02.283014Z"
    },
    "papermill": {
     "duration": 0.0591,
     "end_time": "2020-10-02T08:59:02.283159",
     "exception": false,
     "start_time": "2020-10-02T08:59:02.224059",
     "status": "completed"
    },
    "tags": []
   },
   "outputs": [
    {
     "name": "stdout",
     "output_type": "stream",
     "text": [
      "Accuracy: 0.7875\n"
     ]
    }
   ],
   "source": [
    "# Accuracy\n",
    "print(f'Accuracy: {accuracy_score(y_pred, y_test):.4f}')"
   ]
  },
  {
   "cell_type": "markdown",
   "metadata": {},
   "source": [
    "### Confusion matrix"
   ]
  },
  {
   "cell_type": "code",
   "execution_count": 24,
   "metadata": {},
   "outputs": [
    {
     "name": "stdout",
     "output_type": "stream",
     "text": [
      "[[156  40]\n",
      " [ 45 159]]\n"
     ]
    }
   ],
   "source": [
    "# Confusion matrix\n",
    "print(confusion_matrix(y_test, y_pred))"
   ]
  },
  {
   "cell_type": "markdown",
   "metadata": {
    "papermill": {
     "duration": 0.049037,
     "end_time": "2020-10-02T08:59:03.296235",
     "exception": false,
     "start_time": "2020-10-02T08:59:03.247198",
     "status": "completed"
    },
    "tags": []
   },
   "source": [
    "### Classification Report"
   ]
  },
  {
   "cell_type": "code",
   "execution_count": 25,
   "metadata": {
    "_kg_hide-input": true,
    "execution": {
     "iopub.execute_input": "2020-10-02T08:59:03.403250Z",
     "iopub.status.busy": "2020-10-02T08:59:03.402129Z",
     "iopub.status.idle": "2020-10-02T08:59:03.427155Z",
     "shell.execute_reply": "2020-10-02T08:59:03.426482Z"
    },
    "papermill": {
     "duration": 0.081167,
     "end_time": "2020-10-02T08:59:03.427277",
     "exception": false,
     "start_time": "2020-10-02T08:59:03.346110",
     "status": "completed"
    },
    "tags": []
   },
   "outputs": [
    {
     "name": "stdout",
     "output_type": "stream",
     "text": [
      "              precision    recall  f1-score   support\n",
      "\n",
      "           0       0.78      0.80      0.79       196\n",
      "           1       0.80      0.78      0.79       204\n",
      "\n",
      "    accuracy                           0.79       400\n",
      "   macro avg       0.79      0.79      0.79       400\n",
      "weighted avg       0.79      0.79      0.79       400\n",
      "\n"
     ]
    }
   ],
   "source": [
    "# Classification Report\n",
    "print(classification_report(y_test, \n",
    "                            y_pred))"
   ]
  },
  {
   "cell_type": "markdown",
   "metadata": {},
   "source": [
    "### Jupyter notebook --footer info-- (please always provide this at the end of each submitted notebook)"
   ]
  },
  {
   "cell_type": "code",
   "execution_count": 26,
   "metadata": {},
   "outputs": [
    {
     "name": "stdout",
     "output_type": "stream",
     "text": [
      "-----------------------------------\n",
      "POSIX\n",
      "Linux | 6.5.0-1025-azure\n",
      "Datetime: 2024-11-29 08:35:40\n",
      "Python Version: 3.11.10\n",
      "-----------------------------------\n"
     ]
    }
   ],
   "source": [
    "import os\n",
    "import platform\n",
    "import socket\n",
    "from platform import python_version\n",
    "from datetime import datetime\n",
    "\n",
    "print('-----------------------------------')\n",
    "print(os.name.upper())\n",
    "print(platform.system(), '|', platform.release())\n",
    "print('Datetime:', datetime.now().strftime(\"%Y-%m-%d %H:%M:%S\"))\n",
    "print('Python Version:', python_version())\n",
    "print('-----------------------------------')"
   ]
  }
 ],
 "metadata": {
  "kernelspec": {
   "display_name": "Python 3",
   "language": "python",
   "name": "python3"
  },
  "language_info": {
   "codemirror_mode": {
    "name": "ipython",
    "version": 3
   },
   "file_extension": ".py",
   "mimetype": "text/x-python",
   "name": "python",
   "nbconvert_exporter": "python",
   "pygments_lexer": "ipython3",
   "version": "3.11.10"
  },
  "papermill": {
   "duration": 89.96817,
   "end_time": "2020-10-02T08:59:05.467645",
   "environment_variables": {},
   "exception": null,
   "input_path": "__notebook__.ipynb",
   "output_path": "__notebook__.ipynb",
   "parameters": {},
   "start_time": "2020-10-02T08:57:35.499475",
   "version": "2.1.0"
  }
 },
 "nbformat": 4,
 "nbformat_minor": 4
}
