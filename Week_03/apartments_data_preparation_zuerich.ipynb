{
 "cells": [
  {
   "cell_type": "markdown",
   "id": "3272230e",
   "metadata": {},
   "source": [
    "# Importing and preparing rental apartments data"
   ]
  },
  {
   "cell_type": "markdown",
   "id": "ae491b4b",
   "metadata": {},
   "source": [
    "## Libraries and settings"
   ]
  },
  {
   "cell_type": "code",
   "execution_count": null,
   "id": "504899c9",
   "metadata": {},
   "outputs": [],
   "source": [
    "# Libraries\n",
    "import os\n",
    "import re\n",
    "import fnmatch\n",
    "import datetime\n",
    "import numpy as np\n",
    "import pandas as pd\n",
    "\n",
    "# Ignore warnings\n",
    "import warnings\n",
    "warnings.filterwarnings(\"ignore\")\n",
    "\n",
    "# Show current working directory\n",
    "print(os.getcwd())"
   ]
  },
  {
   "cell_type": "markdown",
   "id": "2a7bff4a",
   "metadata": {},
   "source": [
    "## Importing data"
   ]
  },
  {
   "cell_type": "code",
   "execution_count": null,
   "id": "aa8f37dd",
   "metadata": {
    "scrolled": true
   },
   "outputs": [],
   "source": [
    "# Read the data to a pandas data frame\n",
    "df = pd.read_csv('apartments_data_zuerich.csv', sep=',', encoding='utf-8')\n",
    "\n",
    "# Get number of rows and columns\n",
    "df.shape"
   ]
  },
  {
   "cell_type": "markdown",
   "id": "b95e9f0e",
   "metadata": {},
   "source": [
    "## Count number of rows and columns in the data frame"
   ]
  },
  {
   "cell_type": "code",
   "execution_count": null,
   "id": "ec7391ad",
   "metadata": {},
   "outputs": [],
   "source": [
    "# Dimension (rows, columns)\n",
    "print('Dimension:', df.shape)\n",
    "\n",
    "# Number of rows\n",
    "print('Number of rows:', df.shape[0])\n",
    "\n",
    "# Number of columns\n",
    "print('Number of columns:', df.shape[1])"
   ]
  },
  {
   "cell_type": "markdown",
   "id": "ace6d22c",
   "metadata": {},
   "source": [
    "## Get data types (raw-format from web scraping)"
   ]
  },
  {
   "cell_type": "code",
   "execution_count": null,
   "id": "dd9244a5",
   "metadata": {
    "scrolled": true
   },
   "outputs": [],
   "source": [
    "# Get data types (note that in pandas, a string is referred to as 'object')\n",
    "df.dtypes"
   ]
  },
  {
   "cell_type": "markdown",
   "id": "9ea951fd",
   "metadata": {},
   "source": [
    "## Extract and save relevant information from raw data using regular expressions (regex)"
   ]
  },
  {
   "cell_type": "markdown",
   "id": "7c3be629",
   "metadata": {},
   "source": [
    "### Extract number of rooms"
   ]
  },
  {
   "cell_type": "code",
   "execution_count": null,
   "id": "1c543c59",
   "metadata": {},
   "outputs": [],
   "source": [
    "# Extract values from 'rooms_area_price_raw' strings\n",
    "rooms = []\n",
    "for i in df['rooms_area_price_raw']:\n",
    "    d1 = re.findall('(.*)Zimmer', i)\n",
    "    try:\n",
    "        d2 = d1[0].strip().replace(',', '.')\n",
    "    except:\n",
    "        d2 = None\n",
    "    rooms.append(d2)\n",
    "\n",
    "# Save as new variable in the pandas data frame\n",
    "df['rooms'] = pd.Series(rooms, dtype=\"float64\")\n",
    "    \n",
    "# Print first 5 values\n",
    "print(df['rooms_area_price_raw'].head(5), '\\n')\n",
    "print(df['rooms'].head(5), '\\n')"
   ]
  },
  {
   "cell_type": "markdown",
   "id": "d7f049dc",
   "metadata": {},
   "source": [
    "### Extract living area"
   ]
  },
  {
   "cell_type": "code",
   "execution_count": null,
   "id": "85bc7408",
   "metadata": {},
   "outputs": [],
   "source": [
    "# Extract values from 'rooms_area_price_raw' strings\n",
    "area = []\n",
    "for i in df['rooms_area_price_raw']:\n",
    "    d1 = re.findall('Zimmer, (.*)m²', i)\n",
    "    try:\n",
    "        d2 = d1[0].strip()\n",
    "    except:\n",
    "        d2 = None\n",
    "    area.append(d2)\n",
    "\n",
    "# Save as new variable in the pandas data frame\n",
    "df['area'] = pd.Series(area, dtype=\"float64\")\n",
    "\n",
    "# Print first 5 values\n",
    "print(df['rooms_area_price_raw'].head(5), '\\n')\n",
    "print(df['area'].head(5), '\\n')"
   ]
  },
  {
   "cell_type": "markdown",
   "id": "319ca1bd",
   "metadata": {},
   "source": [
    "### Extract rental price"
   ]
  },
  {
   "cell_type": "code",
   "execution_count": null,
   "id": "97bba5d3",
   "metadata": {},
   "outputs": [],
   "source": [
    "# Extract values from 'price_raw' strings\n",
    "price = []\n",
    "for i in df['price_raw']:\n",
    "    d1 = re.findall('[0-9]+', i)\n",
    "    try:\n",
    "        d2 = d1[0].strip()\n",
    "    except:\n",
    "        d2 = None\n",
    "    price.append(d2)\n",
    "\n",
    "# Save as new variable in the pandas data frame\n",
    "df['price'] = pd.Series(price, dtype=\"float64\")\n",
    "\n",
    "# Print first 5 values\n",
    "print(df['price_raw'].head(), '\\n')\n",
    "print(df['price'].head())"
   ]
  },
  {
   "cell_type": "markdown",
   "id": "35ff8127",
   "metadata": {},
   "source": [
    "## Create additional variables from the apartment's descriptions"
   ]
  },
  {
   "cell_type": "markdown",
   "id": "3e913110",
   "metadata": {},
   "source": [
    "### Change strings in 'description_raw' ad 'text_raw' to uppercase "
   ]
  },
  {
   "cell_type": "code",
   "execution_count": null,
   "id": "6b751209",
   "metadata": {},
   "outputs": [],
   "source": [
    "# Change strings to uppercase \n",
    "df['description_raw'] = df['description_raw'].str.upper()\n",
    "print(df['description_raw'].head(10), '\\n')\n",
    "\n",
    "df['text_raw'] = df['text_raw'].str.upper()\n",
    "print(df['text_raw'].head(10))"
   ]
  },
  {
   "cell_type": "markdown",
   "id": "0aad2c21",
   "metadata": {},
   "source": [
    "### Calculate lenght of strings in 'description_raw' and 'text_raw'"
   ]
  },
  {
   "cell_type": "code",
   "execution_count": null,
   "id": "1fb82d72",
   "metadata": {},
   "outputs": [],
   "source": [
    "# Show first item of variable 'description_raw'\n",
    "print(df['description_raw'][0])\n",
    "\n",
    "# Lenght of the strings in 'description_raw'\n",
    "df['description_raw_len'] = df['description_raw'].str.len()\n",
    "print(df['description_raw_len'], '\\n')\n",
    "\n",
    "# Show first item of variable 'text_raw'\n",
    "print(df['text_raw'][0])\n",
    "\n",
    "# Lenght of the strings in 'text_raw'\n",
    "df['text_raw_len'] = df['text_raw'].str.len()\n",
    "print(df['text_raw_len'])"
   ]
  },
  {
   "cell_type": "markdown",
   "id": "d33d3fd9",
   "metadata": {},
   "source": [
    "### Create new binary (0/1) variable 'luxurious' from the description"
   ]
  },
  {
   "cell_type": "code",
   "execution_count": null,
   "id": "8e0d2ff8",
   "metadata": {},
   "outputs": [],
   "source": [
    "# Create a pattern which can be used to search the variable 'description_raw'\n",
    "pattern = 'LOFT|SEESICHT'\n",
    "\n",
    "# Create new variable 'luxurious' as binary dummy (0/1) variable\n",
    "df['luxurious'] = df['description_raw'].str.contains(pat = pattern).astype(int)\n",
    "print(df['luxurious'].sum())\n",
    "\n",
    "# Show values\n",
    "df[['description_raw','rooms','area','price','luxurious']]"
   ]
  },
  {
   "cell_type": "markdown",
   "id": "f90ec0e3",
   "metadata": {},
   "source": [
    "### Create new categorical variable based on apartment area"
   ]
  },
  {
   "cell_type": "code",
   "execution_count": null,
   "id": "7047eb5c",
   "metadata": {},
   "outputs": [],
   "source": [
    "# Define classes (labels)\n",
    "labels = ['0 - 49', '50 - 99', '100 - 9999']\n",
    "\n",
    "# Use the .cut method from pandas to divide the numeric values in classes\n",
    "df[\"area_cat\"] = pd.cut(df['area'], bins=[0, 50, 100, 10000], labels=labels)\n",
    "\n",
    "# Show original data and classes\n",
    "df[['area', 'area_cat']]"
   ]
  },
  {
   "cell_type": "markdown",
   "id": "48bf12b3",
   "metadata": {},
   "source": [
    "### Create new numeric variable 'price_per_m2'"
   ]
  },
  {
   "cell_type": "code",
   "execution_count": null,
   "id": "505c5613",
   "metadata": {},
   "outputs": [],
   "source": [
    "# Create the new variable\n",
    "df['price_per_m2'] = round(df['price'] / df['area'], 2)\n",
    "\n",
    "# Show values\n",
    "df[['description_raw','rooms','area','price','luxurious','price_per_m2']]"
   ]
  },
  {
   "cell_type": "markdown",
   "id": "68ea9d52",
   "metadata": {},
   "source": [
    "### Including current datetime"
   ]
  },
  {
   "cell_type": "code",
   "execution_count": null,
   "id": "02a1e025",
   "metadata": {},
   "outputs": [],
   "source": [
    "# Get and format datetime\n",
    "df['datetime'] = datetime.datetime.now().strftime(\"%Y-%m-%d %H:%M:%S\")\n",
    "\n",
    "# Show values\n",
    "df[['description_raw','rooms','area','price','luxurious','price_per_m2', 'datetime']]"
   ]
  },
  {
   "cell_type": "markdown",
   "id": "5167f84f",
   "metadata": {},
   "source": [
    "## Count, identify and remove missing values"
   ]
  },
  {
   "cell_type": "code",
   "execution_count": null,
   "id": "4adb46bf",
   "metadata": {},
   "outputs": [],
   "source": [
    "# Count missing values\n",
    "print('Count missing values per variable')\n",
    "print(pd.isna(df).sum(), '\\n')\n",
    "\n",
    "# Identify rows with missing values\n",
    "print('Identify rows with missing values')\n",
    "print(df.loc[df.isna().any(axis=1)][['rooms', 'area', 'price']], '\\n')\n",
    "\n",
    "# Drop rows where at least one element is missing.\n",
    "df2 = df.dropna()\n",
    "df2.head()"
   ]
  },
  {
   "cell_type": "markdown",
   "id": "a3d65146",
   "metadata": {},
   "source": [
    "## Count, identify & remove duplicated values"
   ]
  },
  {
   "cell_type": "code",
   "execution_count": null,
   "id": "ca18dc05",
   "metadata": {},
   "outputs": [],
   "source": [
    "# Count duplicated values in the whole data set\n",
    "print('Sum of missing values:', df.duplicated().sum(), '\\n')\n",
    "\n",
    "# Identify duplicated values in 'rooms', 'area', 'price'\n",
    "print('Duplicated values')\n",
    "print(df.loc[df.duplicated(keep = 'last')])\n",
    "\n",
    "# Drop the rows with duplicated values\n",
    "df3 = df2.drop_duplicates()"
   ]
  },
  {
   "cell_type": "markdown",
   "id": "165f8f9f",
   "metadata": {},
   "source": [
    "### Save data to file"
   ]
  },
  {
   "cell_type": "code",
   "execution_count": 16,
   "id": "3c2773d3",
   "metadata": {},
   "outputs": [],
   "source": [
    "df3.to_csv('apartments_data_prepared.csv', \n",
    "          sep=\",\", \n",
    "          encoding='utf-8',\n",
    "          index=False)"
   ]
  },
  {
   "cell_type": "markdown",
   "id": "86257783",
   "metadata": {},
   "source": [
    "### Jupyter notebook --footer info-- (please always provide this at the end of each submitted notebook)"
   ]
  },
  {
   "cell_type": "code",
   "execution_count": null,
   "id": "7f5bf8aa",
   "metadata": {},
   "outputs": [],
   "source": [
    "import os\n",
    "import platform\n",
    "import socket\n",
    "from platform import python_version\n",
    "from datetime import datetime\n",
    "\n",
    "print('-----------------------------------')\n",
    "print(os.name.upper())\n",
    "print(platform.system(), '|', platform.release())\n",
    "print('Datetime:', datetime.now().strftime(\"%Y-%m-%d %H:%M:%S\"))\n",
    "print('Python Version:', python_version())\n",
    "print('-----------------------------------')"
   ]
  }
 ],
 "metadata": {
  "kernelspec": {
   "display_name": "Python 3 (ipykernel)",
   "language": "python",
   "name": "python3"
  },
  "language_info": {
   "codemirror_mode": {
    "name": "ipython",
    "version": 3
   },
   "file_extension": ".py",
   "mimetype": "text/x-python",
   "name": "python",
   "nbconvert_exporter": "python",
   "pygments_lexer": "ipython3",
   "version": "3.11.9"
  }
 },
 "nbformat": 4,
 "nbformat_minor": 5
}
