{
 "cells": [
  {
   "cell_type": "markdown",
   "metadata": {},
   "source": [
    "## Exercises large classes (Week_02)"
   ]
  },
  {
   "cell_type": "markdown",
   "metadata": {},
   "source": [
    "## Python libraries and settings"
   ]
  },
  {
   "cell_type": "code",
   "execution_count": 1,
   "metadata": {},
   "outputs": [
    {
     "name": "stdout",
     "output_type": "stream",
     "text": [
      "Defaulting to user installation because normal site-packages is not writeable\n",
      "Requirement already satisfied: seaborn in /home/vscode/.local/lib/python3.11/site-packages (0.13.2)\n",
      "Requirement already satisfied: numpy!=1.24.0,>=1.20 in /home/vscode/.local/lib/python3.11/site-packages (from seaborn) (1.26.4)\n",
      "Requirement already satisfied: pandas>=1.2 in /home/vscode/.local/lib/python3.11/site-packages (from seaborn) (2.2.2)\n",
      "Requirement already satisfied: matplotlib!=3.6.1,>=3.4 in /home/vscode/.local/lib/python3.11/site-packages (from seaborn) (3.9.1)\n",
      "Requirement already satisfied: contourpy>=1.0.1 in /home/vscode/.local/lib/python3.11/site-packages (from matplotlib!=3.6.1,>=3.4->seaborn) (1.3.0)\n",
      "Requirement already satisfied: cycler>=0.10 in /home/vscode/.local/lib/python3.11/site-packages (from matplotlib!=3.6.1,>=3.4->seaborn) (0.12.1)\n",
      "Requirement already satisfied: fonttools>=4.22.0 in /home/vscode/.local/lib/python3.11/site-packages (from matplotlib!=3.6.1,>=3.4->seaborn) (4.53.1)\n",
      "Requirement already satisfied: kiwisolver>=1.3.1 in /home/vscode/.local/lib/python3.11/site-packages (from matplotlib!=3.6.1,>=3.4->seaborn) (1.4.7)\n",
      "Requirement already satisfied: packaging>=20.0 in /home/vscode/.local/lib/python3.11/site-packages (from matplotlib!=3.6.1,>=3.4->seaborn) (24.1)\n",
      "Requirement already satisfied: pillow>=8 in /home/vscode/.local/lib/python3.11/site-packages (from matplotlib!=3.6.1,>=3.4->seaborn) (10.4.0)\n",
      "Requirement already satisfied: pyparsing>=2.3.1 in /home/vscode/.local/lib/python3.11/site-packages (from matplotlib!=3.6.1,>=3.4->seaborn) (3.1.4)\n",
      "Requirement already satisfied: python-dateutil>=2.7 in /home/vscode/.local/lib/python3.11/site-packages (from matplotlib!=3.6.1,>=3.4->seaborn) (2.9.0.post0)\n",
      "Requirement already satisfied: pytz>=2020.1 in /home/vscode/.local/lib/python3.11/site-packages (from pandas>=1.2->seaborn) (2024.2)\n",
      "Requirement already satisfied: tzdata>=2022.7 in /home/vscode/.local/lib/python3.11/site-packages (from pandas>=1.2->seaborn) (2024.1)\n",
      "Requirement already satisfied: six>=1.5 in /home/vscode/.local/lib/python3.11/site-packages (from python-dateutil>=2.7->matplotlib!=3.6.1,>=3.4->seaborn) (1.16.0)\n",
      "\n",
      "\u001b[1m[\u001b[0m\u001b[34;49mnotice\u001b[0m\u001b[1;39;49m]\u001b[0m\u001b[39;49m A new release of pip is available: \u001b[0m\u001b[31;49m24.0\u001b[0m\u001b[39;49m -> \u001b[0m\u001b[32;49m24.2\u001b[0m\n",
      "\u001b[1m[\u001b[0m\u001b[34;49mnotice\u001b[0m\u001b[1;39;49m]\u001b[0m\u001b[39;49m To update, run: \u001b[0m\u001b[32;49mpip install --upgrade pip\u001b[0m\n",
      "Note: you may need to restart the kernel to use updated packages.\n"
     ]
    }
   ],
   "source": [
    "pip install seaborn"
   ]
  },
  {
   "cell_type": "code",
   "execution_count": 2,
   "metadata": {},
   "outputs": [
    {
     "name": "stdout",
     "output_type": "stream",
     "text": [
      "/workspaces/data_analytics/WTYK/LC_02\n"
     ]
    }
   ],
   "source": [
    "# Python libraries\n",
    "import os\n",
    "import re\n",
    "import pandas as pd\n",
    "import matplotlib.pyplot as plt\n",
    "\n",
    "# Settings\n",
    "import warnings\n",
    "warnings.filterwarnings(\"ignore\")\n",
    "\n",
    "# Get working directory\n",
    "print(os.getcwd())\n"
   ]
  },
  {
   "cell_type": "markdown",
   "metadata": {},
   "source": [
    "### BigmacPrice.csv"
   ]
  },
  {
   "cell_type": "code",
   "execution_count": 7,
   "metadata": {},
   "outputs": [
    {
     "name": "stdout",
     "output_type": "stream",
     "text": [
      "         date currency_code            name  local_price  dollar_ex  \\\n",
      "0  2000-04-01           ARS       Argentina         2.50          1   \n",
      "1  2000-04-01           AUD       Australia         2.59          1   \n",
      "2  2000-04-01           BRL          Brazil         2.95          1   \n",
      "3  2000-04-01           GBP         Britain         1.90          1   \n",
      "4  2000-04-01           CAD          Canada         2.85          1   \n",
      "5  2000-04-01           CLP           Chile      1260.00        514   \n",
      "6  2000-04-01           CNY           China         9.90          8   \n",
      "7  2000-04-01           CZK  Czech Republic        54.37         39   \n",
      "8  2000-04-01           DKK         Denmark        24.75          8   \n",
      "9  2000-04-01           EUR       Euro area         2.56          1   \n",
      "\n",
      "   dollar_price  \n",
      "0          2.50  \n",
      "1          2.59  \n",
      "2          2.95  \n",
      "3          1.90  \n",
      "4          2.85  \n",
      "5          2.45  \n",
      "6          1.24  \n",
      "7          1.39  \n",
      "8          3.09  \n",
      "9          2.56  \n"
     ]
    }
   ],
   "source": [
    "# Read BigmacPrice.csv to data frame\n",
    "df = pd.read_csv('BigmacPrice.csv')\n",
    "print(df.head(10))\n",
    "\n",
    "\n",
    "# Print header\n",
    "\n",
    "\n",
    "# Show data types\n",
    "print\n",
    "\n",
    "# Show type of 'df'\n",
    "\n"
   ]
  },
  {
   "cell_type": "markdown",
   "metadata": {},
   "source": [
    "### ChickenData.xlsx"
   ]
  },
  {
   "cell_type": "code",
   "execution_count": 10,
   "metadata": {},
   "outputs": [
    {
     "name": "stdout",
     "output_type": "stream",
     "text": [
      "   chicken_id       weight              breed  eggs_per_year\n",
      "0           1  2728.854920  New Hampshire Red            158\n",
      "1           2  2323.761365         Australorp            273\n",
      "2           3  2635.062034  New Hampshire Red            153\n",
      "3           4  2603.985152      Plymouth Rock            268\n",
      "4           5  3079.394487         Australorp            360\n",
      "5           6  2250.163583        Barnevelder            317\n",
      "6           7  2648.364847      Plymouth Rock            158\n",
      "7           8  2371.107826  New Hampshire Red            275\n",
      "8           9  2224.379423        Barnevelder            169\n",
      "9          10  2577.250189      Plymouth Rock            340\n",
      "chicken_id         int64\n",
      "weight           float64\n",
      "breed             object\n",
      "eggs_per_year      int64\n",
      "dtype: object\n",
      "<class 'pandas.core.frame.DataFrame'>\n"
     ]
    }
   ],
   "source": [
    "# Read ChickenData.xlsx to data frame\n",
    "df = pd.read_excel('ChickenData.xlsx', sheet_name='Sheet1')\n",
    "\n",
    "# Print header\n",
    "print(df.head(10))\n",
    "\n",
    "# Show data types\n",
    "print(df.dtypes)\n",
    "\n",
    "# Show type of 'df'\n",
    "print(type(df))\n",
    "\n",
    "# Create dictionary from the data frame with breed (keys) and eggs_per_year (values)\n",
    "dict = dict(zip(df['breed'], df['eggs_per_year']))\n",
    "\n",
    "# Print the dictionary\n"
   ]
  },
  {
   "cell_type": "markdown",
   "metadata": {},
   "source": [
    "### Cars_autoscout24.csv"
   ]
  },
  {
   "cell_type": "code",
   "execution_count": 18,
   "metadata": {},
   "outputs": [
    {
     "name": "stdout",
     "output_type": "stream",
     "text": [
      "   Offer_Id                                               Type          Price  \\\n",
      "0   7324420  AUDI A5 Sportback 3.0 TDI quattro S-tronic (Li...   CHF 22'500.–   \n",
      "1   7512768        MERCEDES-BENZ SLK 200 7G-Tronic (Cabriolet)   CHF 23'749.–   \n",
      "2   7512034  MERCEDES-BENZ C 350 Avantgarde 4Matic 7G-Troni...   CHF 18'500.–   \n",
      "3   7512728  MERCEDES-BENZ A 45 AMG 4Matic Speedshift 7G-DC...   CHF 36'000.–   \n",
      "4   7490242  AUDI A5 Sportback 2.0 TFSI Sport quattro S-tro...   CHF 48'500.–   \n",
      "5   7512188       MERCEDES-BENZ SLK 200 Kompressor (Cabriolet)   CHF 12'000.–   \n",
      "6   7512184  MERCEDES-BENZ C 350 Elégance Sport Edition 4Ma...    CHF 8'000.–   \n",
      "7   7512142       SEAT Ibiza SC 1.4 TSI Cupra DSG (Kleinwagen)   CHF 10'500.–   \n",
      "8   7511265           PORSCHE 911 Turbo Cabrio PDK (Cabriolet)  CHF 143'500.–   \n",
      "9   7511230            VW Golf 1.4 TSI Comfortline (Limousine)   CHF 19'800.–   \n",
      "\n",
      "       PS Init_Regist   Kilometer Fuel_Type                    Transmission  \\\n",
      "0  245 PS     10.2014   75'000 km    Diesel  Automatisiertes Schaltgetriebe   \n",
      "1  184 PS      6.2013   46'655 km    Benzin             Automat sequentiell   \n",
      "2  306 PS      6.2011  138'955 km    Benzin             Automat sequentiell   \n",
      "3  360 PS      8.2015   43'000 km    Benzin  Automatisiertes Schaltgetriebe   \n",
      "4  252 PS      9.2018   43'300 km    Benzin  Automatisiertes Schaltgetriebe   \n",
      "5  163 PS     12.2004  109'000 km    Benzin          Schaltgetriebe manuell   \n",
      "6  272 PS      5.2006  156'000 km    Benzin                         Automat   \n",
      "7  180 PS       2.201   71'400 km    Benzin  Automatisiertes Schaltgetriebe   \n",
      "8  521 PS      7.2015   18'000 km    Benzin  Automatisiertes Schaltgetriebe   \n",
      "9  125 PS     12.2015  110'000 km    Benzin          Schaltgetriebe manuell   \n",
      "\n",
      "  Price_numeric  \n",
      "0            22  \n",
      "1            23  \n",
      "2            18  \n",
      "3            36  \n",
      "4            48  \n",
      "5            12  \n",
      "6             8  \n",
      "7            10  \n",
      "8           143  \n",
      "9            19  \n"
     ]
    }
   ],
   "source": [
    "# Linux commands to get/set encoding of file (run in terminal)\n",
    "# file -i Cars_autoscout24.csv\n",
    "# --> provides 'charset=unknown-8bit'\n",
    "# --> download the file and open with e.g. Notepad++ (on Windows)\n",
    "# --> shows ANSI which is \"windows-1252\" (see https://de.wikipedia.org/wiki/Windows-1252)\n",
    "\n",
    "# Convert to UTF-8, if needed, otherwise, use encoding='cp1252' in pd.read_csv\n",
    "# iconv -f \"windows-1252\" -t \"UTF-8\" Cars_autoscout24.csv -o Cars_autoscout24_utf8.csv\n",
    "\n",
    "# Read Cars_autoscout24.csv to data frame, change encoding if needed and separate by semicolon\n",
    "df = pd.read_csv('Cars_autoscout24.csv', sep=';', encoding='cp1252')\n",
    "\n",
    "\n",
    "\n",
    "# Function to extract numerical values from the column 'Price'\n",
    "def extract_price_numeric(price):\n",
    "    # Regular expression to extract numerical values\n",
    "    price_numeric = re.findall(r'\\d+', price)\n",
    "    # Check if the list is not empty\n",
    "    if len(price_numeric) > 0:\n",
    "        # Return the first element of the list\n",
    "        return price_numeric[0]\n",
    "    else:\n",
    "        # Return None\n",
    "        return None\n",
    "\n",
    "\n",
    "# Apply the function to the column 'Price' and create a new column 'Price_numeric'\n",
    "df['Price_numeric'] = df['Price'].apply(extract_price_numeric)\n",
    "\n",
    "\n",
    "# Display the DataFrame\n",
    "print(df.head(10))\n"
   ]
  },
  {
   "cell_type": "markdown",
   "metadata": {},
   "source": [
    "### Histogram of car prices"
   ]
  },
  {
   "cell_type": "code",
   "execution_count": 17,
   "metadata": {},
   "outputs": [
    {
     "data": {
      "text/plain": [
       "(array([250., 177., 219., 234.,  93., 156., 309., 172., 182., 243., 151.,\n",
       "        255., 253.,  94.,  12., 223.,  41.,  52.,  86.,  33.,  99., 136.,\n",
       "         27.,  12.,  77.,  45.,  30.,  63.,  68.,   8.,  24.,  27.,  31.,\n",
       "         18.,  12.,  11.,   3.,   5.,   3.,   8.,   4.,   3.,   4.,   5.,\n",
       "          5.,   3.,   4.,   3.,   3.,   4.]),\n",
       " array([  0.,   3.,   6.,   9.,  12.,  15.,  18.,  21.,  24.,  27.,  30.,\n",
       "         33.,  36.,  39.,  42.,  45.,  48.,  51.,  54.,  57.,  60.,  63.,\n",
       "         66.,  69.,  72.,  75.,  78.,  81.,  84.,  87.,  90.,  93.,  96.,\n",
       "         99., 102., 105., 108., 111., 114., 117., 120., 123., 126., 129.,\n",
       "        132., 135., 138., 141., 144., 147., 150.]),\n",
       " <BarContainer object of 50 artists>)"
      ]
     },
     "execution_count": 17,
     "metadata": {},
     "output_type": "execute_result"
    },
    {
     "data": {
      "image/png": "[encoded data removed]",
      "text/plain": [
       "<Figure size 640x480 with 1 Axes>"
      ]
     },
     "metadata": {},
     "output_type": "display_data"
    }
   ],
   "source": [
    "# Plotting the histogram of car prices\n",
    "plt.hist(df['Price_numeric'], bins=50)\n"
   ]
  }
 ],
 "metadata": {
  "kernelspec": {
   "display_name": "Python 3",
   "language": "python",
   "name": "python3"
  },
  "language_info": {
   "codemirror_mode": {
    "name": "ipython",
    "version": 3
   },
   "file_extension": ".py",
   "mimetype": "text/x-python",
   "name": "python",
   "nbconvert_exporter": "python",
   "pygments_lexer": "ipython3",
   "version": "3.11.10"
  },
  "orig_nbformat": 4
 },
 "nbformat": 4,
 "nbformat_minor": 2
}
