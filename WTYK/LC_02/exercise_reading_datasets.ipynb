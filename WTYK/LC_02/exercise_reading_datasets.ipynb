{
 "cells": [
  {
   "cell_type": "markdown",
   "metadata": {},
   "source": [
    "## Exercises large classes (Week_02)"
   ]
  },
  {
   "cell_type": "markdown",
   "metadata": {},
   "source": [
    "## Python libraries and settings"
   ]
  },
  {
   "cell_type": "code",
   "execution_count": 1,
   "metadata": {},
   "outputs": [
    {
     "name": "stdout",
     "output_type": "stream",
     "text": [
      "/workspaces/data_analytics/WTYK/LC_02\n"
     ]
    }
   ],
   "source": [
    "# Python libraries\n",
    "import os\n",
    "import re\n",
    "import pandas as pd\n",
    "import matplotlib.pyplot as plt\n",
    "\n",
    "# Settings\n",
    "import warnings\n",
    "warnings.filterwarnings(\"ignore\")\n",
    "\n",
    "# Get working directory\n",
    "print(os.getcwd())\n"
   ]
  },
  {
   "cell_type": "markdown",
   "metadata": {},
   "source": [
    "### BigmacPrice.csv"
   ]
  },
  {
   "cell_type": "code",
   "execution_count": 9,
   "metadata": {},
   "outputs": [
    {
     "name": "stdout",
     "output_type": "stream",
     "text": [
      "\n",
      "          date currency_code       name  local_price  dollar_ex  dollar_price\n",
      "0  2000-04-01           ARS  Argentina         2.50          1          2.50\n",
      "1  2000-04-01           AUD  Australia         2.59          1          2.59\n",
      "2  2000-04-01           BRL     Brazil         2.95          1          2.95\n",
      "3  2000-04-01           GBP    Britain         1.90          1          1.90\n",
      "4  2000-04-01           CAD     Canada         2.85          1          2.85\n"
     ]
    }
   ],
   "source": [
    "# Read BigmacPrice.csv to data frame\n",
    "df = pd.read_csv('BigmacPrice.csv', sep=',', encoding='utf-8')\n",
    "df\n",
    "# Print header\n",
    "print('\\n',df.head())\n",
    "\n",
    "# Show data types\n",
    "\n",
    "\n",
    "# Show type of 'df'\n",
    "\n"
   ]
  },
  {
   "cell_type": "markdown",
   "metadata": {},
   "source": [
    "### ChickenData.xlsx"
   ]
  },
  {
   "cell_type": "code",
   "execution_count": 12,
   "metadata": {},
   "outputs": [
    {
     "name": "stdout",
     "output_type": "stream",
     "text": [
      "\n",
      " chicken_id         int64\n",
      "weight           float64\n",
      "breed             object\n",
      "eggs_per_year      int64\n",
      "dtype: object\n",
      "\n",
      " <class 'pandas.core.frame.DataFrame'>\n"
     ]
    },
    {
     "ename": "KeyError",
     "evalue": "\"None of ['Breed'] are in the columns\"",
     "output_type": "error",
     "traceback": [
      "\u001b[0;31m---------------------------------------------------------------------------\u001b[0m",
      "\u001b[0;31mKeyError\u001b[0m                                  Traceback (most recent call last)",
      "\u001b[0;32m/tmp/ipykernel_8762/4031183236.py\u001b[0m in \u001b[0;36m?\u001b[0;34m()\u001b[0m\n\u001b[1;32m     10\u001b[0m \u001b[0;31m# Show type of 'df'\u001b[0m\u001b[0;34m\u001b[0m\u001b[0;34m\u001b[0m\u001b[0m\n\u001b[1;32m     11\u001b[0m \u001b[0mprint\u001b[0m\u001b[0;34m(\u001b[0m\u001b[0;34m'\\n'\u001b[0m\u001b[0;34m,\u001b[0m\u001b[0mtype\u001b[0m\u001b[0;34m(\u001b[0m\u001b[0mdf\u001b[0m\u001b[0;34m)\u001b[0m\u001b[0;34m)\u001b[0m\u001b[0;34m\u001b[0m\u001b[0;34m\u001b[0m\u001b[0m\n\u001b[1;32m     12\u001b[0m \u001b[0;34m\u001b[0m\u001b[0m\n\u001b[1;32m     13\u001b[0m \u001b[0;31m# Create dictionary from the data frame with breed (keys) and eggs_per_year (values)\u001b[0m\u001b[0;34m\u001b[0m\u001b[0;34m\u001b[0m\u001b[0m\n\u001b[0;32m---> 14\u001b[0;31m \u001b[0mdict\u001b[0m \u001b[0;34m=\u001b[0m \u001b[0mdf\u001b[0m\u001b[0;34m.\u001b[0m\u001b[0mset_index\u001b[0m\u001b[0;34m(\u001b[0m\u001b[0;34m'Breed'\u001b[0m\u001b[0;34m)\u001b[0m\u001b[0;34m.\u001b[0m\u001b[0mto_dict\u001b[0m\u001b[0;34m(\u001b[0m\u001b[0;34m)\u001b[0m\u001b[0;34m[\u001b[0m\u001b[0;34m'EggsPerYear'\u001b[0m\u001b[0;34m]\u001b[0m\u001b[0;34m\u001b[0m\u001b[0;34m\u001b[0m\u001b[0m\n\u001b[0m\u001b[1;32m     15\u001b[0m \u001b[0;34m\u001b[0m\u001b[0m\n\u001b[1;32m     16\u001b[0m \u001b[0;31m# Print the dictionary\u001b[0m\u001b[0;34m\u001b[0m\u001b[0;34m\u001b[0m\u001b[0m\n",
      "\u001b[0;32m~/.local/lib/python3.11/site-packages/pandas/core/frame.py\u001b[0m in \u001b[0;36m?\u001b[0;34m(self, keys, drop, append, inplace, verify_integrity)\u001b[0m\n\u001b[1;32m   6118\u001b[0m                     \u001b[0;32mif\u001b[0m \u001b[0;32mnot\u001b[0m \u001b[0mfound\u001b[0m\u001b[0;34m:\u001b[0m\u001b[0;34m\u001b[0m\u001b[0;34m\u001b[0m\u001b[0m\n\u001b[1;32m   6119\u001b[0m                         \u001b[0mmissing\u001b[0m\u001b[0;34m.\u001b[0m\u001b[0mappend\u001b[0m\u001b[0;34m(\u001b[0m\u001b[0mcol\u001b[0m\u001b[0;34m)\u001b[0m\u001b[0;34m\u001b[0m\u001b[0;34m\u001b[0m\u001b[0m\n\u001b[1;32m   6120\u001b[0m \u001b[0;34m\u001b[0m\u001b[0m\n\u001b[1;32m   6121\u001b[0m         \u001b[0;32mif\u001b[0m \u001b[0mmissing\u001b[0m\u001b[0;34m:\u001b[0m\u001b[0;34m\u001b[0m\u001b[0;34m\u001b[0m\u001b[0m\n\u001b[0;32m-> 6122\u001b[0;31m             \u001b[0;32mraise\u001b[0m \u001b[0mKeyError\u001b[0m\u001b[0;34m(\u001b[0m\u001b[0;34mf\"None of {missing} are in the columns\"\u001b[0m\u001b[0;34m)\u001b[0m\u001b[0;34m\u001b[0m\u001b[0;34m\u001b[0m\u001b[0m\n\u001b[0m\u001b[1;32m   6123\u001b[0m \u001b[0;34m\u001b[0m\u001b[0m\n\u001b[1;32m   6124\u001b[0m         \u001b[0;32mif\u001b[0m \u001b[0minplace\u001b[0m\u001b[0;34m:\u001b[0m\u001b[0;34m\u001b[0m\u001b[0;34m\u001b[0m\u001b[0m\n\u001b[1;32m   6125\u001b[0m             \u001b[0mframe\u001b[0m \u001b[0;34m=\u001b[0m \u001b[0mself\u001b[0m\u001b[0;34m\u001b[0m\u001b[0;34m\u001b[0m\u001b[0m\n",
      "\u001b[0;31mKeyError\u001b[0m: \"None of ['Breed'] are in the columns\""
     ]
    }
   ],
   "source": [
    "# Read ChickenData.xlsx to data frame\n",
    "df = pd.read_excel('ChickenData.xlsx', sheet_name='Sheet1')\n",
    "df\n",
    "# Print header\n",
    "\n",
    "\n",
    "# Show data types\n",
    "print('\\n',df.dtypes)\n",
    "\n",
    "# Show type of 'df'\n",
    "print('\\n',type(df))\n",
    "\n",
    "# Create dictionary from the data frame with breed (keys) and eggs_per_year (values)\n",
    "dict = df.set_index('Breed').to_dict()['EggsPerYear']\n",
    "\n",
    "# Print the dictionary\n"
   ]
  },
  {
   "cell_type": "markdown",
   "metadata": {},
   "source": [
    "### Cars_autoscout24.csv"
   ]
  },
  {
   "cell_type": "code",
   "execution_count": 26,
   "metadata": {},
   "outputs": [
    {
     "data": {
      "text/html": [
       "<div>\n",
       "<style scoped>\n",
       "    .dataframe tbody tr th:only-of-type {\n",
       "        vertical-align: middle;\n",
       "    }\n",
       "\n",
       "    .dataframe tbody tr th {\n",
       "        vertical-align: top;\n",
       "    }\n",
       "\n",
       "    .dataframe thead th {\n",
       "        text-align: right;\n",
       "    }\n",
       "</style>\n",
       "<table border=\"1\" class=\"dataframe\">\n",
       "  <thead>\n",
       "    <tr style=\"text-align: right;\">\n",
       "      <th></th>\n",
       "      <th>Offer_Id</th>\n",
       "      <th>Type</th>\n",
       "      <th>Price</th>\n",
       "      <th>PS</th>\n",
       "      <th>Init_Regist</th>\n",
       "      <th>Kilometer</th>\n",
       "      <th>Fuel_Type</th>\n",
       "      <th>Transmission</th>\n",
       "      <th>Price_numeric</th>\n",
       "    </tr>\n",
       "  </thead>\n",
       "  <tbody>\n",
       "    <tr>\n",
       "      <th>0</th>\n",
       "      <td>7324420</td>\n",
       "      <td>AUDI A5 Sportback 3.0 TDI quattro S-tronic (Li...</td>\n",
       "      <td>CHF 22'500.–</td>\n",
       "      <td>245 PS</td>\n",
       "      <td>10.2014</td>\n",
       "      <td>75'000 km</td>\n",
       "      <td>Diesel</td>\n",
       "      <td>Automatisiertes Schaltgetriebe</td>\n",
       "      <td>22</td>\n",
       "    </tr>\n",
       "    <tr>\n",
       "      <th>1</th>\n",
       "      <td>7512768</td>\n",
       "      <td>MERCEDES-BENZ SLK 200 7G-Tronic (Cabriolet)</td>\n",
       "      <td>CHF 23'749.–</td>\n",
       "      <td>184 PS</td>\n",
       "      <td>6.2013</td>\n",
       "      <td>46'655 km</td>\n",
       "      <td>Benzin</td>\n",
       "      <td>Automat sequentiell</td>\n",
       "      <td>23</td>\n",
       "    </tr>\n",
       "    <tr>\n",
       "      <th>2</th>\n",
       "      <td>7512034</td>\n",
       "      <td>MERCEDES-BENZ C 350 Avantgarde 4Matic 7G-Troni...</td>\n",
       "      <td>CHF 18'500.–</td>\n",
       "      <td>306 PS</td>\n",
       "      <td>6.2011</td>\n",
       "      <td>138'955 km</td>\n",
       "      <td>Benzin</td>\n",
       "      <td>Automat sequentiell</td>\n",
       "      <td>18</td>\n",
       "    </tr>\n",
       "    <tr>\n",
       "      <th>3</th>\n",
       "      <td>7512728</td>\n",
       "      <td>MERCEDES-BENZ A 45 AMG 4Matic Speedshift 7G-DC...</td>\n",
       "      <td>CHF 36'000.–</td>\n",
       "      <td>360 PS</td>\n",
       "      <td>8.2015</td>\n",
       "      <td>43'000 km</td>\n",
       "      <td>Benzin</td>\n",
       "      <td>Automatisiertes Schaltgetriebe</td>\n",
       "      <td>36</td>\n",
       "    </tr>\n",
       "    <tr>\n",
       "      <th>4</th>\n",
       "      <td>7490242</td>\n",
       "      <td>AUDI A5 Sportback 2.0 TFSI Sport quattro S-tro...</td>\n",
       "      <td>CHF 48'500.–</td>\n",
       "      <td>252 PS</td>\n",
       "      <td>9.2018</td>\n",
       "      <td>43'300 km</td>\n",
       "      <td>Benzin</td>\n",
       "      <td>Automatisiertes Schaltgetriebe</td>\n",
       "      <td>48</td>\n",
       "    </tr>\n",
       "    <tr>\n",
       "      <th>...</th>\n",
       "      <td>...</td>\n",
       "      <td>...</td>\n",
       "      <td>...</td>\n",
       "      <td>...</td>\n",
       "      <td>...</td>\n",
       "      <td>...</td>\n",
       "      <td>...</td>\n",
       "      <td>...</td>\n",
       "      <td>...</td>\n",
       "    </tr>\n",
       "    <tr>\n",
       "      <th>3975</th>\n",
       "      <td>7137137</td>\n",
       "      <td>FERRARI F360 Spider (Cabriolet)</td>\n",
       "      <td>CHF 58'400.–</td>\n",
       "      <td>400 PS</td>\n",
       "      <td>2.2002</td>\n",
       "      <td>78'000 km</td>\n",
       "      <td>Benzin</td>\n",
       "      <td>Automatisiertes Schaltgetriebe</td>\n",
       "      <td>58</td>\n",
       "    </tr>\n",
       "    <tr>\n",
       "      <th>3976</th>\n",
       "      <td>6758841</td>\n",
       "      <td>MERCEDES-BENZ SL 500 560 SL (Cabriolet)</td>\n",
       "      <td>CHF 15'900.–</td>\n",
       "      <td>232 PS</td>\n",
       "      <td>1.1987</td>\n",
       "      <td>315'000 km</td>\n",
       "      <td>Benzin</td>\n",
       "      <td>Automatik-Getriebe</td>\n",
       "      <td>15</td>\n",
       "    </tr>\n",
       "    <tr>\n",
       "      <th>3977</th>\n",
       "      <td>7461330</td>\n",
       "      <td>MERCEDES-BENZ CL 63 AMG 7G-Tronic (Coupé)</td>\n",
       "      <td>CHF 42'000.–</td>\n",
       "      <td>525 PS</td>\n",
       "      <td>8.2007</td>\n",
       "      <td>85'000 km</td>\n",
       "      <td>Benzin</td>\n",
       "      <td>Automat sequentiell</td>\n",
       "      <td>42</td>\n",
       "    </tr>\n",
       "    <tr>\n",
       "      <th>3978</th>\n",
       "      <td>7005403</td>\n",
       "      <td>BMW 328i Cabrio (Cabriolet)</td>\n",
       "      <td>CHF 9'980.–</td>\n",
       "      <td>193 PS</td>\n",
       "      <td>8.1995</td>\n",
       "      <td>188'920 km</td>\n",
       "      <td>Benzin</td>\n",
       "      <td>Schaltgetriebe manuell</td>\n",
       "      <td>9</td>\n",
       "    </tr>\n",
       "    <tr>\n",
       "      <th>3979</th>\n",
       "      <td>7200843</td>\n",
       "      <td>BMW 328i Cabrio Sport (Cabriolet)</td>\n",
       "      <td>CHF 13'500.–</td>\n",
       "      <td>193 PS</td>\n",
       "      <td>4.1999</td>\n",
       "      <td>134'000 km</td>\n",
       "      <td>Benzin</td>\n",
       "      <td>Schaltgetriebe manuell</td>\n",
       "      <td>13</td>\n",
       "    </tr>\n",
       "  </tbody>\n",
       "</table>\n",
       "<p>3980 rows × 9 columns</p>\n",
       "</div>"
      ],
      "text/plain": [
       "      Offer_Id                                               Type  \\\n",
       "0      7324420  AUDI A5 Sportback 3.0 TDI quattro S-tronic (Li...   \n",
       "1      7512768        MERCEDES-BENZ SLK 200 7G-Tronic (Cabriolet)   \n",
       "2      7512034  MERCEDES-BENZ C 350 Avantgarde 4Matic 7G-Troni...   \n",
       "3      7512728  MERCEDES-BENZ A 45 AMG 4Matic Speedshift 7G-DC...   \n",
       "4      7490242  AUDI A5 Sportback 2.0 TFSI Sport quattro S-tro...   \n",
       "...        ...                                                ...   \n",
       "3975   7137137                    FERRARI F360 Spider (Cabriolet)   \n",
       "3976   6758841            MERCEDES-BENZ SL 500 560 SL (Cabriolet)   \n",
       "3977   7461330          MERCEDES-BENZ CL 63 AMG 7G-Tronic (Coupé)   \n",
       "3978   7005403                        BMW 328i Cabrio (Cabriolet)   \n",
       "3979   7200843                  BMW 328i Cabrio Sport (Cabriolet)   \n",
       "\n",
       "             Price      PS Init_Regist   Kilometer Fuel_Type  \\\n",
       "0     CHF 22'500.–  245 PS     10.2014   75'000 km    Diesel   \n",
       "1     CHF 23'749.–  184 PS      6.2013   46'655 km    Benzin   \n",
       "2     CHF 18'500.–  306 PS      6.2011  138'955 km    Benzin   \n",
       "3     CHF 36'000.–  360 PS      8.2015   43'000 km    Benzin   \n",
       "4     CHF 48'500.–  252 PS      9.2018   43'300 km    Benzin   \n",
       "...            ...     ...         ...         ...       ...   \n",
       "3975  CHF 58'400.–  400 PS      2.2002   78'000 km    Benzin   \n",
       "3976  CHF 15'900.–  232 PS      1.1987  315'000 km    Benzin   \n",
       "3977  CHF 42'000.–  525 PS      8.2007   85'000 km    Benzin   \n",
       "3978   CHF 9'980.–  193 PS      8.1995  188'920 km    Benzin   \n",
       "3979  CHF 13'500.–  193 PS      4.1999  134'000 km    Benzin   \n",
       "\n",
       "                        Transmission  Price_numeric  \n",
       "0     Automatisiertes Schaltgetriebe             22  \n",
       "1                Automat sequentiell             23  \n",
       "2                Automat sequentiell             18  \n",
       "3     Automatisiertes Schaltgetriebe             36  \n",
       "4     Automatisiertes Schaltgetriebe             48  \n",
       "...                              ...            ...  \n",
       "3975  Automatisiertes Schaltgetriebe             58  \n",
       "3976              Automatik-Getriebe             15  \n",
       "3977             Automat sequentiell             42  \n",
       "3978          Schaltgetriebe manuell              9  \n",
       "3979          Schaltgetriebe manuell             13  \n",
       "\n",
       "[3980 rows x 9 columns]"
      ]
     },
     "execution_count": 26,
     "metadata": {},
     "output_type": "execute_result"
    }
   ],
   "source": [
    "# Linux commands to get/set encoding of file (run in terminal)\n",
    "# file -i Cars_autoscout24.csv\n",
    "# --> provides 'charset=unknown-8bit'\n",
    "# --> download the file and open with e.g. Notepad++ (on Windows)\n",
    "# --> shows ANSI which is \"windows-1252\" (see https://de.wikipedia.org/wiki/Windows-1252)\n",
    "\n",
    "# Convert to UTF-8, if needed, otherwise, use encoding='cp1252' in pd.read_csv\n",
    "# iconv -f \"windows-1252\" -t \"UTF-8\" Cars_autoscout24.csv -o Cars_autoscout24_utf8.csv\n",
    "\n",
    "# Read Cars_autoscout24.csv to data frame\n",
    "df = pd.read_csv('Cars_autoscout24.csv', sep=';', encoding='cp1252')\n",
    "df\n",
    "\n",
    "# Function to extract numerical values from the column 'Price'\n",
    "def extract_numerical_value(price):\n",
    "    # Regular expression to extract numerical values\n",
    "    match = re.search(r\"\\d+'\\d+)\", price)\n",
    "    if match:\n",
    "        return int(match.group())\n",
    "    else:\n",
    "        return None\n",
    "\n",
    "\n",
    "# Apply the function to the column 'Price' and create a new column 'Price_numeric'\n",
    "df['Price_numeric'] = df['Price'].apply(extract_numeric)\n",
    "\n",
    "\n",
    "# Display the DataFrame\n",
    "df\n"
   ]
  },
  {
   "cell_type": "markdown",
   "metadata": {},
   "source": [
    "### Histogram of car prices"
   ]
  },
  {
   "cell_type": "code",
   "execution_count": 27,
   "metadata": {},
   "outputs": [
    {
     "data": {
      "text/plain": [
       "<Figure size 1000x600 with 0 Axes>"
      ]
     },
     "execution_count": 27,
     "metadata": {},
     "output_type": "execute_result"
    },
    {
     "data": {
      "text/plain": [
       "<Figure size 1000x600 with 0 Axes>"
      ]
     },
     "metadata": {},
     "output_type": "display_data"
    }
   ],
   "source": [
    "# Plotting the histogram of car prices\n",
    "plt.figure(figsize=(10, 6))\n"
   ]
  }
 ],
 "metadata": {
  "kernelspec": {
   "display_name": "Python 3",
   "language": "python",
   "name": "python3"
  },
  "language_info": {
   "codemirror_mode": {
    "name": "ipython",
    "version": 3
   },
   "file_extension": ".py",
   "mimetype": "text/x-python",
   "name": "python",
   "nbconvert_exporter": "python",
   "pygments_lexer": "ipython3",
   "version": "3.11.10"
  },
  "orig_nbformat": 4
 },
 "nbformat": 4,
 "nbformat_minor": 2
}
