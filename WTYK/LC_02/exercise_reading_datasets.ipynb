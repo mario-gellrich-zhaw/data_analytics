{
 "cells": [
  {
   "cell_type": "markdown",
   "metadata": {},
   "source": [
    "## Exercises large classes (Week_02)"
   ]
  },
  {
   "cell_type": "markdown",
   "metadata": {},
   "source": [
    "## Python libraries and settings"
   ]
  },
  {
   "cell_type": "code",
   "execution_count": null,
   "metadata": {},
   "outputs": [],
   "source": [
    "# Python libraries\n",
    "import os\n",
    "import re\n",
    "import pandas as pd\n",
    "import matplotlib.pyplot as plt\n",
    "\n",
    "# Settings\n",
    "import warnings\n",
    "warnings.filterwarnings(\"ignore\")\n",
    "\n",
    "# Get working directory\n",
    "print(os.getcwd())\n"
   ]
  },
  {
   "cell_type": "markdown",
   "metadata": {},
   "source": [
    "### BigmacPrice.csv"
   ]
  },
  {
   "cell_type": "code",
   "execution_count": null,
   "metadata": {},
   "outputs": [],
   "source": [
    "# Read BigmacPrice.csv to data frame\n",
    "\n",
    "\n",
    "# Print header\n",
    "\n",
    "\n",
    "# Show data types\n",
    "\n",
    "\n",
    "# Show type of 'df'\n",
    "\n"
   ]
  },
  {
   "cell_type": "markdown",
   "metadata": {},
   "source": [
    "### ChickenData.xlsx"
   ]
  },
  {
   "cell_type": "code",
   "execution_count": null,
   "metadata": {},
   "outputs": [],
   "source": [
    "# Read ChickenData.xlsx to data frame\n",
    "\n",
    "\n",
    "# Print header\n",
    "\n",
    "\n",
    "# Show data types\n",
    "\n",
    "\n",
    "# Show type of 'df'\n",
    "\n",
    "\n",
    "# Create dictionary from the data frame with breed (keys) and eggs_per_year (values)\n",
    "\n",
    "\n",
    "# Print the dictionary\n"
   ]
  },
  {
   "cell_type": "markdown",
   "metadata": {},
   "source": [
    "### Cars_autoscout24.csv"
   ]
  },
  {
   "cell_type": "code",
   "execution_count": null,
   "metadata": {},
   "outputs": [],
   "source": [
    "# Linux commands to get/set encoding of file (run in terminal)\n",
    "# file -i Cars_autoscout24.csv\n",
    "# --> provides 'charset=unknown-8bit'\n",
    "# --> download the file and open with e.g. Notepad++ (on Windows)\n",
    "# --> shows ANSI which is \"windows-1252\" (see https://de.wikipedia.org/wiki/Windows-1252)\n",
    "\n",
    "# Convert to UTF-8, if needed, otherwise, use encoding='cp1252' in pd.read_csv\n",
    "# iconv -f \"windows-1252\" -t \"UTF-8\" Cars_autoscout24.csv -o Cars_autoscout24_utf8.csv\n",
    "\n",
    "# Read Cars_autoscout24.csv to data frame\n",
    "\n",
    "\n",
    "\n",
    "# Function to extract numerical values from the column 'Price'\n",
    "\n",
    "\n",
    "\n",
    "# Apply the function to the column 'Price' and create a new column 'Price_numeric'\n",
    "\n",
    "\n",
    "\n",
    "# Display the DataFrame\n",
    "\n"
   ]
  },
  {
   "cell_type": "markdown",
   "metadata": {},
   "source": [
    "### Histogram of car prices"
   ]
  },
  {
   "cell_type": "code",
   "execution_count": null,
   "metadata": {},
   "outputs": [],
   "source": [
    "# Plotting the histogram of car prices\n",
    "\n"
   ]
  }
 ],
 "metadata": {
  "kernelspec": {
   "display_name": "Python 3",
   "language": "python",
   "name": "python3"
  },
  "language_info": {
   "codemirror_mode": {
    "name": "ipython",
    "version": 3
   },
   "file_extension": ".py",
   "mimetype": "text/x-python",
   "name": "python",
   "nbconvert_exporter": "python",
   "pygments_lexer": "ipython3",
   "version": "3.11.9"
  },
  "orig_nbformat": 4
 },
 "nbformat": 4,
 "nbformat_minor": 2
}
