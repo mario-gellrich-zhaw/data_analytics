{
 "cells": [
  {
   "cell_type": "markdown",
   "metadata": {},
   "source": [
    "## Exercises large classes (Week_02)"
   ]
  },
  {
   "cell_type": "markdown",
   "metadata": {},
   "source": [
    "## Python libraries and settings"
   ]
  },
  {
   "cell_type": "code",
   "execution_count": 1,
   "metadata": {},
   "outputs": [
    {
     "name": "stdout",
     "output_type": "stream",
     "text": [
      "/workspaces/zhaw_data_analytics_3DA_WIN/WTYK/LC_02\n"
     ]
    }
   ],
   "source": [
    "# Python libraries\n",
    "import os\n",
    "import re\n",
    "import pandas as pd\n",
    "import matplotlib.pyplot as plt\n",
    "\n",
    "# Settings\n",
    "import warnings\n",
    "warnings.filterwarnings(\"ignore\")\n",
    "\n",
    "# Get working directory\n",
    "print(os.getcwd())\n"
   ]
  },
  {
   "cell_type": "markdown",
   "metadata": {},
   "source": [
    "### BigmacPrice.csv"
   ]
  },
  {
   "cell_type": "code",
   "execution_count": 4,
   "metadata": {},
   "outputs": [
    {
     "data": {
      "text/plain": [
       "pandas.core.frame.DataFrame"
      ]
     },
     "execution_count": 4,
     "metadata": {},
     "output_type": "execute_result"
    }
   ],
   "source": [
    "# Read BigmacPrice.csv to data frame\n",
    "df = pd.read_csv('BigmacPrice.csv')\n",
    "\n",
    "# Print header\n",
    "df.head(10)\n",
    "\n",
    "# Show data types\n",
    "df.dtypes\n",
    "\n",
    "# Show type of 'df'\n",
    "df.__class__\n"
   ]
  },
  {
   "cell_type": "markdown",
   "metadata": {},
   "source": [
    "### ChickenData.xlsx"
   ]
  },
  {
   "cell_type": "code",
   "execution_count": 15,
   "metadata": {},
   "outputs": [
    {
     "name": "stdout",
     "output_type": "stream",
     "text": [
      "{'New Hampshire Red': 297, 'Australorp': 213, 'Plymouth Rock': 314, 'Barnevelder': 316, 'ISA Brown': 225}\n"
     ]
    }
   ],
   "source": [
    "# Read ChickenData.xlsx to data frame\n",
    "df.xlsx = pd.read_excel('ChickenData.xlsx')\n",
    "\n",
    "# Print header\n",
    "df.xlsx.head(10)\n",
    "\n",
    "# Show data types\n",
    "df.xlsx.dtypes\n",
    "\n",
    "# Show type of 'df'\n",
    "df.xlsx.__class__\n",
    "\n",
    "# Create dictionary from the data frame with breed (keys) and eggs_per_year (values)\n",
    "chicken_dict = dict(zip(df.xlsx['breed'], df.xlsx['eggs_per_year']))\n",
    "\n",
    "# Print the dictionary\n",
    "print(chicken_dict)"
   ]
  },
  {
   "cell_type": "markdown",
   "metadata": {},
   "source": [
    "### Cars_autoscout24.csv"
   ]
  },
  {
   "cell_type": "code",
   "execution_count": 22,
   "metadata": {},
   "outputs": [
    {
     "data": {
      "text/html": [
       "<div>\n",
       "<style scoped>\n",
       "    .dataframe tbody tr th:only-of-type {\n",
       "        vertical-align: middle;\n",
       "    }\n",
       "\n",
       "    .dataframe tbody tr th {\n",
       "        vertical-align: top;\n",
       "    }\n",
       "\n",
       "    .dataframe thead th {\n",
       "        text-align: right;\n",
       "    }\n",
       "</style>\n",
       "<table border=\"1\" class=\"dataframe\">\n",
       "  <thead>\n",
       "    <tr style=\"text-align: right;\">\n",
       "      <th></th>\n",
       "      <th>Offer_Id</th>\n",
       "      <th>Type</th>\n",
       "      <th>Price</th>\n",
       "      <th>PS</th>\n",
       "      <th>Init_Regist</th>\n",
       "      <th>Kilometer</th>\n",
       "      <th>Fuel_Type</th>\n",
       "      <th>Transmission</th>\n",
       "      <th>Price_numeric</th>\n",
       "    </tr>\n",
       "  </thead>\n",
       "  <tbody>\n",
       "    <tr>\n",
       "      <th>0</th>\n",
       "      <td>7324420</td>\n",
       "      <td>AUDI A5 Sportback 3.0 TDI quattro S-tronic (Li...</td>\n",
       "      <td>CHF 22'500.–</td>\n",
       "      <td>245 PS</td>\n",
       "      <td>10.2014</td>\n",
       "      <td>75'000 km</td>\n",
       "      <td>Diesel</td>\n",
       "      <td>Automatisiertes Schaltgetriebe</td>\n",
       "      <td>22500</td>\n",
       "    </tr>\n",
       "    <tr>\n",
       "      <th>1</th>\n",
       "      <td>7512768</td>\n",
       "      <td>MERCEDES-BENZ SLK 200 7G-Tronic (Cabriolet)</td>\n",
       "      <td>CHF 23'749.–</td>\n",
       "      <td>184 PS</td>\n",
       "      <td>6.2013</td>\n",
       "      <td>46'655 km</td>\n",
       "      <td>Benzin</td>\n",
       "      <td>Automat sequentiell</td>\n",
       "      <td>23749</td>\n",
       "    </tr>\n",
       "    <tr>\n",
       "      <th>2</th>\n",
       "      <td>7512034</td>\n",
       "      <td>MERCEDES-BENZ C 350 Avantgarde 4Matic 7G-Troni...</td>\n",
       "      <td>CHF 18'500.–</td>\n",
       "      <td>306 PS</td>\n",
       "      <td>6.2011</td>\n",
       "      <td>138'955 km</td>\n",
       "      <td>Benzin</td>\n",
       "      <td>Automat sequentiell</td>\n",
       "      <td>18500</td>\n",
       "    </tr>\n",
       "    <tr>\n",
       "      <th>3</th>\n",
       "      <td>7512728</td>\n",
       "      <td>MERCEDES-BENZ A 45 AMG 4Matic Speedshift 7G-DC...</td>\n",
       "      <td>CHF 36'000.–</td>\n",
       "      <td>360 PS</td>\n",
       "      <td>8.2015</td>\n",
       "      <td>43'000 km</td>\n",
       "      <td>Benzin</td>\n",
       "      <td>Automatisiertes Schaltgetriebe</td>\n",
       "      <td>36000</td>\n",
       "    </tr>\n",
       "    <tr>\n",
       "      <th>4</th>\n",
       "      <td>7490242</td>\n",
       "      <td>AUDI A5 Sportback 2.0 TFSI Sport quattro S-tro...</td>\n",
       "      <td>CHF 48'500.–</td>\n",
       "      <td>252 PS</td>\n",
       "      <td>9.2018</td>\n",
       "      <td>43'300 km</td>\n",
       "      <td>Benzin</td>\n",
       "      <td>Automatisiertes Schaltgetriebe</td>\n",
       "      <td>48500</td>\n",
       "    </tr>\n",
       "    <tr>\n",
       "      <th>5</th>\n",
       "      <td>7512188</td>\n",
       "      <td>MERCEDES-BENZ SLK 200 Kompressor (Cabriolet)</td>\n",
       "      <td>CHF 12'000.–</td>\n",
       "      <td>163 PS</td>\n",
       "      <td>12.2004</td>\n",
       "      <td>109'000 km</td>\n",
       "      <td>Benzin</td>\n",
       "      <td>Schaltgetriebe manuell</td>\n",
       "      <td>12000</td>\n",
       "    </tr>\n",
       "    <tr>\n",
       "      <th>6</th>\n",
       "      <td>7512184</td>\n",
       "      <td>MERCEDES-BENZ C 350 Elégance Sport Edition 4Ma...</td>\n",
       "      <td>CHF 8'000.–</td>\n",
       "      <td>272 PS</td>\n",
       "      <td>5.2006</td>\n",
       "      <td>156'000 km</td>\n",
       "      <td>Benzin</td>\n",
       "      <td>Automat</td>\n",
       "      <td>8000</td>\n",
       "    </tr>\n",
       "    <tr>\n",
       "      <th>7</th>\n",
       "      <td>7512142</td>\n",
       "      <td>SEAT Ibiza SC 1.4 TSI Cupra DSG (Kleinwagen)</td>\n",
       "      <td>CHF 10'500.–</td>\n",
       "      <td>180 PS</td>\n",
       "      <td>2.201</td>\n",
       "      <td>71'400 km</td>\n",
       "      <td>Benzin</td>\n",
       "      <td>Automatisiertes Schaltgetriebe</td>\n",
       "      <td>10500</td>\n",
       "    </tr>\n",
       "    <tr>\n",
       "      <th>8</th>\n",
       "      <td>7511265</td>\n",
       "      <td>PORSCHE 911 Turbo Cabrio PDK (Cabriolet)</td>\n",
       "      <td>CHF 143'500.–</td>\n",
       "      <td>521 PS</td>\n",
       "      <td>7.2015</td>\n",
       "      <td>18'000 km</td>\n",
       "      <td>Benzin</td>\n",
       "      <td>Automatisiertes Schaltgetriebe</td>\n",
       "      <td>143500</td>\n",
       "    </tr>\n",
       "    <tr>\n",
       "      <th>9</th>\n",
       "      <td>7511230</td>\n",
       "      <td>VW Golf 1.4 TSI Comfortline (Limousine)</td>\n",
       "      <td>CHF 19'800.–</td>\n",
       "      <td>125 PS</td>\n",
       "      <td>12.2015</td>\n",
       "      <td>110'000 km</td>\n",
       "      <td>Benzin</td>\n",
       "      <td>Schaltgetriebe manuell</td>\n",
       "      <td>19800</td>\n",
       "    </tr>\n",
       "  </tbody>\n",
       "</table>\n",
       "</div>"
      ],
      "text/plain": [
       "   Offer_Id                                               Type          Price  \\\n",
       "0   7324420  AUDI A5 Sportback 3.0 TDI quattro S-tronic (Li...   CHF 22'500.–   \n",
       "1   7512768        MERCEDES-BENZ SLK 200 7G-Tronic (Cabriolet)   CHF 23'749.–   \n",
       "2   7512034  MERCEDES-BENZ C 350 Avantgarde 4Matic 7G-Troni...   CHF 18'500.–   \n",
       "3   7512728  MERCEDES-BENZ A 45 AMG 4Matic Speedshift 7G-DC...   CHF 36'000.–   \n",
       "4   7490242  AUDI A5 Sportback 2.0 TFSI Sport quattro S-tro...   CHF 48'500.–   \n",
       "5   7512188       MERCEDES-BENZ SLK 200 Kompressor (Cabriolet)   CHF 12'000.–   \n",
       "6   7512184  MERCEDES-BENZ C 350 Elégance Sport Edition 4Ma...    CHF 8'000.–   \n",
       "7   7512142       SEAT Ibiza SC 1.4 TSI Cupra DSG (Kleinwagen)   CHF 10'500.–   \n",
       "8   7511265           PORSCHE 911 Turbo Cabrio PDK (Cabriolet)  CHF 143'500.–   \n",
       "9   7511230            VW Golf 1.4 TSI Comfortline (Limousine)   CHF 19'800.–   \n",
       "\n",
       "       PS Init_Regist   Kilometer Fuel_Type                    Transmission  \\\n",
       "0  245 PS     10.2014   75'000 km    Diesel  Automatisiertes Schaltgetriebe   \n",
       "1  184 PS      6.2013   46'655 km    Benzin             Automat sequentiell   \n",
       "2  306 PS      6.2011  138'955 km    Benzin             Automat sequentiell   \n",
       "3  360 PS      8.2015   43'000 km    Benzin  Automatisiertes Schaltgetriebe   \n",
       "4  252 PS      9.2018   43'300 km    Benzin  Automatisiertes Schaltgetriebe   \n",
       "5  163 PS     12.2004  109'000 km    Benzin          Schaltgetriebe manuell   \n",
       "6  272 PS      5.2006  156'000 km    Benzin                         Automat   \n",
       "7  180 PS       2.201   71'400 km    Benzin  Automatisiertes Schaltgetriebe   \n",
       "8  521 PS      7.2015   18'000 km    Benzin  Automatisiertes Schaltgetriebe   \n",
       "9  125 PS     12.2015  110'000 km    Benzin          Schaltgetriebe manuell   \n",
       "\n",
       "   Price_numeric  \n",
       "0          22500  \n",
       "1          23749  \n",
       "2          18500  \n",
       "3          36000  \n",
       "4          48500  \n",
       "5          12000  \n",
       "6           8000  \n",
       "7          10500  \n",
       "8         143500  \n",
       "9          19800  "
      ]
     },
     "execution_count": 22,
     "metadata": {},
     "output_type": "execute_result"
    }
   ],
   "source": [
    "# Linux commands to get/set encoding of file (run in terminal)\n",
    "# file -i Cars_autoscout24.csv\n",
    "# --> provides 'charset=unknown-8bit'\n",
    "# --> download the file and open with e.g. Notepad++ (on Windows)\n",
    "# --> shows ANSI which is \"windows-1252\" (see https://de.wikipedia.org/wiki/Windows-1252)\n",
    "\n",
    "# Convert to UTF-8, if needed, otherwise, use encoding='cp1252' in pd.read_csv\n",
    "# iconv -f \"windows-1252\" -t \"UTF-8\" Cars_autoscout24.csv -o Cars_autoscout24_utf8.csv\n",
    "\n",
    "# Read Cars_autoscout24.csv to data frame\n",
    "df.cars = pd.read_csv('Cars_autoscout24.csv', sep=\";\",encoding='cp1252')\n",
    "\n",
    "\n",
    "# Function to extract numerical values from the column 'Price'\n",
    "def extract_numeric_price(price):\n",
    "    # Remove non-numeric characters except for digits\n",
    "    price_numeric = re.sub(r\"[^\\d]\", \"\", price)\n",
    "    return int(price_numeric) if price_numeric else None\n",
    "\n",
    "\n",
    "\n",
    "# Apply the function to the column 'Price' and create a new column 'Price_numeric'\n",
    "df.cars['Price_numeric'] = df.cars['Price'].apply(extract_numeric_price)\n",
    "\n",
    "\n",
    "# Display the DataFrame\n",
    "df.cars.head(10)\n"
   ]
  },
  {
   "cell_type": "markdown",
   "metadata": {},
   "source": [
    "### Histogram of car prices"
   ]
  },
  {
   "cell_type": "code",
   "execution_count": 23,
   "metadata": {},
   "outputs": [
    {
     "data": {
      "text/plain": [
       "(array([1.357e+03, 1.244e+03, 6.500e+02, 3.360e+02, 1.780e+02, 9.900e+01,\n",
       "        4.200e+01, 1.400e+01, 2.100e+01, 1.200e+01, 1.000e+01, 4.000e+00,\n",
       "        1.000e+00, 3.000e+00, 2.000e+00, 1.000e+00, 0.000e+00, 1.000e+00,\n",
       "        0.000e+00, 1.000e+00, 0.000e+00, 0.000e+00, 0.000e+00, 0.000e+00,\n",
       "        1.000e+00, 0.000e+00, 2.000e+00, 0.000e+00, 0.000e+00, 1.000e+00]),\n",
       " array([1.60000000e+02, 1.44213333e+04, 2.86826667e+04, 4.29440000e+04,\n",
       "        5.72053333e+04, 7.14666667e+04, 8.57280000e+04, 9.99893333e+04,\n",
       "        1.14250667e+05, 1.28512000e+05, 1.42773333e+05, 1.57034667e+05,\n",
       "        1.71296000e+05, 1.85557333e+05, 1.99818667e+05, 2.14080000e+05,\n",
       "        2.28341333e+05, 2.42602667e+05, 2.56864000e+05, 2.71125333e+05,\n",
       "        2.85386667e+05, 2.99648000e+05, 3.13909333e+05, 3.28170667e+05,\n",
       "        3.42432000e+05, 3.56693333e+05, 3.70954667e+05, 3.85216000e+05,\n",
       "        3.99477333e+05, 4.13738667e+05, 4.28000000e+05]),\n",
       " <BarContainer object of 30 artists>)"
      ]
     },
     "execution_count": 23,
     "metadata": {},
     "output_type": "execute_result"
    },
    {
     "data": {
      "image/png": "[encoded data removed]",
      "text/plain": [
       "<Figure size 640x480 with 1 Axes>"
      ]
     },
     "metadata": {},
     "output_type": "display_data"
    }
   ],
   "source": [
    "# Plotting the histogram of car prices\n",
    "plt.hist(df.cars['Price_numeric'], bins=30, edgecolor='black')\n"
   ]
  }
 ],
 "metadata": {
  "kernelspec": {
   "display_name": "Python 3",
   "language": "python",
   "name": "python3"
  },
  "language_info": {
   "codemirror_mode": {
    "name": "ipython",
    "version": 3
   },
   "file_extension": ".py",
   "mimetype": "text/x-python",
   "name": "python",
   "nbconvert_exporter": "python",
   "pygments_lexer": "ipython3",
   "version": "3.11.10"
  },
  "orig_nbformat": 4
 },
 "nbformat": 4,
 "nbformat_minor": 2
}
