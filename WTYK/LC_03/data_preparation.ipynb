{
 "cells": [
  {
   "cell_type": "markdown",
   "metadata": {},
   "source": [
    "## Exercises large classes (Week_03)"
   ]
  },
  {
   "cell_type": "markdown",
   "metadata": {},
   "source": [
    "## 1. Working with strings"
   ]
  },
  {
   "cell_type": "markdown",
   "metadata": {},
   "source": [
    "### a) Import car dataset"
   ]
  },
  {
   "cell_type": "code",
   "execution_count": 13,
   "metadata": {},
   "outputs": [],
   "source": [
    "# Iport the necessary libraries\n",
    "import re\n",
    "import numpy as np\n",
    "import pandas as pd\n",
    "import matplotlib.pyplot as plt\n",
    "\n",
    "\n",
    "# Read the data 'cars_autoscout24.csv' into a DataFrame\n",
    "\n",
    "\n",
    "\n",
    "# Change column names to lowercase\n"
   ]
  },
  {
   "cell_type": "markdown",
   "metadata": {},
   "source": [
    "### b) Create a new variable 'str_len' containing the length of each string in the variable 'description'."
   ]
  },
  {
   "cell_type": "code",
   "execution_count": 14,
   "metadata": {},
   "outputs": [],
   "source": [
    "# Create a new variable 'str_len' containing the length of each string in the variable 'description'\n",
    "\n",
    "\n",
    "# Plot a histogram of the variable 'str_len'\n",
    "\n"
   ]
  },
  {
   "cell_type": "markdown",
   "metadata": {},
   "source": [
    "### c) Create a new variable 'description_upper' from 'description' containing only uppercase letters"
   ]
  },
  {
   "cell_type": "code",
   "execution_count": 15,
   "metadata": {},
   "outputs": [],
   "source": [
    "# Create a new variable 'description_upper' from 'description' containing only uppercase letters\n"
   ]
  },
  {
   "cell_type": "markdown",
   "metadata": {},
   "source": [
    "### d) Remove all leading and trailing empty spaces in 'description_upper'"
   ]
  },
  {
   "cell_type": "code",
   "execution_count": 16,
   "metadata": {},
   "outputs": [],
   "source": [
    "# Remove all leading and trailing empty spaces in 'description_upper'\n"
   ]
  },
  {
   "cell_type": "markdown",
   "metadata": {},
   "source": [
    "## 2.) Working with Regular expressions (regex)"
   ]
  },
  {
   "cell_type": "markdown",
   "metadata": {},
   "source": [
    "### a) Extract the price as numerical value"
   ]
  },
  {
   "cell_type": "code",
   "execution_count": 17,
   "metadata": {},
   "outputs": [],
   "source": [
    "# Function to extract numerical values from the price column\n",
    "def extract_numerical_value(price):\n",
    "    # Use regex to extract numerical values\n",
    "    match = re.search(r\"(\\d+\\'\\d+)\", price)\n",
    "    if match:\n",
    "        # Remove the thousands separator and convert to integer\n",
    "        return float(match.group().replace(\"'\", ''))\n",
    "    else:\n",
    "        return None\n",
    "\n",
    "# Apply the function\n"
   ]
  },
  {
   "cell_type": "markdown",
   "metadata": {},
   "source": [
    "### b) Extract the original price (germ.: Neupreis) from 'description_upper'"
   ]
  },
  {
   "cell_type": "code",
   "execution_count": 18,
   "metadata": {},
   "outputs": [],
   "source": [
    "# Function to extract the original price\n",
    "def extract_original_price(description):\n",
    "    # Use regex to extract numerical values\n",
    "    # Extract the numeric value of Neupreis\n",
    "    neupreis_pattern = r'NEUPREIS:\\s*CHF\\s*([\\d\\'.]+)'\n",
    "\n",
    "    # Extract the numeric value of Neupreis\n",
    "    match = re.search(neupreis_pattern, description)\n",
    "\n",
    "    if match:\n",
    "        # Remove thousands separator (')\n",
    "        return float(match.group(1).replace(\"'\", \"\"))\n",
    "    else:\n",
    "        None\n",
    "\n",
    "# Apply the function\n"
   ]
  },
  {
   "cell_type": "markdown",
   "metadata": {},
   "source": [
    "### c) Create a new binary variable 'occassion' with a value of '1' if Fahrzeugart Occasion and a value of '0' otherwise"
   ]
  },
  {
   "cell_type": "code",
   "execution_count": 19,
   "metadata": {},
   "outputs": [],
   "source": [
    "# Create a new column with the number of occassion cars\n",
    "\n",
    "\n",
    "\n",
    "# Number of occasion cars\n",
    "\n",
    "\n",
    "\n",
    "# Show the data"
   ]
  },
  {
   "cell_type": "markdown",
   "metadata": {},
   "source": [
    "## 3.) Working with pivot tables"
   ]
  },
  {
   "cell_type": "markdown",
   "metadata": {},
   "source": [
    "### a) Create a subset of the data frame with all missing and duplicated values removed "
   ]
  },
  {
   "cell_type": "code",
   "execution_count": 20,
   "metadata": {},
   "outputs": [],
   "source": [
    "# Create a subset of the data without missing values and duplicates\n",
    "\n",
    "\n",
    "\n",
    "# Check for missing values\n",
    "\n",
    "\n",
    "\n",
    "# Check for duplicated values\n"
   ]
  },
  {
   "cell_type": "markdown",
   "metadata": {},
   "source": [
    "###  b) Create a pivot table"
   ]
  },
  {
   "cell_type": "code",
   "execution_count": 21,
   "metadata": {},
   "outputs": [],
   "source": [
    "# Create a pivot table with:\n",
    "# - 'Occassion' as index variable,\n",
    "# - 'price_numeric' and 'price_original' as values\n",
    "# - np.mean (i.e. mean from the numpy library) as the aggregation function\n",
    "\n",
    "\n",
    "# Create a pivot table\n",
    "\n",
    "\n",
    "\n",
    "# Display the pivot table\n"
   ]
  }
 ],
 "metadata": {
  "kernelspec": {
   "display_name": "Python 3",
   "language": "python",
   "name": "python3"
  },
  "language_info": {
   "codemirror_mode": {
    "name": "ipython",
    "version": 3
   },
   "file_extension": ".py",
   "mimetype": "text/x-python",
   "name": "python",
   "nbconvert_exporter": "python",
   "pygments_lexer": "ipython3",
   "version": "3.11.9"
  },
  "orig_nbformat": 4
 },
 "nbformat": 4,
 "nbformat_minor": 2
}
