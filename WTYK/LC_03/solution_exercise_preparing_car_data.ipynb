{
 "cells": [
  {
   "cell_type": "markdown",
   "metadata": {},
   "source": [
    "## Exercises large classes (Week_03)"
   ]
  },
  {
   "cell_type": "markdown",
   "metadata": {},
   "source": [
    "## 1. Working with strings"
   ]
  },
  {
   "cell_type": "markdown",
   "metadata": {},
   "source": [
    "### a) Import car dataset"
   ]
  },
  {
   "cell_type": "code",
   "execution_count": null,
   "metadata": {},
   "outputs": [],
   "source": [
    "# Iport the necessary libraries\n",
    "import re\n",
    "import numpy as np\n",
    "import pandas as pd\n",
    "import matplotlib.pyplot as plt\n",
    "\n",
    "# Read the data 'cars_autoscout24.csv' into a DataFrame\n",
    "df = pd.read_csv('cars_autoscout24.csv', sep=';')\n",
    "\n",
    "# Change column names to lowercase\n",
    "df.columns = df.columns.str.lower()\n",
    "\n",
    "# Display the first 5 rows of the DataFrame\n",
    "df.head()"
   ]
  },
  {
   "cell_type": "markdown",
   "metadata": {},
   "source": [
    "### b) Create a new variable 'str_len' containing the length of each string in the variable 'description'."
   ]
  },
  {
   "cell_type": "code",
   "execution_count": null,
   "metadata": {},
   "outputs": [],
   "source": [
    "# Create a new variable 'str_len' containing the length of each string in the variable 'description'\n",
    "df['str_len'] = df['description'].apply(len)\n",
    "\n",
    "# Plot a histogram of the variable 'str_len'\n",
    "plt.figure(figsize=(7, 5))\n",
    "plt.hist(df['str_len'], bins=50, color='steelblue')\n",
    "plt.title('Histogram of the variable \"str_len\"')\n",
    "plt.xlabel('String length')\n",
    "plt.ylabel('Frequency')\n",
    "plt.grid()\n",
    "plt.show()\n"
   ]
  },
  {
   "cell_type": "markdown",
   "metadata": {},
   "source": [
    "### c) Create a new variable 'description_upper' from 'description' containing only uppercase letters"
   ]
  },
  {
   "cell_type": "code",
   "execution_count": null,
   "metadata": {},
   "outputs": [],
   "source": [
    "# Create a new variable 'description_upper' from 'description'\n",
    "df['description_upper'] = df['description'].str.upper()\n",
    "\n",
    "# Display the first 5 rows of the DataFrame\n",
    "df[['description', 'description_upper']]"
   ]
  },
  {
   "cell_type": "markdown",
   "metadata": {},
   "source": [
    "### d) Remove all leading and trailing empty spaces in 'description_upper'"
   ]
  },
  {
   "cell_type": "code",
   "execution_count": null,
   "metadata": {},
   "outputs": [],
   "source": [
    "# Remove all leading and trailing empty spaces in 'description_upper'\n",
    "df['description_upper'] = df['description_upper'].str.strip()\n",
    "\n",
    "# Display the first 5 rows of the DataFrame\n",
    "df['description_upper'].head()"
   ]
  },
  {
   "cell_type": "markdown",
   "metadata": {},
   "source": [
    "## 2.) Working with Regular expressions (regex)"
   ]
  },
  {
   "cell_type": "markdown",
   "metadata": {},
   "source": [
    "### a) Extract the price as numerical value"
   ]
  },
  {
   "cell_type": "code",
   "execution_count": null,
   "metadata": {},
   "outputs": [],
   "source": [
    "# Function to extract numerical values from the price column\n",
    "def extract_numerical_value(price):\n",
    "    # Use regex to extract numerical values\n",
    "    match = re.search(r\"(\\d+\\'\\d+)\", price)\n",
    "    if match:\n",
    "        # Remove the thousands separator and convert to integer\n",
    "        return float(match.group().replace(\"'\", ''))\n",
    "    else:\n",
    "        return None\n",
    "\n",
    "# Apply the function\n",
    "df['price'] = df['price_raw'].apply(extract_numerical_value)\n",
    "\n",
    "# Show pice_raw and price columns\n",
    "df[['price_raw', 'price']].head()"
   ]
  },
  {
   "cell_type": "markdown",
   "metadata": {},
   "source": [
    "### b) Extract the original price (germ.: Neupreis) from 'description_upper'"
   ]
  },
  {
   "cell_type": "code",
   "execution_count": null,
   "metadata": {},
   "outputs": [],
   "source": [
    "# Function to extract the original price\n",
    "def extract_original_price(description):\n",
    "    # Use regex to extract numerical values\n",
    "    # Extract the numeric value of Neupreis\n",
    "    neupreis_pattern = r'NEUPREIS:\\s*CHF\\s*([\\d\\'.]+)'\n",
    "\n",
    "    # Extract the numeric value of Neupreis\n",
    "    match = re.search(neupreis_pattern, description)\n",
    "\n",
    "    if match:\n",
    "        # Remove thousands separator (')\n",
    "        return float(match.group(1).replace(\"'\", \"\"))\n",
    "    else:\n",
    "        None\n",
    "\n",
    "# Apply the function\n",
    "df['price_original'] = df['description_upper'].apply(extract_original_price)\n",
    "\n",
    "# Show the price and original price\n",
    "df[['price', 'price_original']]"
   ]
  },
  {
   "cell_type": "markdown",
   "metadata": {},
   "source": [
    "### c) Create a new binary variable 'occassion' with a value of '1' if Fahrzeugart Occasion and a value of '0' otherwise"
   ]
  },
  {
   "cell_type": "code",
   "execution_count": null,
   "metadata": {},
   "outputs": [],
   "source": [
    "# Create a new column with the number of occassion cars\n",
    "df['occassion'] = df['description_upper'].str.contains(pat = 'OCCASION').astype(int)\n",
    "\n",
    "# Number of occasion cars\n",
    "print(df['occassion'].sum())\n",
    "\n",
    "# Show the data\n",
    "df.head()"
   ]
  },
  {
   "cell_type": "markdown",
   "metadata": {},
   "source": [
    "## 3.) Working with pivot tables"
   ]
  },
  {
   "cell_type": "markdown",
   "metadata": {},
   "source": [
    "### a) Create a subset of the data frame with all missing and duplicated values removed "
   ]
  },
  {
   "cell_type": "code",
   "execution_count": null,
   "metadata": {},
   "outputs": [],
   "source": [
    "# Create a subset of the data without missing values and duplicates\n",
    "df_sub = df.dropna().drop_duplicates()\n",
    "df_sub.head()\n",
    "\n",
    "# Check for missing values\n",
    "print('Missing values per variable:')\n",
    "print(df_sub.isna().sum())\n",
    "\n",
    "# Check for duplicated values\n",
    "print('\\nDuplicated values:')\n",
    "print(df_sub.duplicated().sum())"
   ]
  },
  {
   "cell_type": "markdown",
   "metadata": {},
   "source": [
    "###  b) Create a pivot table"
   ]
  },
  {
   "cell_type": "code",
   "execution_count": null,
   "metadata": {},
   "outputs": [],
   "source": [
    "# Create a pivot table with:\n",
    "# - 'Occassion' as index variable,\n",
    "# - 'Price_numeric' and 'Price_orinigal' as values\n",
    "# - np.mean (i.e. mean from the numpy library) as the aggregation function\n",
    "\n",
    "# Create a pivot table\n",
    "pivot_table = pd.pivot_table(\n",
    "    df_sub[['price', 'price_original', 'occassion']],\n",
    "    index='occassion',\n",
    "    values=['price', 'price_original'],\n",
    "    aggfunc='mean').round(1)\n",
    "\n",
    "# Display the pivot table\n",
    "pivot_table"
   ]
  }
 ],
 "metadata": {
  "kernelspec": {
   "display_name": "Python 3",
   "language": "python",
   "name": "python3"
  },
  "language_info": {
   "codemirror_mode": {
    "name": "ipython",
    "version": 3
   },
   "file_extension": ".py",
   "mimetype": "text/x-python",
   "name": "python",
   "nbconvert_exporter": "python",
   "pygments_lexer": "ipython3",
   "version": "3.11.9"
  },
  "orig_nbformat": 4
 },
 "nbformat": 4,
 "nbformat_minor": 2
}
