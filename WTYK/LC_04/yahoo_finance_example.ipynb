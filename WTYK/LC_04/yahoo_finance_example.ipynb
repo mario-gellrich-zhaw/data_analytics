{
 "cells": [
  {
   "cell_type": "markdown",
   "metadata": {},
   "source": [
    "# Stock market analysis using data from the Yahoo-Finance Web API"
   ]
  },
  {
   "cell_type": "markdown",
   "metadata": {},
   "source": [
    "## Libraries and settings"
   ]
  },
  {
   "cell_type": "code",
   "execution_count": 2,
   "metadata": {},
   "outputs": [
    {
     "name": "stdout",
     "output_type": "stream",
     "text": [
      "/workspaces/data_analytics/WTYK/LC_04\n"
     ]
    }
   ],
   "source": [
    "# Libraries\n",
    "import os\n",
    "import pandas as pd\n",
    "import seaborn as sns\n",
    "from datetime import datetime\n",
    "import matplotlib.pyplot as plt\n",
    "\n",
    "# Install additional library yfinance\n",
    "import yfinance as yf\n",
    "\n",
    "# Settings\n",
    "import warnings\n",
    "warnings.filterwarnings(\"ignore\")\n",
    "\n",
    "# Current working directory\n",
    "print(os.getcwd())"
   ]
  },
  {
   "cell_type": "markdown",
   "metadata": {},
   "source": [
    "## 1.) Get data for the stock TSLA (Tesla) from Yahoo Finance"
   ]
  },
  {
   "cell_type": "code",
   "execution_count": 3,
   "metadata": {},
   "outputs": [
    {
     "name": "stderr",
     "output_type": "stream",
     "text": [
      "[*********************100%***********************]  1 of 1 completed\n"
     ]
    },
    {
     "data": {
      "text/html": [
       "<div>\n",
       "<style scoped>\n",
       "    .dataframe tbody tr th:only-of-type {\n",
       "        vertical-align: middle;\n",
       "    }\n",
       "\n",
       "    .dataframe tbody tr th {\n",
       "        vertical-align: top;\n",
       "    }\n",
       "\n",
       "    .dataframe thead th {\n",
       "        text-align: right;\n",
       "    }\n",
       "</style>\n",
       "<table border=\"1\" class=\"dataframe\">\n",
       "  <thead>\n",
       "    <tr style=\"text-align: right;\">\n",
       "      <th></th>\n",
       "      <th>Open</th>\n",
       "      <th>High</th>\n",
       "      <th>Low</th>\n",
       "      <th>Close</th>\n",
       "      <th>Adj Close</th>\n",
       "      <th>Volume</th>\n",
       "    </tr>\n",
       "    <tr>\n",
       "      <th>Date</th>\n",
       "      <th></th>\n",
       "      <th></th>\n",
       "      <th></th>\n",
       "      <th></th>\n",
       "      <th></th>\n",
       "      <th></th>\n",
       "    </tr>\n",
       "  </thead>\n",
       "  <tbody>\n",
       "    <tr>\n",
       "      <th>2020-01-02</th>\n",
       "      <td>28.299999</td>\n",
       "      <td>28.713333</td>\n",
       "      <td>28.114000</td>\n",
       "      <td>28.684000</td>\n",
       "      <td>28.684000</td>\n",
       "      <td>142981500</td>\n",
       "    </tr>\n",
       "    <tr>\n",
       "      <th>2020-01-03</th>\n",
       "      <td>29.366667</td>\n",
       "      <td>30.266666</td>\n",
       "      <td>29.128000</td>\n",
       "      <td>29.534000</td>\n",
       "      <td>29.534000</td>\n",
       "      <td>266677500</td>\n",
       "    </tr>\n",
       "    <tr>\n",
       "      <th>2020-01-06</th>\n",
       "      <td>29.364668</td>\n",
       "      <td>30.104000</td>\n",
       "      <td>29.333332</td>\n",
       "      <td>30.102667</td>\n",
       "      <td>30.102667</td>\n",
       "      <td>151995000</td>\n",
       "    </tr>\n",
       "    <tr>\n",
       "      <th>2020-01-07</th>\n",
       "      <td>30.760000</td>\n",
       "      <td>31.441999</td>\n",
       "      <td>30.224001</td>\n",
       "      <td>31.270666</td>\n",
       "      <td>31.270666</td>\n",
       "      <td>268231500</td>\n",
       "    </tr>\n",
       "    <tr>\n",
       "      <th>2020-01-08</th>\n",
       "      <td>31.580000</td>\n",
       "      <td>33.232666</td>\n",
       "      <td>31.215334</td>\n",
       "      <td>32.809334</td>\n",
       "      <td>32.809334</td>\n",
       "      <td>467164500</td>\n",
       "    </tr>\n",
       "    <tr>\n",
       "      <th>...</th>\n",
       "      <td>...</td>\n",
       "      <td>...</td>\n",
       "      <td>...</td>\n",
       "      <td>...</td>\n",
       "      <td>...</td>\n",
       "      <td>...</td>\n",
       "    </tr>\n",
       "    <tr>\n",
       "      <th>2024-09-30</th>\n",
       "      <td>259.040009</td>\n",
       "      <td>264.859985</td>\n",
       "      <td>255.770004</td>\n",
       "      <td>261.630005</td>\n",
       "      <td>261.630005</td>\n",
       "      <td>80705700</td>\n",
       "    </tr>\n",
       "    <tr>\n",
       "      <th>2024-10-01</th>\n",
       "      <td>262.670013</td>\n",
       "      <td>263.980011</td>\n",
       "      <td>248.529999</td>\n",
       "      <td>258.019989</td>\n",
       "      <td>258.019989</td>\n",
       "      <td>87397600</td>\n",
       "    </tr>\n",
       "    <tr>\n",
       "      <th>2024-10-02</th>\n",
       "      <td>247.550003</td>\n",
       "      <td>251.160004</td>\n",
       "      <td>241.500000</td>\n",
       "      <td>249.020004</td>\n",
       "      <td>249.020004</td>\n",
       "      <td>93983900</td>\n",
       "    </tr>\n",
       "    <tr>\n",
       "      <th>2024-10-03</th>\n",
       "      <td>244.479996</td>\n",
       "      <td>249.789993</td>\n",
       "      <td>237.809998</td>\n",
       "      <td>240.660004</td>\n",
       "      <td>240.660004</td>\n",
       "      <td>80729200</td>\n",
       "    </tr>\n",
       "    <tr>\n",
       "      <th>2024-10-04</th>\n",
       "      <td>246.690002</td>\n",
       "      <td>250.960007</td>\n",
       "      <td>244.580002</td>\n",
       "      <td>250.080002</td>\n",
       "      <td>250.080002</td>\n",
       "      <td>86573200</td>\n",
       "    </tr>\n",
       "  </tbody>\n",
       "</table>\n",
       "<p>1198 rows × 6 columns</p>\n",
       "</div>"
      ],
      "text/plain": [
       "                  Open        High         Low       Close   Adj Close  \\\n",
       "Date                                                                     \n",
       "2020-01-02   28.299999   28.713333   28.114000   28.684000   28.684000   \n",
       "2020-01-03   29.366667   30.266666   29.128000   29.534000   29.534000   \n",
       "2020-01-06   29.364668   30.104000   29.333332   30.102667   30.102667   \n",
       "2020-01-07   30.760000   31.441999   30.224001   31.270666   31.270666   \n",
       "2020-01-08   31.580000   33.232666   31.215334   32.809334   32.809334   \n",
       "...                ...         ...         ...         ...         ...   \n",
       "2024-09-30  259.040009  264.859985  255.770004  261.630005  261.630005   \n",
       "2024-10-01  262.670013  263.980011  248.529999  258.019989  258.019989   \n",
       "2024-10-02  247.550003  251.160004  241.500000  249.020004  249.020004   \n",
       "2024-10-03  244.479996  249.789993  237.809998  240.660004  240.660004   \n",
       "2024-10-04  246.690002  250.960007  244.580002  250.080002  250.080002   \n",
       "\n",
       "               Volume  \n",
       "Date                   \n",
       "2020-01-02  142981500  \n",
       "2020-01-03  266677500  \n",
       "2020-01-06  151995000  \n",
       "2020-01-07  268231500  \n",
       "2020-01-08  467164500  \n",
       "...               ...  \n",
       "2024-09-30   80705700  \n",
       "2024-10-01   87397600  \n",
       "2024-10-02   93983900  \n",
       "2024-10-03   80729200  \n",
       "2024-10-04   86573200  \n",
       "\n",
       "[1198 rows x 6 columns]"
      ]
     },
     "execution_count": 3,
     "metadata": {},
     "output_type": "execute_result"
    }
   ],
   "source": [
    "# Get current date from datetime in the format YYYY-MM-DD\n",
    "today = datetime.today().strftime('%Y-%m-%d')\n",
    "today\n",
    "\n",
    "# Retrieve the TESLA stock data from Yahoo finance using yf.download\n",
    "df = yf.download('TSLA', start='2020-01-01', end=today)\n",
    "df"
   ]
  },
  {
   "cell_type": "markdown",
   "metadata": {},
   "source": [
    "## 2.) Apply non-graphical Exploratory Data Analysis (EDA) methods"
   ]
  },
  {
   "cell_type": "markdown",
   "metadata": {},
   "source": [
    "### a) What are the values for min, max. mean and median of the close price?"
   ]
  },
  {
   "cell_type": "code",
   "execution_count": 4,
   "metadata": {},
   "outputs": [
    {
     "data": {
      "text/html": [
       "<div>\n",
       "<style scoped>\n",
       "    .dataframe tbody tr th:only-of-type {\n",
       "        vertical-align: middle;\n",
       "    }\n",
       "\n",
       "    .dataframe tbody tr th {\n",
       "        vertical-align: top;\n",
       "    }\n",
       "\n",
       "    .dataframe thead th {\n",
       "        text-align: right;\n",
       "    }\n",
       "</style>\n",
       "<table border=\"1\" class=\"dataframe\">\n",
       "  <thead>\n",
       "    <tr style=\"text-align: right;\">\n",
       "      <th></th>\n",
       "      <th>Open</th>\n",
       "      <th>High</th>\n",
       "      <th>Low</th>\n",
       "      <th>Close</th>\n",
       "      <th>Adj Close</th>\n",
       "      <th>Volume</th>\n",
       "    </tr>\n",
       "  </thead>\n",
       "  <tbody>\n",
       "    <tr>\n",
       "      <th>count</th>\n",
       "      <td>1198.000000</td>\n",
       "      <td>1198.000000</td>\n",
       "      <td>1198.000000</td>\n",
       "      <td>1198.000000</td>\n",
       "      <td>1198.000000</td>\n",
       "      <td>1.198000e+03</td>\n",
       "    </tr>\n",
       "    <tr>\n",
       "      <th>mean</th>\n",
       "      <td>207.816478</td>\n",
       "      <td>212.477648</td>\n",
       "      <td>202.851071</td>\n",
       "      <td>207.764899</td>\n",
       "      <td>207.764899</td>\n",
       "      <td>1.271780e+08</td>\n",
       "    </tr>\n",
       "    <tr>\n",
       "      <th>std</th>\n",
       "      <td>79.703253</td>\n",
       "      <td>81.290256</td>\n",
       "      <td>77.825242</td>\n",
       "      <td>79.526874</td>\n",
       "      <td>79.526874</td>\n",
       "      <td>8.328369e+07</td>\n",
       "    </tr>\n",
       "    <tr>\n",
       "      <th>min</th>\n",
       "      <td>24.980000</td>\n",
       "      <td>26.990667</td>\n",
       "      <td>23.367332</td>\n",
       "      <td>24.081333</td>\n",
       "      <td>24.081333</td>\n",
       "      <td>2.940180e+07</td>\n",
       "    </tr>\n",
       "    <tr>\n",
       "      <th>25%</th>\n",
       "      <td>171.742496</td>\n",
       "      <td>175.087502</td>\n",
       "      <td>167.445000</td>\n",
       "      <td>171.767494</td>\n",
       "      <td>171.767494</td>\n",
       "      <td>7.637445e+07</td>\n",
       "    </tr>\n",
       "    <tr>\n",
       "      <th>50%</th>\n",
       "      <td>217.821671</td>\n",
       "      <td>222.250000</td>\n",
       "      <td>212.279999</td>\n",
       "      <td>217.606667</td>\n",
       "      <td>217.606667</td>\n",
       "      <td>1.031929e+08</td>\n",
       "    </tr>\n",
       "    <tr>\n",
       "      <th>75%</th>\n",
       "      <td>255.309998</td>\n",
       "      <td>260.262505</td>\n",
       "      <td>250.442505</td>\n",
       "      <td>255.852497</td>\n",
       "      <td>255.852497</td>\n",
       "      <td>1.469126e+08</td>\n",
       "    </tr>\n",
       "    <tr>\n",
       "      <th>max</th>\n",
       "      <td>411.470001</td>\n",
       "      <td>414.496674</td>\n",
       "      <td>405.666656</td>\n",
       "      <td>409.970001</td>\n",
       "      <td>409.970001</td>\n",
       "      <td>9.140820e+08</td>\n",
       "    </tr>\n",
       "  </tbody>\n",
       "</table>\n",
       "</div>"
      ],
      "text/plain": [
       "              Open         High          Low        Close    Adj Close  \\\n",
       "count  1198.000000  1198.000000  1198.000000  1198.000000  1198.000000   \n",
       "mean    207.816478   212.477648   202.851071   207.764899   207.764899   \n",
       "std      79.703253    81.290256    77.825242    79.526874    79.526874   \n",
       "min      24.980000    26.990667    23.367332    24.081333    24.081333   \n",
       "25%     171.742496   175.087502   167.445000   171.767494   171.767494   \n",
       "50%     217.821671   222.250000   212.279999   217.606667   217.606667   \n",
       "75%     255.309998   260.262505   250.442505   255.852497   255.852497   \n",
       "max     411.470001   414.496674   405.666656   409.970001   409.970001   \n",
       "\n",
       "             Volume  \n",
       "count  1.198000e+03  \n",
       "mean   1.271780e+08  \n",
       "std    8.328369e+07  \n",
       "min    2.940180e+07  \n",
       "25%    7.637445e+07  \n",
       "50%    1.031929e+08  \n",
       "75%    1.469126e+08  \n",
       "max    9.140820e+08  "
      ]
     },
     "execution_count": 4,
     "metadata": {},
     "output_type": "execute_result"
    }
   ],
   "source": [
    "# Describe the dataframe\n",
    "df.describe()"
   ]
  },
  {
   "cell_type": "markdown",
   "metadata": {},
   "source": [
    "### b) What is the 10% Quantile and 90% quantile of close price?"
   ]
  },
  {
   "cell_type": "code",
   "execution_count": 5,
   "metadata": {},
   "outputs": [
    {
     "data": {
      "text/html": [
       "<div>\n",
       "<style scoped>\n",
       "    .dataframe tbody tr th:only-of-type {\n",
       "        vertical-align: middle;\n",
       "    }\n",
       "\n",
       "    .dataframe tbody tr th {\n",
       "        vertical-align: top;\n",
       "    }\n",
       "\n",
       "    .dataframe thead th {\n",
       "        text-align: right;\n",
       "    }\n",
       "</style>\n",
       "<table border=\"1\" class=\"dataframe\">\n",
       "  <thead>\n",
       "    <tr style=\"text-align: right;\">\n",
       "      <th></th>\n",
       "      <th>Open</th>\n",
       "      <th>High</th>\n",
       "      <th>Low</th>\n",
       "      <th>Close</th>\n",
       "      <th>Adj Close</th>\n",
       "      <th>Volume</th>\n",
       "    </tr>\n",
       "  </thead>\n",
       "  <tbody>\n",
       "    <tr>\n",
       "      <th>0.1</th>\n",
       "      <td>66.641932</td>\n",
       "      <td>67.669530</td>\n",
       "      <td>65.852335</td>\n",
       "      <td>66.767733</td>\n",
       "      <td>66.767733</td>\n",
       "      <td>59849160.0</td>\n",
       "    </tr>\n",
       "    <tr>\n",
       "      <th>0.9</th>\n",
       "      <td>299.995343</td>\n",
       "      <td>306.049997</td>\n",
       "      <td>291.648007</td>\n",
       "      <td>299.769998</td>\n",
       "      <td>299.769998</td>\n",
       "      <td>224414700.0</td>\n",
       "    </tr>\n",
       "  </tbody>\n",
       "</table>\n",
       "</div>"
      ],
      "text/plain": [
       "           Open        High         Low       Close   Adj Close       Volume\n",
       "0.1   66.641932   67.669530   65.852335   66.767733   66.767733   59849160.0\n",
       "0.9  299.995343  306.049997  291.648007  299.769998  299.769998  224414700.0"
      ]
     },
     "execution_count": 5,
     "metadata": {},
     "output_type": "execute_result"
    }
   ],
   "source": [
    "# Calculate quantiles for the dataframe (10% and 90%)\n",
    "df.quantile([0.1, 0.9])"
   ]
  },
  {
   "cell_type": "markdown",
   "metadata": {},
   "source": [
    "## 3.) Apply graphical Exploratory Data Analysis (EDA) methods"
   ]
  },
  {
   "cell_type": "markdown",
   "metadata": {},
   "source": [
    "### a) Create a line chart of the close price"
   ]
  },
  {
   "cell_type": "code",
   "execution_count": 6,
   "metadata": {},
   "outputs": [
    {
     "data": {
      "text/plain": [
       "<Axes: xlabel='Date', ylabel='Close'>"
      ]
     },
     "execution_count": 6,
     "metadata": {},
     "output_type": "execute_result"
    },
    {
     "data": {
      "image/png": "[encoded data removed]",
      "text/plain": [
       "<Figure size 1200x600 with 1 Axes>"
      ]
     },
     "metadata": {},
     "output_type": "display_data"
    }
   ],
   "source": [
    "# Create a line chart of the close price\n",
    "plt.figure(figsize=(12, 6))\n",
    "sns.lineplot(data=df['Close'])\n",
    "\n",
    "# Set the title and axis labels\n",
    "\n",
    "\n",
    "# Add a legend to the axis\n",
    "\n",
    "\n",
    "# Add grid\n",
    "\n",
    "\n",
    "# Show the plot\n"
   ]
  },
  {
   "cell_type": "markdown",
   "metadata": {},
   "source": [
    "### b) Create a histogram of the close price"
   ]
  },
  {
   "cell_type": "code",
   "execution_count": 7,
   "metadata": {},
   "outputs": [],
   "source": [
    "# Create a histogram of the close price\n",
    "\n",
    "\n",
    "# Plot settings\n",
    "\n",
    "\n",
    "# Show the plot\n"
   ]
  },
  {
   "cell_type": "markdown",
   "metadata": {},
   "source": [
    "### c) Create a boxplot of the close price"
   ]
  },
  {
   "cell_type": "code",
   "execution_count": 13,
   "metadata": {},
   "outputs": [
    {
     "data": {
      "image/png": "[encoded data removed]",
      "text/plain": [
       "<Figure size 800x150 with 1 Axes>"
      ]
     },
     "metadata": {},
     "output_type": "display_data"
    }
   ],
   "source": [
    "# Create a boxplot of the close price\n",
    "plt.figure(figsize=(8, 1.5))\n",
    "sns.boxplot(data=df['Close'], orient='h', color='skyblue')\n",
    "plt.title('Boxplot of Close Price')\n",
    "plt.xlabel('Close Price')\n",
    "plt.show()\n",
    "# Show the plot\n"
   ]
  },
  {
   "attachments": {},
   "cell_type": "markdown",
   "metadata": {},
   "source": [
    "### Jupyter notebook --footer info-- (please always provide this at the end of each notebook)"
   ]
  },
  {
   "cell_type": "code",
   "execution_count": 9,
   "metadata": {},
   "outputs": [
    {
     "name": "stdout",
     "output_type": "stream",
     "text": [
      "-----------------------------------\n",
      "POSIX\n",
      "Linux | 6.5.0-1025-azure\n",
      "Datetime: 2024-10-07 15:16:15\n",
      "Python Version: 3.11.10\n",
      "-----------------------------------\n"
     ]
    }
   ],
   "source": [
    "import os\n",
    "import platform\n",
    "import socket\n",
    "from platform import python_version\n",
    "from datetime import datetime\n",
    "\n",
    "print('-----------------------------------')\n",
    "print(os.name.upper())\n",
    "print(platform.system(), '|', platform.release())\n",
    "print('Datetime:', datetime.now().strftime(\"%Y-%m-%d %H:%M:%S\"))\n",
    "print('Python Version:', python_version())\n",
    "print('-----------------------------------')"
   ]
  }
 ],
 "metadata": {
  "kernelspec": {
   "display_name": "Python 3",
   "language": "python",
   "name": "python3"
  },
  "language_info": {
   "codemirror_mode": {
    "name": "ipython",
    "version": 3
   },
   "file_extension": ".py",
   "mimetype": "text/x-python",
   "name": "python",
   "nbconvert_exporter": "python",
   "pygments_lexer": "ipython3",
   "version": "3.11.10"
  }
 },
 "nbformat": 4,
 "nbformat_minor": 2
}
